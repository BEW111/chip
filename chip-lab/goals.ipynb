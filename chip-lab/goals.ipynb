{
 "cells": [
  {
   "cell_type": "code",
   "execution_count": 1,
   "metadata": {},
   "outputs": [],
   "source": [
    "import numpy as np\n",
    "import pandas as pd\n",
    "\n",
    "import gensim\n",
    "import nltk\n",
    "import stanza"
   ]
  },
  {
   "cell_type": "markdown",
   "metadata": {},
   "source": [
    "## Downloads"
   ]
  },
  {
   "cell_type": "code",
   "execution_count": 2,
   "metadata": {},
   "outputs": [
    {
     "name": "stderr",
     "output_type": "stream",
     "text": [
      "[nltk_data] Downloading package omw-1.4 to\n",
      "[nltk_data]     /Users/brianwilliams/nltk_data...\n",
      "[nltk_data]   Package omw-1.4 is already up-to-date!\n"
     ]
    },
    {
     "data": {
      "application/json": {
       "ascii": false,
       "bar_format": null,
       "colour": null,
       "elapsed": 0.014723062515258789,
       "initial": 0,
       "n": 0,
       "ncols": null,
       "nrows": null,
       "postfix": null,
       "prefix": "Downloading https://raw.githubusercontent.com/stanfordnlp/stanza-resources/main/resources_1.4.0.json",
       "rate": null,
       "total": 25998,
       "unit": "B",
       "unit_divisor": 1000,
       "unit_scale": true
      },
      "application/vnd.jupyter.widget-view+json": {
       "model_id": "0d8c2e4f1f3444f9b1fcbed724cbbc44",
       "version_major": 2,
       "version_minor": 0
      },
      "text/plain": [
       "Downloading https://raw.githubusercontent.com/stanfordnlp/stanza-resources/main/resources_1.4.0.json:   0%|   …"
      ]
     },
     "metadata": {},
     "output_type": "display_data"
    },
    {
     "name": "stderr",
     "output_type": "stream",
     "text": [
      "2022-09-18 21:31:20 WARNING: Can not find mwt: default from official model list. Ignoring it.\n",
      "2022-09-18 21:31:21 INFO: Loading these models for language: en (English):\n",
      "=========================\n",
      "| Processor | Package   |\n",
      "-------------------------\n",
      "| tokenize  | combined  |\n",
      "| pos       | combined  |\n",
      "| lemma     | combined  |\n",
      "| depparse  | combined  |\n",
      "| ner       | ontonotes |\n",
      "=========================\n",
      "\n",
      "2022-09-18 21:31:21 INFO: Use device: cpu\n",
      "2022-09-18 21:31:21 INFO: Loading: tokenize\n",
      "2022-09-18 21:31:21 INFO: Loading: pos\n",
      "2022-09-18 21:31:21 INFO: Loading: lemma\n",
      "2022-09-18 21:31:21 INFO: Loading: depparse\n",
      "2022-09-18 21:31:21 INFO: Loading: ner\n",
      "2022-09-18 21:31:22 INFO: Done loading processors!\n"
     ]
    }
   ],
   "source": [
    "import gensim.downloader as gensim_api\n",
    "from gensim.models.doc2vec import Doc2Vec, TaggedDocument\n",
    "from sentence_transformers import SentenceTransformer, util\n",
    "from transformers import pipeline\n",
    "from nltk.corpus import wordnet\n",
    "\n",
    "nltk.download('omw-1.4')\n",
    "\n",
    "nlp = stanza.Pipeline(lang='en', processors='tokenize,mwt,pos,lemma,depparse,ner')\n",
    "wv = gensim_api.load('fasttext-wiki-news-subwords-300')\n",
    "sentence_model = SentenceTransformer('all-MiniLM-L6-v2')\n",
    "sentiment_classifier = pipeline(\"sentiment-analysis\", model=\"distilbert-base-uncased-finetuned-sst-2-english\")"
   ]
  },
  {
   "cell_type": "markdown",
   "metadata": {},
   "source": [
    "## Load and preprocess data"
   ]
  },
  {
   "cell_type": "code",
   "execution_count": 3,
   "metadata": {},
   "outputs": [
    {
     "data": {
      "text/plain": [
       "0                                                   Blog\n",
       "1                                            Lose weight\n",
       "2                                           Write a book\n",
       "3                                   Stop procrastinating\n",
       "4                                           Fall in love\n",
       "                             ...                        \n",
       "663                                         Cooking more\n",
       "664                               Mastering bread making\n",
       "665    Volunteer as a costumed interpreter at a livin...\n",
       "666    Do more arts and crafts and nature activities ...\n",
       "667                  Traveling and visiting friends more\n",
       "Name: Goal, Length: 668, dtype: object"
      ]
     },
     "execution_count": 3,
     "metadata": {},
     "output_type": "execute_result"
    }
   ],
   "source": [
    "sheet_id = \"1Bk426YSho-npLlcpt8zTwuiVosQtGeMMJ_hj3rqZAqA\"\n",
    "sheet_name = \"main\"\n",
    "url = f\"https://docs.google.com/spreadsheets/d/{sheet_id}/gviz/tq?tqx=out:csv&sheet={sheet_name}\"\n",
    "\n",
    "goals_df = pd.read_csv(url)\n",
    "goals = goals_df[\"Goal\"].copy()\n",
    "goals = goals.str.translate(str.maketrans('', '', '.,'))\n",
    "goals"
   ]
  },
  {
   "cell_type": "markdown",
   "metadata": {},
   "source": [
    "## Sentence embeddings"
   ]
  },
  {
   "cell_type": "code",
   "execution_count": 4,
   "metadata": {},
   "outputs": [],
   "source": [
    "SIMILARITY_THRESHOLD = 0.5\n",
    "\n",
    "goal_embeddings = sentence_model.encode(goals, convert_to_tensor=True)\n",
    "cosine_scores = util.cos_sim(goal_embeddings, goal_embeddings)"
   ]
  },
  {
   "cell_type": "code",
   "execution_count": 5,
   "metadata": {},
   "outputs": [
    {
     "data": {
      "text/html": [
       "<div>\n",
       "<style scoped>\n",
       "    .dataframe tbody tr th:only-of-type {\n",
       "        vertical-align: middle;\n",
       "    }\n",
       "\n",
       "    .dataframe tbody tr th {\n",
       "        vertical-align: top;\n",
       "    }\n",
       "\n",
       "    .dataframe thead th {\n",
       "        text-align: right;\n",
       "    }\n",
       "</style>\n",
       "<table border=\"1\" class=\"dataframe\">\n",
       "  <thead>\n",
       "    <tr style=\"text-align: right;\">\n",
       "      <th></th>\n",
       "      <th>goal_x</th>\n",
       "      <th>goal_y</th>\n",
       "      <th>similarity</th>\n",
       "    </tr>\n",
       "  </thead>\n",
       "  <tbody>\n",
       "    <tr>\n",
       "      <th>0</th>\n",
       "      <td>Practice gratitude everyday</td>\n",
       "      <td>Practice gratitude daily</td>\n",
       "      <td>0.989245</td>\n",
       "    </tr>\n",
       "    <tr>\n",
       "      <th>1</th>\n",
       "      <td>Learn how to cook</td>\n",
       "      <td>learn to cook</td>\n",
       "      <td>0.976222</td>\n",
       "    </tr>\n",
       "    <tr>\n",
       "      <th>2</th>\n",
       "      <td>Learn to cook</td>\n",
       "      <td>Learn how to cook</td>\n",
       "      <td>0.976222</td>\n",
       "    </tr>\n",
       "    <tr>\n",
       "      <th>3</th>\n",
       "      <td>get 8 hours of sleep each night</td>\n",
       "      <td>get eight hours of sleep every night</td>\n",
       "      <td>0.966550</td>\n",
       "    </tr>\n",
       "    <tr>\n",
       "      <th>4</th>\n",
       "      <td>get better at communicating</td>\n",
       "      <td>be better at communicating</td>\n",
       "      <td>0.962177</td>\n",
       "    </tr>\n",
       "  </tbody>\n",
       "</table>\n",
       "</div>"
      ],
      "text/plain": [
       "                            goal_x                                goal_y  \\\n",
       "0      Practice gratitude everyday              Practice gratitude daily   \n",
       "1                Learn how to cook                         learn to cook   \n",
       "2                    Learn to cook                     Learn how to cook   \n",
       "3  get 8 hours of sleep each night  get eight hours of sleep every night   \n",
       "4      get better at communicating            be better at communicating   \n",
       "\n",
       "   similarity  \n",
       "0    0.989245  \n",
       "1    0.976222  \n",
       "2    0.976222  \n",
       "3    0.966550  \n",
       "4    0.962177  "
      ]
     },
     "execution_count": 5,
     "metadata": {},
     "output_type": "execute_result"
    }
   ],
   "source": [
    "# Rank all similarities between existing goals\n",
    "goal_similarities = pd.DataFrame(columns=[\"goal_x\", \"goal_y\", \"similarity\"])\n",
    "\n",
    "for i in range(len(goal_embeddings) - 1):\n",
    "    for j in range(i + 1, len(goal_embeddings) - 1):\n",
    "        if SIMILARITY_THRESHOLD < cosine_scores[i][j] < 0.99:\n",
    "            row = pd.DataFrame({\n",
    "                \"goal_x\": goals[i],\n",
    "                \"goal_y\": goals[j],\n",
    "                \"similarity\": float(cosine_scores[i][j])\n",
    "                }, index=[0])\n",
    "            goal_similarities = pd.concat([goal_similarities, row])\n",
    "\n",
    "goal_similarities = goal_similarities.sort_values(by=\"similarity\", ascending=False).reset_index(drop=True)\n",
    "goal_similarities.head()"
   ]
  },
  {
   "cell_type": "markdown",
   "metadata": {},
   "source": [
    "## Dependency parsing"
   ]
  },
  {
   "cell_type": "code",
   "execution_count": 6,
   "metadata": {},
   "outputs": [],
   "source": [
    "def extract_root(phrase):\n",
    "  roots = [word.lemma for sent in nlp(phrase).sentences for word in sent.words if word.deprel == 'root']\n",
    "  return roots[0] if len(roots) > 0 else None\n",
    "\n",
    "def extract_words(phrase):\n",
    "  words = [word for sent in nlp(phrase).sentences for word in sent.words]\n",
    "\n",
    "  return words"
   ]
  },
  {
   "cell_type": "code",
   "execution_count": 7,
   "metadata": {},
   "outputs": [
    {
     "data": {
      "text/plain": [
       "{'root': 'do',\n",
       " 'xcomps': [],\n",
       " 'quantities': [{'item': 'pushups', 'amount': '12'},\n",
       "  {'item': 'days', 'amount': 'three'}]}"
      ]
     },
     "execution_count": 7,
     "metadata": {},
     "output_type": "execute_result"
    }
   ],
   "source": [
    "def extract_important(phrase, asdict=False):\n",
    "  words = [word for sent in nlp(phrase).sentences for word in sent.words]\n",
    "\n",
    "  roots = [word.lemma for word in filter(lambda w: w.deprel == 'root', words)]\n",
    "  xcomps = [word.lemma for word in filter(lambda w: w.deprel == 'xcomp', words)]\n",
    "  quantities = [{\n",
    "    'item': words[word.head - 1].text,\n",
    "    'amount': word.lemma\n",
    "    } for word in filter(lambda w: w.deprel == 'nummod', words)]\n",
    "\n",
    "  root = roots[0] if len(roots) > 0 else None\n",
    "\n",
    "  important = {\n",
    "    'root': root,\n",
    "    'xcomps': xcomps,\n",
    "    'quantities': quantities\n",
    "  }\n",
    "  return list(important.values()) if not asdict else important\n",
    "\n",
    "extract_important('Do 12 pushups every three days', asdict=True)"
   ]
  },
  {
   "cell_type": "code",
   "execution_count": 8,
   "metadata": {},
   "outputs": [
    {
     "data": {
      "text/html": [
       "<div>\n",
       "<style scoped>\n",
       "    .dataframe tbody tr th:only-of-type {\n",
       "        vertical-align: middle;\n",
       "    }\n",
       "\n",
       "    .dataframe tbody tr th {\n",
       "        vertical-align: top;\n",
       "    }\n",
       "\n",
       "    .dataframe thead th {\n",
       "        text-align: right;\n",
       "    }\n",
       "</style>\n",
       "<table border=\"1\" class=\"dataframe\">\n",
       "  <thead>\n",
       "    <tr style=\"text-align: right;\">\n",
       "      <th></th>\n",
       "      <th>Goal</th>\n",
       "      <th>Source</th>\n",
       "      <th>Style</th>\n",
       "      <th>Type</th>\n",
       "      <th>root</th>\n",
       "      <th>Unnamed: 5</th>\n",
       "      <th>Unnamed: 6</th>\n",
       "      <th>xcomps</th>\n",
       "      <th>quantities</th>\n",
       "    </tr>\n",
       "  </thead>\n",
       "  <tbody>\n",
       "    <tr>\n",
       "      <th>0</th>\n",
       "      <td>Blog</td>\n",
       "      <td>NaN</td>\n",
       "      <td>Practice</td>\n",
       "      <td>NaN</td>\n",
       "      <td>blog</td>\n",
       "      <td>NaN</td>\n",
       "      <td>NaN</td>\n",
       "      <td>[]</td>\n",
       "      <td>[]</td>\n",
       "    </tr>\n",
       "    <tr>\n",
       "      <th>1</th>\n",
       "      <td>Lose weight</td>\n",
       "      <td>NaN</td>\n",
       "      <td>Lifestyle</td>\n",
       "      <td>NaN</td>\n",
       "      <td>lose</td>\n",
       "      <td>NaN</td>\n",
       "      <td>NaN</td>\n",
       "      <td>[]</td>\n",
       "      <td>[]</td>\n",
       "    </tr>\n",
       "    <tr>\n",
       "      <th>2</th>\n",
       "      <td>Write a book</td>\n",
       "      <td>NaN</td>\n",
       "      <td>Target</td>\n",
       "      <td>NaN</td>\n",
       "      <td>write</td>\n",
       "      <td>NaN</td>\n",
       "      <td>NaN</td>\n",
       "      <td>[]</td>\n",
       "      <td>[]</td>\n",
       "    </tr>\n",
       "    <tr>\n",
       "      <th>3</th>\n",
       "      <td>Stop procrastinating</td>\n",
       "      <td>NaN</td>\n",
       "      <td>Lifestyle</td>\n",
       "      <td>NaN</td>\n",
       "      <td>stop</td>\n",
       "      <td>NaN</td>\n",
       "      <td>NaN</td>\n",
       "      <td>[]</td>\n",
       "      <td>[]</td>\n",
       "    </tr>\n",
       "    <tr>\n",
       "      <th>4</th>\n",
       "      <td>Fall in love</td>\n",
       "      <td>NaN</td>\n",
       "      <td>Target</td>\n",
       "      <td>NaN</td>\n",
       "      <td>fall</td>\n",
       "      <td>NaN</td>\n",
       "      <td>NaN</td>\n",
       "      <td>[]</td>\n",
       "      <td>[]</td>\n",
       "    </tr>\n",
       "    <tr>\n",
       "      <th>...</th>\n",
       "      <td>...</td>\n",
       "      <td>...</td>\n",
       "      <td>...</td>\n",
       "      <td>...</td>\n",
       "      <td>...</td>\n",
       "      <td>...</td>\n",
       "      <td>...</td>\n",
       "      <td>...</td>\n",
       "      <td>...</td>\n",
       "    </tr>\n",
       "    <tr>\n",
       "      <th>599</th>\n",
       "      <td>earn more money</td>\n",
       "      <td>NaN</td>\n",
       "      <td>NaN</td>\n",
       "      <td>NaN</td>\n",
       "      <td>earn</td>\n",
       "      <td>NaN</td>\n",
       "      <td>NaN</td>\n",
       "      <td>[]</td>\n",
       "      <td>[]</td>\n",
       "    </tr>\n",
       "    <tr>\n",
       "      <th>600</th>\n",
       "      <td>study</td>\n",
       "      <td>NaN</td>\n",
       "      <td>NaN</td>\n",
       "      <td>NaN</td>\n",
       "      <td>study</td>\n",
       "      <td>NaN</td>\n",
       "      <td>NaN</td>\n",
       "      <td>[]</td>\n",
       "      <td>[]</td>\n",
       "    </tr>\n",
       "    <tr>\n",
       "      <th>601</th>\n",
       "      <td>get better at makeup</td>\n",
       "      <td>NaN</td>\n",
       "      <td>NaN</td>\n",
       "      <td>NaN</td>\n",
       "      <td>get</td>\n",
       "      <td>NaN</td>\n",
       "      <td>NaN</td>\n",
       "      <td>[good]</td>\n",
       "      <td>[]</td>\n",
       "    </tr>\n",
       "    <tr>\n",
       "      <th>602</th>\n",
       "      <td>be pretty</td>\n",
       "      <td>NaN</td>\n",
       "      <td>NaN</td>\n",
       "      <td>NaN</td>\n",
       "      <td>be</td>\n",
       "      <td>NaN</td>\n",
       "      <td>NaN</td>\n",
       "      <td>[]</td>\n",
       "      <td>[]</td>\n",
       "    </tr>\n",
       "    <tr>\n",
       "      <th>603</th>\n",
       "      <td>start investing</td>\n",
       "      <td>NaN</td>\n",
       "      <td>NaN</td>\n",
       "      <td>NaN</td>\n",
       "      <td>start</td>\n",
       "      <td>NaN</td>\n",
       "      <td>NaN</td>\n",
       "      <td>[]</td>\n",
       "      <td>[]</td>\n",
       "    </tr>\n",
       "  </tbody>\n",
       "</table>\n",
       "<p>604 rows × 9 columns</p>\n",
       "</div>"
      ],
      "text/plain": [
       "                     Goal  Source      Style  Type   root  Unnamed: 5  \\\n",
       "0                    Blog     NaN   Practice   NaN   blog         NaN   \n",
       "1             Lose weight     NaN  Lifestyle   NaN   lose         NaN   \n",
       "2            Write a book     NaN     Target   NaN  write         NaN   \n",
       "3    Stop procrastinating     NaN  Lifestyle   NaN   stop         NaN   \n",
       "4            Fall in love     NaN     Target   NaN   fall         NaN   \n",
       "..                    ...     ...        ...   ...    ...         ...   \n",
       "599       earn more money     NaN        NaN   NaN   earn         NaN   \n",
       "600               study       NaN        NaN   NaN  study         NaN   \n",
       "601  get better at makeup     NaN        NaN   NaN    get         NaN   \n",
       "602             be pretty     NaN        NaN   NaN     be         NaN   \n",
       "603       start investing     NaN        NaN   NaN  start         NaN   \n",
       "\n",
       "     Unnamed: 6  xcomps quantities  \n",
       "0           NaN      []         []  \n",
       "1           NaN      []         []  \n",
       "2           NaN      []         []  \n",
       "3           NaN      []         []  \n",
       "4           NaN      []         []  \n",
       "..          ...     ...        ...  \n",
       "599         NaN      []         []  \n",
       "600         NaN      []         []  \n",
       "601         NaN  [good]         []  \n",
       "602         NaN      []         []  \n",
       "603         NaN      []         []  \n",
       "\n",
       "[604 rows x 9 columns]"
      ]
     },
     "execution_count": 8,
     "metadata": {},
     "output_type": "execute_result"
    }
   ],
   "source": [
    "goals_df[['root', 'xcomps', 'quantities']] = pd.DataFrame(goals.transform(extract_important).tolist(), index=goals_df.index)\n",
    "goals_df"
   ]
  },
  {
   "cell_type": "code",
   "execution_count": 9,
   "metadata": {},
   "outputs": [],
   "source": [
    "def get_antonyms(word):\n",
    "    antonyms = set()\n",
    "\n",
    "    for syn in wordnet.synsets(word):\n",
    "        for l in syn.lemmas():\n",
    "            if l.antonyms():\n",
    "                antonyms.add(l.antonyms()[0].name())\n",
    "    \n",
    "    return antonyms"
   ]
  },
  {
   "cell_type": "code",
   "execution_count": 10,
   "metadata": {},
   "outputs": [
    {
     "data": {
      "text/plain": [
       "{'fall_back', 'lose', 'loss', 'reduce'}"
      ]
     },
     "execution_count": 10,
     "metadata": {},
     "output_type": "execute_result"
    }
   ],
   "source": [
    "get_antonyms('gain')"
   ]
  },
  {
   "cell_type": "markdown",
   "metadata": {},
   "source": [
    "# Sentiment (currently unused)"
   ]
  },
  {
   "cell_type": "code",
   "execution_count": 11,
   "metadata": {},
   "outputs": [
    {
     "data": {
      "text/html": [
       "<div>\n",
       "<style scoped>\n",
       "    .dataframe tbody tr th:only-of-type {\n",
       "        vertical-align: middle;\n",
       "    }\n",
       "\n",
       "    .dataframe tbody tr th {\n",
       "        vertical-align: top;\n",
       "    }\n",
       "\n",
       "    .dataframe thead th {\n",
       "        text-align: right;\n",
       "    }\n",
       "</style>\n",
       "<table border=\"1\" class=\"dataframe\">\n",
       "  <thead>\n",
       "    <tr style=\"text-align: right;\">\n",
       "      <th></th>\n",
       "      <th>Goal</th>\n",
       "      <th>Source</th>\n",
       "      <th>Style</th>\n",
       "      <th>Type</th>\n",
       "      <th>root</th>\n",
       "      <th>Unnamed: 5</th>\n",
       "      <th>Unnamed: 6</th>\n",
       "      <th>xcomps</th>\n",
       "      <th>quantities</th>\n",
       "      <th>sentiment</th>\n",
       "      <th>sentiment_confidence</th>\n",
       "    </tr>\n",
       "  </thead>\n",
       "  <tbody>\n",
       "    <tr>\n",
       "      <th>0</th>\n",
       "      <td>Blog</td>\n",
       "      <td>NaN</td>\n",
       "      <td>Practice</td>\n",
       "      <td>NaN</td>\n",
       "      <td>blog</td>\n",
       "      <td>NaN</td>\n",
       "      <td>NaN</td>\n",
       "      <td>[]</td>\n",
       "      <td>[]</td>\n",
       "      <td>POSITIVE</td>\n",
       "      <td>0.788019</td>\n",
       "    </tr>\n",
       "    <tr>\n",
       "      <th>1</th>\n",
       "      <td>Lose weight</td>\n",
       "      <td>NaN</td>\n",
       "      <td>Lifestyle</td>\n",
       "      <td>NaN</td>\n",
       "      <td>lose</td>\n",
       "      <td>NaN</td>\n",
       "      <td>NaN</td>\n",
       "      <td>[]</td>\n",
       "      <td>[]</td>\n",
       "      <td>NEGATIVE</td>\n",
       "      <td>0.999560</td>\n",
       "    </tr>\n",
       "    <tr>\n",
       "      <th>2</th>\n",
       "      <td>Write a book</td>\n",
       "      <td>NaN</td>\n",
       "      <td>Target</td>\n",
       "      <td>NaN</td>\n",
       "      <td>write</td>\n",
       "      <td>NaN</td>\n",
       "      <td>NaN</td>\n",
       "      <td>[]</td>\n",
       "      <td>[]</td>\n",
       "      <td>POSITIVE</td>\n",
       "      <td>0.996259</td>\n",
       "    </tr>\n",
       "    <tr>\n",
       "      <th>3</th>\n",
       "      <td>Stop procrastinating</td>\n",
       "      <td>NaN</td>\n",
       "      <td>Lifestyle</td>\n",
       "      <td>NaN</td>\n",
       "      <td>stop</td>\n",
       "      <td>NaN</td>\n",
       "      <td>NaN</td>\n",
       "      <td>[]</td>\n",
       "      <td>[]</td>\n",
       "      <td>NEGATIVE</td>\n",
       "      <td>0.998419</td>\n",
       "    </tr>\n",
       "    <tr>\n",
       "      <th>4</th>\n",
       "      <td>Fall in love</td>\n",
       "      <td>NaN</td>\n",
       "      <td>Target</td>\n",
       "      <td>NaN</td>\n",
       "      <td>fall</td>\n",
       "      <td>NaN</td>\n",
       "      <td>NaN</td>\n",
       "      <td>[]</td>\n",
       "      <td>[]</td>\n",
       "      <td>POSITIVE</td>\n",
       "      <td>0.998757</td>\n",
       "    </tr>\n",
       "    <tr>\n",
       "      <th>...</th>\n",
       "      <td>...</td>\n",
       "      <td>...</td>\n",
       "      <td>...</td>\n",
       "      <td>...</td>\n",
       "      <td>...</td>\n",
       "      <td>...</td>\n",
       "      <td>...</td>\n",
       "      <td>...</td>\n",
       "      <td>...</td>\n",
       "      <td>...</td>\n",
       "      <td>...</td>\n",
       "    </tr>\n",
       "    <tr>\n",
       "      <th>599</th>\n",
       "      <td>earn more money</td>\n",
       "      <td>NaN</td>\n",
       "      <td>NaN</td>\n",
       "      <td>NaN</td>\n",
       "      <td>earn</td>\n",
       "      <td>NaN</td>\n",
       "      <td>NaN</td>\n",
       "      <td>[]</td>\n",
       "      <td>[]</td>\n",
       "      <td>POSITIVE</td>\n",
       "      <td>0.994392</td>\n",
       "    </tr>\n",
       "    <tr>\n",
       "      <th>600</th>\n",
       "      <td>study</td>\n",
       "      <td>NaN</td>\n",
       "      <td>NaN</td>\n",
       "      <td>NaN</td>\n",
       "      <td>study</td>\n",
       "      <td>NaN</td>\n",
       "      <td>NaN</td>\n",
       "      <td>[]</td>\n",
       "      <td>[]</td>\n",
       "      <td>POSITIVE</td>\n",
       "      <td>0.993381</td>\n",
       "    </tr>\n",
       "    <tr>\n",
       "      <th>601</th>\n",
       "      <td>get better at makeup</td>\n",
       "      <td>NaN</td>\n",
       "      <td>NaN</td>\n",
       "      <td>NaN</td>\n",
       "      <td>get</td>\n",
       "      <td>NaN</td>\n",
       "      <td>NaN</td>\n",
       "      <td>[good]</td>\n",
       "      <td>[]</td>\n",
       "      <td>NEGATIVE</td>\n",
       "      <td>0.893811</td>\n",
       "    </tr>\n",
       "    <tr>\n",
       "      <th>602</th>\n",
       "      <td>be pretty</td>\n",
       "      <td>NaN</td>\n",
       "      <td>NaN</td>\n",
       "      <td>NaN</td>\n",
       "      <td>be</td>\n",
       "      <td>NaN</td>\n",
       "      <td>NaN</td>\n",
       "      <td>[]</td>\n",
       "      <td>[]</td>\n",
       "      <td>POSITIVE</td>\n",
       "      <td>0.999698</td>\n",
       "    </tr>\n",
       "    <tr>\n",
       "      <th>603</th>\n",
       "      <td>start investing</td>\n",
       "      <td>NaN</td>\n",
       "      <td>NaN</td>\n",
       "      <td>NaN</td>\n",
       "      <td>start</td>\n",
       "      <td>NaN</td>\n",
       "      <td>NaN</td>\n",
       "      <td>[]</td>\n",
       "      <td>[]</td>\n",
       "      <td>POSITIVE</td>\n",
       "      <td>0.997895</td>\n",
       "    </tr>\n",
       "  </tbody>\n",
       "</table>\n",
       "<p>604 rows × 11 columns</p>\n",
       "</div>"
      ],
      "text/plain": [
       "                     Goal  Source      Style  Type   root  Unnamed: 5  \\\n",
       "0                    Blog     NaN   Practice   NaN   blog         NaN   \n",
       "1             Lose weight     NaN  Lifestyle   NaN   lose         NaN   \n",
       "2            Write a book     NaN     Target   NaN  write         NaN   \n",
       "3    Stop procrastinating     NaN  Lifestyle   NaN   stop         NaN   \n",
       "4            Fall in love     NaN     Target   NaN   fall         NaN   \n",
       "..                    ...     ...        ...   ...    ...         ...   \n",
       "599       earn more money     NaN        NaN   NaN   earn         NaN   \n",
       "600               study       NaN        NaN   NaN  study         NaN   \n",
       "601  get better at makeup     NaN        NaN   NaN    get         NaN   \n",
       "602             be pretty     NaN        NaN   NaN     be         NaN   \n",
       "603       start investing     NaN        NaN   NaN  start         NaN   \n",
       "\n",
       "     Unnamed: 6  xcomps quantities sentiment  sentiment_confidence  \n",
       "0           NaN      []         []  POSITIVE              0.788019  \n",
       "1           NaN      []         []  NEGATIVE              0.999560  \n",
       "2           NaN      []         []  POSITIVE              0.996259  \n",
       "3           NaN      []         []  NEGATIVE              0.998419  \n",
       "4           NaN      []         []  POSITIVE              0.998757  \n",
       "..          ...     ...        ...       ...                   ...  \n",
       "599         NaN      []         []  POSITIVE              0.994392  \n",
       "600         NaN      []         []  POSITIVE              0.993381  \n",
       "601         NaN  [good]         []  NEGATIVE              0.893811  \n",
       "602         NaN      []         []  POSITIVE              0.999698  \n",
       "603         NaN      []         []  POSITIVE              0.997895  \n",
       "\n",
       "[604 rows x 11 columns]"
      ]
     },
     "execution_count": 11,
     "metadata": {},
     "output_type": "execute_result"
    }
   ],
   "source": [
    "goals_df[['sentiment', 'sentiment_confidence']] = pd.DataFrame(goals_df['Goal'].transform(lambda x: list(sentiment_classifier(x)[0].values())).tolist(), index=goals_df.index)\n",
    "goals_df"
   ]
  },
  {
   "cell_type": "code",
   "execution_count": 12,
   "metadata": {},
   "outputs": [],
   "source": [
    "goals_df.to_csv('data/goals_df.csv', index=False)"
   ]
  },
  {
   "cell_type": "markdown",
   "metadata": {},
   "source": [
    "## Most similar"
   ]
  },
  {
   "cell_type": "code",
   "execution_count": 6,
   "metadata": {},
   "outputs": [],
   "source": [
    "def wv_similarity(word1, word2):\n",
    "  try:\n",
    "    return wv.similarity(word1, word2)\n",
    "  except:\n",
    "    return 0\n",
    "\n",
    "def most_similar_goal(goal):\n",
    "  goal_encoded = sentence_model.encode(goal, convert_to_tensor=True)\n",
    "  similarities = util.cos_sim(goal_encoded, goal_embeddings)[0]\n",
    "  return (goals[np.argmax(similarities).item()], max(similarities).item())\n",
    "\n",
    "\n",
    "def most_similar_goals(goal):\n",
    "  goal_encoded = sentence_model.encode(goal, convert_to_tensor=True)\n",
    "  similarities = util.cos_sim(goal_encoded, goal_embeddings)[0]\n",
    "\n",
    "  root = extract_root(goal)\n",
    "  root_similarities = pd.Series([wv_similarity(root, r) for r in goals_df['root']])\n",
    "  has_root_antonym = goals_df['root'].isin(get_antonyms(root))\n",
    "  \n",
    "  return pd.DataFrame({\n",
    "    \"goals\": goals,\n",
    "    \"similarities\": similarities,\n",
    "    \"root_similarities\": root_similarities,\n",
    "    \"has_root_antonym\": has_root_antonym,\n",
    "  }).sort_values(by='similarities', ignore_index=True, ascending=False)"
   ]
  },
  {
   "cell_type": "code",
   "execution_count": 57,
   "metadata": {},
   "outputs": [
    {
     "data": {
      "text/plain": [
       "torch.Size([384])"
      ]
     },
     "execution_count": 57,
     "metadata": {},
     "output_type": "execute_result"
    }
   ],
   "source": [
    "sentence_model.encode(\"get strong\", convert_to_tensor=True).shape"
   ]
  },
  {
   "cell_type": "code",
   "execution_count": 15,
   "metadata": {},
   "outputs": [
    {
     "data": {
      "text/html": [
       "<div>\n",
       "<style scoped>\n",
       "    .dataframe tbody tr th:only-of-type {\n",
       "        vertical-align: middle;\n",
       "    }\n",
       "\n",
       "    .dataframe tbody tr th {\n",
       "        vertical-align: top;\n",
       "    }\n",
       "\n",
       "    .dataframe thead th {\n",
       "        text-align: right;\n",
       "    }\n",
       "</style>\n",
       "<table border=\"1\" class=\"dataframe\">\n",
       "  <thead>\n",
       "    <tr style=\"text-align: right;\">\n",
       "      <th></th>\n",
       "      <th>goals</th>\n",
       "      <th>similarities</th>\n",
       "      <th>root_similarities</th>\n",
       "      <th>has_root_antonym</th>\n",
       "    </tr>\n",
       "  </thead>\n",
       "  <tbody>\n",
       "    <tr>\n",
       "      <th>0</th>\n",
       "      <td>create a budget</td>\n",
       "      <td>1.000000</td>\n",
       "      <td>1.000000</td>\n",
       "      <td>False</td>\n",
       "    </tr>\n",
       "    <tr>\n",
       "      <th>1</th>\n",
       "      <td>create a budget</td>\n",
       "      <td>1.000000</td>\n",
       "      <td>1.000000</td>\n",
       "      <td>False</td>\n",
       "    </tr>\n",
       "    <tr>\n",
       "      <th>2</th>\n",
       "      <td>start budgeting</td>\n",
       "      <td>0.845461</td>\n",
       "      <td>0.547429</td>\n",
       "      <td>False</td>\n",
       "    </tr>\n",
       "    <tr>\n",
       "      <th>3</th>\n",
       "      <td>budget</td>\n",
       "      <td>0.809851</td>\n",
       "      <td>0.359036</td>\n",
       "      <td>False</td>\n",
       "    </tr>\n",
       "    <tr>\n",
       "      <th>4</th>\n",
       "      <td>Live Within A Budget</td>\n",
       "      <td>0.789505</td>\n",
       "      <td>0.524588</td>\n",
       "      <td>False</td>\n",
       "    </tr>\n",
       "    <tr>\n",
       "      <th>5</th>\n",
       "      <td>stop spending extra money</td>\n",
       "      <td>0.558515</td>\n",
       "      <td>0.499701</td>\n",
       "      <td>False</td>\n",
       "    </tr>\n",
       "    <tr>\n",
       "      <th>6</th>\n",
       "      <td>manage my finances better</td>\n",
       "      <td>0.555741</td>\n",
       "      <td>0.677159</td>\n",
       "      <td>False</td>\n",
       "    </tr>\n",
       "    <tr>\n",
       "      <th>7</th>\n",
       "      <td>Get my finances in order</td>\n",
       "      <td>0.534355</td>\n",
       "      <td>0.595275</td>\n",
       "      <td>False</td>\n",
       "    </tr>\n",
       "    <tr>\n",
       "      <th>8</th>\n",
       "      <td>get my finances in order</td>\n",
       "      <td>0.534355</td>\n",
       "      <td>0.595275</td>\n",
       "      <td>False</td>\n",
       "    </tr>\n",
       "    <tr>\n",
       "      <th>9</th>\n",
       "      <td>get better at tracking my finances</td>\n",
       "      <td>0.498261</td>\n",
       "      <td>0.595275</td>\n",
       "      <td>False</td>\n",
       "    </tr>\n",
       "    <tr>\n",
       "      <th>10</th>\n",
       "      <td>save more money</td>\n",
       "      <td>0.497468</td>\n",
       "      <td>0.608917</td>\n",
       "      <td>False</td>\n",
       "    </tr>\n",
       "    <tr>\n",
       "      <th>11</th>\n",
       "      <td>Save money</td>\n",
       "      <td>0.493013</td>\n",
       "      <td>0.608917</td>\n",
       "      <td>False</td>\n",
       "    </tr>\n",
       "    <tr>\n",
       "      <th>12</th>\n",
       "      <td>Increase Savings</td>\n",
       "      <td>0.443431</td>\n",
       "      <td>0.179118</td>\n",
       "      <td>False</td>\n",
       "    </tr>\n",
       "    <tr>\n",
       "      <th>13</th>\n",
       "      <td>Create multiple income sources</td>\n",
       "      <td>0.389651</td>\n",
       "      <td>1.000000</td>\n",
       "      <td>False</td>\n",
       "    </tr>\n",
       "    <tr>\n",
       "      <th>14</th>\n",
       "      <td>save money for retirement</td>\n",
       "      <td>0.378222</td>\n",
       "      <td>0.608917</td>\n",
       "      <td>False</td>\n",
       "    </tr>\n",
       "    <tr>\n",
       "      <th>15</th>\n",
       "      <td>Save enough money to buy something you've alwa...</td>\n",
       "      <td>0.354905</td>\n",
       "      <td>0.608917</td>\n",
       "      <td>False</td>\n",
       "    </tr>\n",
       "    <tr>\n",
       "      <th>16</th>\n",
       "      <td>Improve my financial management skills</td>\n",
       "      <td>0.349899</td>\n",
       "      <td>0.647079</td>\n",
       "      <td>False</td>\n",
       "    </tr>\n",
       "    <tr>\n",
       "      <th>17</th>\n",
       "      <td>have a stable income</td>\n",
       "      <td>0.348731</td>\n",
       "      <td>0.541384</td>\n",
       "      <td>False</td>\n",
       "    </tr>\n",
       "    <tr>\n",
       "      <th>18</th>\n",
       "      <td>start manging my money better</td>\n",
       "      <td>0.342467</td>\n",
       "      <td>0.547429</td>\n",
       "      <td>False</td>\n",
       "    </tr>\n",
       "    <tr>\n",
       "      <th>19</th>\n",
       "      <td>Create a portfolio</td>\n",
       "      <td>0.342419</td>\n",
       "      <td>1.000000</td>\n",
       "      <td>False</td>\n",
       "    </tr>\n",
       "  </tbody>\n",
       "</table>\n",
       "</div>"
      ],
      "text/plain": [
       "                                                goals  similarities  \\\n",
       "0                                     create a budget      1.000000   \n",
       "1                                     create a budget      1.000000   \n",
       "2                                     start budgeting      0.845461   \n",
       "3                                              budget      0.809851   \n",
       "4                                Live Within A Budget      0.789505   \n",
       "5                           stop spending extra money      0.558515   \n",
       "6                           manage my finances better      0.555741   \n",
       "7                            Get my finances in order      0.534355   \n",
       "8                            get my finances in order      0.534355   \n",
       "9                  get better at tracking my finances      0.498261   \n",
       "10                                    save more money      0.497468   \n",
       "11                                         Save money      0.493013   \n",
       "12                                   Increase Savings      0.443431   \n",
       "13                     Create multiple income sources      0.389651   \n",
       "14                          save money for retirement      0.378222   \n",
       "15  Save enough money to buy something you've alwa...      0.354905   \n",
       "16             Improve my financial management skills      0.349899   \n",
       "17                               have a stable income      0.348731   \n",
       "18                      start manging my money better      0.342467   \n",
       "19                                 Create a portfolio      0.342419   \n",
       "\n",
       "    root_similarities  has_root_antonym  \n",
       "0            1.000000             False  \n",
       "1            1.000000             False  \n",
       "2            0.547429             False  \n",
       "3            0.359036             False  \n",
       "4            0.524588             False  \n",
       "5            0.499701             False  \n",
       "6            0.677159             False  \n",
       "7            0.595275             False  \n",
       "8            0.595275             False  \n",
       "9            0.595275             False  \n",
       "10           0.608917             False  \n",
       "11           0.608917             False  \n",
       "12           0.179118             False  \n",
       "13           1.000000             False  \n",
       "14           0.608917             False  \n",
       "15           0.608917             False  \n",
       "16           0.647079             False  \n",
       "17           0.541384             False  \n",
       "18           0.547429             False  \n",
       "19           1.000000             False  "
      ]
     },
     "execution_count": 15,
     "metadata": {},
     "output_type": "execute_result"
    }
   ],
   "source": [
    "most_similar_goals('create a budget').head(20)"
   ]
  },
  {
   "cell_type": "markdown",
   "metadata": {},
   "source": [
    "## Visualization"
   ]
  },
  {
   "cell_type": "code",
   "execution_count": 7,
   "metadata": {},
   "outputs": [
    {
     "data": {
      "text/plain": [
       "array([[-0.02779194, -0.04308044, -0.01668005, ...,  0.02978688,\n",
       "        -0.00123824,  0.00204039],\n",
       "       [-0.04537829,  0.12193567,  0.04003958, ..., -0.03852352,\n",
       "         0.03844897, -0.01332329],\n",
       "       [ 0.03314275,  0.02405508,  0.01464383, ..., -0.01486317,\n",
       "        -0.04343279, -0.02216911],\n",
       "       ...,\n",
       "       [-0.02241089,  0.07949603, -0.03279972, ...,  0.00669243,\n",
       "        -0.03600563, -0.08714294],\n",
       "       [ 0.04372225,  0.02791812,  0.04918401, ..., -0.01652369,\n",
       "        -0.02264436,  0.02987081],\n",
       "       [ 0.10038289, -0.04439367,  0.04613184, ...,  0.03618219,\n",
       "        -0.06687228, -0.04546971]], dtype=float32)"
      ]
     },
     "execution_count": 7,
     "metadata": {},
     "output_type": "execute_result"
    }
   ],
   "source": [
    "goal_embeddings = goals.transform(lambda goal: sentence_model.encode(goal, convert_to_numpy=True)).values\n",
    "goal_embeddings = np.stack(goal_embeddings)\n",
    "goal_embeddings"
   ]
  },
  {
   "cell_type": "code",
   "execution_count": 41,
   "metadata": {},
   "outputs": [
    {
     "data": {
      "text/html": [
       "<div>\n",
       "<style scoped>\n",
       "    .dataframe tbody tr th:only-of-type {\n",
       "        vertical-align: middle;\n",
       "    }\n",
       "\n",
       "    .dataframe tbody tr th {\n",
       "        vertical-align: top;\n",
       "    }\n",
       "\n",
       "    .dataframe thead th {\n",
       "        text-align: right;\n",
       "    }\n",
       "</style>\n",
       "<table border=\"1\" class=\"dataframe\">\n",
       "  <thead>\n",
       "    <tr style=\"text-align: right;\">\n",
       "      <th></th>\n",
       "      <th>x</th>\n",
       "      <th>y</th>\n",
       "      <th>goal</th>\n",
       "    </tr>\n",
       "  </thead>\n",
       "  <tbody>\n",
       "    <tr>\n",
       "      <th>0</th>\n",
       "      <td>-32.421833</td>\n",
       "      <td>-18.524136</td>\n",
       "      <td>Blog</td>\n",
       "    </tr>\n",
       "    <tr>\n",
       "      <th>1</th>\n",
       "      <td>36.612808</td>\n",
       "      <td>1.947893</td>\n",
       "      <td>Lose weight</td>\n",
       "    </tr>\n",
       "    <tr>\n",
       "      <th>2</th>\n",
       "      <td>9.791948</td>\n",
       "      <td>-8.938395</td>\n",
       "      <td>Write a book</td>\n",
       "    </tr>\n",
       "    <tr>\n",
       "      <th>3</th>\n",
       "      <td>9.168240</td>\n",
       "      <td>-15.032077</td>\n",
       "      <td>Stop procrastinating</td>\n",
       "    </tr>\n",
       "    <tr>\n",
       "      <th>4</th>\n",
       "      <td>-17.399164</td>\n",
       "      <td>-28.054218</td>\n",
       "      <td>Fall in love</td>\n",
       "    </tr>\n",
       "    <tr>\n",
       "      <th>...</th>\n",
       "      <td>...</td>\n",
       "      <td>...</td>\n",
       "      <td>...</td>\n",
       "    </tr>\n",
       "    <tr>\n",
       "      <th>663</th>\n",
       "      <td>21.181271</td>\n",
       "      <td>-0.282225</td>\n",
       "      <td>Cooking more</td>\n",
       "    </tr>\n",
       "    <tr>\n",
       "      <th>664</th>\n",
       "      <td>17.815353</td>\n",
       "      <td>0.759695</td>\n",
       "      <td>Mastering bread making</td>\n",
       "    </tr>\n",
       "    <tr>\n",
       "      <th>665</th>\n",
       "      <td>-17.865107</td>\n",
       "      <td>-6.374341</td>\n",
       "      <td>Volunteer as a costumed interpreter at a livin...</td>\n",
       "    </tr>\n",
       "    <tr>\n",
       "      <th>666</th>\n",
       "      <td>-5.035253</td>\n",
       "      <td>4.645041</td>\n",
       "      <td>Do more arts and crafts and nature activities ...</td>\n",
       "    </tr>\n",
       "    <tr>\n",
       "      <th>667</th>\n",
       "      <td>2.093453</td>\n",
       "      <td>26.247829</td>\n",
       "      <td>Traveling and visiting friends more</td>\n",
       "    </tr>\n",
       "  </tbody>\n",
       "</table>\n",
       "<p>668 rows × 3 columns</p>\n",
       "</div>"
      ],
      "text/plain": [
       "             x          y                                               goal\n",
       "0   -32.421833 -18.524136                                               Blog\n",
       "1    36.612808   1.947893                                        Lose weight\n",
       "2     9.791948  -8.938395                                       Write a book\n",
       "3     9.168240 -15.032077                               Stop procrastinating\n",
       "4   -17.399164 -28.054218                                       Fall in love\n",
       "..         ...        ...                                                ...\n",
       "663  21.181271  -0.282225                                       Cooking more\n",
       "664  17.815353   0.759695                             Mastering bread making\n",
       "665 -17.865107  -6.374341  Volunteer as a costumed interpreter at a livin...\n",
       "666  -5.035253   4.645041  Do more arts and crafts and nature activities ...\n",
       "667   2.093453  26.247829                Traveling and visiting friends more\n",
       "\n",
       "[668 rows x 3 columns]"
      ]
     },
     "execution_count": 41,
     "metadata": {},
     "output_type": "execute_result"
    }
   ],
   "source": [
    "from sklearn.manifold import TSNE\n",
    "\n",
    "goal_2d_embeddings = TSNE(n_components=2, learning_rate='auto', init='random', perplexity=30).fit_transform(goal_embeddings)\n",
    "goal_2d_embeddings = pd.DataFrame(goal_2d_embeddings, columns=[\"x\", \"y\"])\n",
    "goal_2d_embeddings[\"goal\"] = goals.copy()\n",
    "goal_2d_embeddings"
   ]
  },
  {
   "cell_type": "code",
   "execution_count": 16,
   "metadata": {},
   "outputs": [
    {
     "name": "stdout",
     "output_type": "stream",
     "text": [
      "{goal: \"Blog\", x: 2.9466679096221924, y: -8.509551048278809},\n",
      "{goal: \"Lose weight\", x: 16.204334259033203, y: 34.47350311279297},\n",
      "{goal: \"Write a book\", x: 0.6854141354560852, y: -3.2502517700195312},\n",
      "{goal: \"Stop procrastinating\", x: 16.353883743286133, y: 2.970745325088501},\n",
      "{goal: \"Fall in love\", x: 15.65584945678711, y: -36.910377502441406},\n",
      "{goal: \"Be happy\", x: 12.89354419708252, y: -16.611835479736328},\n",
      "{goal: \"Journal\", x: 2.1385254859924316, y: -9.497031211853027},\n",
      "{goal: \"Get a tattoo\", x: -16.483028411865234, y: -0.2702723443508148},\n",
      "{goal: \"Go on a road trip with no predetermined destination\", x: -23.579370498657227, y: 22.347640991210938},\n",
      "{goal: \"Get married\", x: 17.320302963256836, y: -34.3245964050293},\n",
      "{goal: \"Travel the world\", x: -24.621761322021484, y: 19.57588005065918},\n",
      "{goal: \"Drink more water\", x: 18.640762329101562, y: 25.23102378845215},\n",
      "{goal: \"See the Northern Lights\", x: -28.77141761779785, y: 27.473140716552734},\n",
      "{goal: \"Learn Spanish\", x: -11.099313735961914, y: 13.176471710205078},\n",
      "{goal: \"Save money\", x: -16.017850875854492, y: -30.913116455078125},\n",
      "{goal: \"Take more pictures\", x: 5.336259841918945, y: 4.543129920959473},\n",
      "{goal: \"Kiss in the rain\", x: 15.479508399963379, y: -37.997798919677734},\n",
      "{goal: \"Buy a house\", x: -8.19554615020752, y: -30.436885833740234},\n",
      "{goal: \"Make new friends\", x: 19.110506057739258, y: -19.82942771911621},\n",
      "{goal: \"Learn how to play the guitar\", x: -6.852389812469482, y: 8.93052864074707},\n",
      "{goal: \"Run a marathon\", x: -8.401544570922852, y: 39.9228401184082},\n",
      "{goal: \"Learn French\", x: -10.375116348266602, y: 11.020228385925293},\n",
      "{goal: \"Get a job\", x: -17.230274200439453, y: -5.449108600616455},\n",
      "{goal: \"Get out of debt\", x: -23.82929229736328, y: -34.217227935791016},\n",
      "{goal: \"Read more books\", x: 2.716782331466675, y: 4.200621128082275},\n",
      "{goal: \"Be more confident\", x: 22.338106155395508, y: -4.968358993530273},\n",
      "{goal: \"Write a novel\", x: -0.8251503109931946, y: -3.840773582458496},\n",
      "{goal: \"Be successful\", x: 12.898425102233887, y: -5.64198637008667},\n",
      "{goal: \"Skydive\", x: -21.896045684814453, y: 29.290353775024414},\n",
      "{goal: \"Eat healthier\", x: 15.383561134338379, y: 29.985313415527344},\n",
      "{goal: \"Exercise regularly\", x: 5.182677745819092, y: 33.82758331298828},\n",
      "{goal: \"Learn Japanese\", x: -9.487710952758789, y: 13.8892822265625},\n",
      "{goal: \"Get in shape\", x: 8.351295471191406, y: 35.286476135253906},\n",
      "{goal: \"Learn to cook\", x: 8.825152397155762, y: 20.81985092163086},\n",
      "{goal: \"Start my own business\", x: -24.728487014770508, y: -19.204355239868164},\n",
      "{goal: \"Quit smoking\", x: 27.3055477142334, y: 22.479326248168945},\n",
      "{goal: \"Travel\", x: -23.52840232849121, y: 19.349933624267578},\n",
      "{goal: \"Visit all 50 states\", x: -29.348739624023438, y: 20.831865310668945},\n",
      "{goal: \"Get my finances in order\", x: -22.295724868774414, y: -29.721450805664062},\n",
      "{goal: \"Start a company\", x: -22.99738883972168, y: -18.826780319213867},\n",
      "{goal: \"Get more organized\", x: 8.398058891296387, y: -1.223112940788269},\n",
      "{goal: \"Buy a new home\", x: -6.956801414489746, y: -31.43324851989746},\n",
      "{goal: \"Exercise more \", x: 4.85630464553833, y: 31.65896224975586},\n",
      "{goal: \"Spend more time with friends and family\", x: 9.523786544799805, y: -21.037500381469727},\n",
      "{goal: \"Travel more\", x: -23.1879825592041, y: 18.525104522705078},\n",
      "{goal: \"Start a business\", x: -24.215944290161133, y: -20.158002853393555},\n",
      "{goal: \"Learn to play the flute\", x: -8.330253601074219, y: 7.939770698547363},\n",
      "{goal: \"Buy a new car\", x: -11.561372756958008, y: -26.92848014831543},\n",
      "{goal: \"Lose weight\", x: 15.648161888122559, y: 33.71234130859375},\n",
      "{goal: \"Volunteer more often\", x: 0.4754292070865631, y: -21.950319290161133},\n",
      "{goal: \"Disconnect from technology\", x: 6.9987688064575195, y: -10.805841445922852},\n",
      "{goal: \"Remodel my home\", x: -5.581018447875977, y: -32.843360900878906},\n",
      "{goal: \"Quit my vices\", x: 29.408781051635742, y: 20.3123722076416},\n",
      "{goal: \"Redecorate my home\", x: -4.976669788360596, y: -32.18333053588867},\n",
      "{goal: \"Cook more frequently\", x: 9.578529357910156, y: 22.86732292175293},\n",
      "{goal: \"Organize closet\", x: 8.523069381713867, y: -1.1442804336547852},\n",
      "{goal: \"Get a dog\", x: 5.496091365814209, y: -32.33621597290039},\n",
      "{goal: \"Be famous\", x: -9.721895217895508, y: -14.23393440246582},\n",
      "{goal: \"Master a difficult skill\", x: -5.996406555175781, y: 3.527784585952759},\n",
      "{goal: \"Become a thought leader\", x: -6.4284515380859375, y: -7.477779865264893},\n",
      "{goal: \"Get promoted to an executive role\", x: -21.318281173706055, y: -13.779532432556152},\n",
      "{goal: \"Become a millionaire\", x: -17.09652328491211, y: -16.26883888244629},\n",
      "{goal: \"Go on a trip around the world\", x: -21.704593658447266, y: 20.38029670715332},\n",
      "{goal: \"Travel to my dream country\", x: -26.4385986328125, y: 17.417564392089844},\n",
      "{goal: \"Double my personal income\", x: -24.036413192749023, y: -27.798112869262695},\n",
      "{goal: \"Publish a novel\", x: -0.6546733379364014, y: -5.357123374938965},\n",
      "{goal: \"Take a motorcycle trip\", x: -22.526527404785156, y: 23.4973201751709},\n",
      "{goal: \"Volunteer at a hospital\", x: 1.7110379934310913, y: -21.52442169189453},\n",
      "{goal: \"Run in a marathon\", x: -8.925281524658203, y: 39.48362350463867},\n",
      "{goal: \"Get six-pack abs\", x: 8.226223945617676, y: 40.13380432128906},\n",
      "{goal: \"Achieve zero debt\", x: -24.57550048828125, y: -33.667442321777344},\n",
      "{goal: \"Invest in the stock market\", x: -20.540122985839844, y: -22.309297561645508},\n",
      "{goal: \"Buy a Ferrari\", x: -11.957880973815918, y: -26.545732498168945},\n",
      "{goal: \"See one of the Seven Wonders of the World\", x: -26.532894134521484, y: 21.73414421081543},\n",
      "{goal: \"Plan for my retirement\", x: -17.469301223754883, y: -34.561004638671875},\n",
      "{goal: \"Graduate from college\", x: -22.807857513427734, y: 2.3994812965393066},\n",
      "{goal: \"Learn to fluently speak French\", x: -10.399497032165527, y: 11.192474365234375},\n",
      "{goal: \"Meditate daily\", x: 26.852561950683594, y: 8.135313987731934},\n",
      "{goal: \"Donate to a charity annually\", x: -1.5645607709884644, y: -24.906570434570312},\n",
      "{goal: \"Have a long-term relationship\", x: 18.42551040649414, y: -30.46006965637207},\n",
      "{goal: \"Climb a mountain\", x: -14.2691650390625, y: 35.36033248901367},\n",
      "{goal: \"Learn how to surf\", x: -16.22660255432129, y: 27.06045150756836},\n",
      "{goal: \"Master a musical instrument\", x: -7.054936408996582, y: 7.347945213317871},\n",
      "{goal: \"Learn how to rock climb\", x: -13.479308128356934, y: 34.64332580566406},\n",
      "{goal: \"Live in a foreign country\", x: -27.49178123474121, y: 15.70279598236084},\n",
      "{goal: \"Drink enough water everyday\", x: 18.16448211669922, y: 25.131465911865234},\n",
      "{goal: \"Give up junk food for a year\", x: 19.68735694885254, y: 31.75948143005371},\n",
      "{goal: \"Paint a picture\", x: -10.46753978729248, y: 3.629847764968872},\n",
      "{goal: \"Craft something using pottery skills\", x: -10.726548194885254, y: 1.1828640699386597},\n",
      "{goal: \"Master ballroom dancing\", x: -2.3807919025421143, y: 18.1760311126709},\n",
      "{goal: \"Compose a song\", x: 4.100671768188477, y: -4.911370754241943},\n",
      "{goal: \"Maintain my ideal body weight\", x: 13.04039192199707, y: 34.98005294799805},\n",
      "{goal: \"Get paid doing what I'm passionate about\", x: -17.46742820739746, y: -9.84728717803955},\n",
      "{goal: \"Find my life partner\", x: 14.631471633911133, y: -31.43889808654785},\n",
      "{goal: \"Actually eat healthy meals\", x: 14.08278751373291, y: 28.451488494873047},\n",
      "{goal: \"Bulk\", x: 10.78598690032959, y: 27.362062454223633},\n",
      "{goal: \"Regularly call my parents\", x: 9.003454208374023, y: -27.44133949279785},\n",
      "{goal: \"Create multiple income sources\", x: -22.68659210205078, y: -26.341659545898438},\n",
      "{goal: \"Keep a life journal\", x: 2.6933796405792236, y: -11.464590072631836},\n",
      "{goal: \"Build muscle\", x: 1.9193249940872192, y: 30.523778915405273},\n",
      "{goal: \"Buy my first house\", x: -9.006146430969238, y: -31.411466598510742},\n",
      "{goal: \"Build my dream house\", x: -7.54245662689209, y: -33.369529724121094},\n",
      "{goal: \"Go skydiving\", x: -20.47078514099121, y: 29.259979248046875},\n",
      "{goal: \"Go hang gliding\", x: -19.218433380126953, y: 29.105960845947266},\n",
      "{goal: \"Ride in a hot air balloon\", x: -20.05664825439453, y: 30.774526596069336},\n",
      "{goal: \"Snorkel in the ocean\", x: -18.390113830566406, y: 26.346853256225586},\n",
      "{goal: \"Climb on a glacier\", x: -15.353577613830566, y: 35.309326171875},\n",
      "{goal: \"Find my soulmate\", x: 12.82101821899414, y: -33.473731994628906},\n",
      "{goal: \"Become rich\", x: -17.116161346435547, y: -15.477640151977539},\n",
      "{goal: \"Go to the Olympics\", x: -21.28390121459961, y: 14.930144309997559},\n",
      "{goal: \"Get a hole-in-one\", x: -35.072322845458984, y: 6.727306842803955},\n",
      "{goal: \"Golf 18 holes under par\", x: -35.16456985473633, y: 6.857307434082031},\n",
      "{goal: \"Create a portfolio\", x: -28.566822052001953, y: -24.92788314819336},\n",
      "{goal: \"Run a six-minute mile\", x: -6.326642990112305, y: 42.671871185302734},\n",
      "{goal: \"Declutter my home\", x: -4.356227397918701, y: -31.65363883972168},\n",
      "{goal: \"Appear on a podcast\", x: -5.808109760284424, y: -18.419374465942383},\n",
      "{goal: \"Read two books every month\", x: 1.8845010995864868, y: 6.513638973236084},\n",
      "{goal: \"Leave a financial inheritance\", x: -21.079347610473633, y: -33.995094299316406},\n",
      "{goal: \"Trace my ancestry and visit their country of origin\", x: -29.158958435058594, y: 16.35322380065918},\n",
      "{goal: \"Try a vegan diet for a month\", x: 21.93756103515625, y: 34.91959762573242},\n",
      "{goal: \"See my favorite musician in concert as often as I can\", x: -6.717309474945068, y: -15.704814910888672},\n",
      "{goal: \"Create a new family tradition\", x: 9.622007369995117, y: -23.604522705078125},\n",
      "{goal: \"Maintain a healthy work-life balance\", x: -0.4051828682422638, y: -15.503776550292969},\n",
      "{goal: \"Start an online business\", x: -26.0712833404541, y: -19.966995239257812},\n",
      "{goal: \"Celebrate my relationship anniversaries\", x: 19.627925872802734, y: -32.42767333984375},\n",
      "{goal: \"Meet an athlete or celebrity I admire\", x: -7.98810338973999, y: -14.760760307312012},\n",
      "{goal: \"Practice gratitude everyday\", x: 8.147896766662598, y: -16.111282348632812},\n",
      "{goal: \"Start a small business\", x: -25.145017623901367, y: -20.847400665283203},\n",
      "{goal: \"See the ball drop in person on New Year’s Eve when it’s safe to do so\", x: -15.161389350891113, y: 21.10148048400879},\n",
      "{goal: \"Adopt and care for my dream pet\", x: 4.543981075286865, y: -31.74472427368164},\n",
      "{goal: \"Give up drinking soda\", x: 24.211950302124023, y: 25.938631057739258},\n",
      "{goal: \"Witness the Northern Lights\", x: -28.84935760498047, y: 27.564586639404297},\n",
      "{goal: \"Watch a volcano erupt (from a safe distance!)\", x: -27.47800636291504, y: 26.130033493041992},\n",
      "{goal: \"Go to Mardi Gras\", x: -18.0945987701416, y: 21.06720542907715},\n",
      "{goal: \"Develop a good credit score\", x: -24.727985382080078, y: -31.98684310913086},\n",
      "{goal: \"Learn self-defense\", x: -4.673518180847168, y: 14.269684791564941},\n",
      "{goal: \"See my doctor and dentist regularly\", x: 20.130800247192383, y: 25.132530212402344},\n",
      "{goal: \"Always say “yes” to trying new positive things\", x: 13.891298294067383, y: -11.585620880126953},\n",
      "{goal: \"Learn yoga\", x: 8.626579284667969, y: 30.27544403076172},\n",
      "{goal: \"Expand vocabulary\", x: -0.9314908981323242, y: 2.1797525882720947},\n",
      "{goal: \"Participate in a recreational sports league\", x: -8.378551483154297, y: 24.23236656188965},\n",
      "{goal: \"Grow a thriving garden\", x: 3.8802990913391113, y: 15.193269729614258},\n",
      "{goal: \"Go on a electronics-free camping trip\", x: -19.926374435424805, y: 23.009565353393555},\n",
      "{goal: \"Write a movie script or TV episode\", x: -2.5454444885253906, y: -3.8579838275909424},\n",
      "{goal: \"Learn how to sing\", x: -8.561651229858398, y: -11.371013641357422},\n",
      "{goal: \"Make my own website\", x: -28.019121170043945, y: -20.89219093322754},\n",
      "{goal: \"Become a venture capitalist\", x: -21.377971649169922, y: -19.980594635009766},\n",
      "{goal: \"Sponsor a child in need\", x: 0.46968206763267517, y: -26.83063507080078},\n",
      "{goal: \"Go on a cross-country road trip\", x: -23.070600509643555, y: 21.404497146606445},\n",
      "{goal: \"Pay off my student loans sooner than later\", x: -25.015869140625, y: -37.39413833618164},\n",
      "{goal: \"Learn how to code\", x: -3.310013771057129, y: 10.330798149108887},\n",
      "{goal: \"Improve my drawing skills\", x: -9.665921211242676, y: 3.571950912475586},\n",
      "{goal: \"Give up TV for a week\", x: 8.042001724243164, y: 8.354806900024414},\n",
      "{goal: \"Spend a full day at the spa\", x: -2.725734233856201, y: 29.264066696166992},\n",
      "{goal: \"Go on a solo vacation\", x: -20.480445861816406, y: 21.714834213256836},\n",
      "{goal: \"Throw friends a surprise party\", x: 16.17922592163086, y: -20.326332092285156},\n",
      "{goal: \"Learn how to knit or sew\", x: -1.1185996532440186, y: 22.438718795776367},\n",
      "{goal: \"Become more fit and healthy\", x: 10.613733291625977, y: 34.06584930419922},\n",
      "{goal: \"Find purpose in life\", x: -3.2230935096740723, y: -13.09699821472168},\n",
      "{goal: \"Acquire more skills for success\", x: 12.381110191345215, y: -5.380189895629883},\n",
      "{goal: \"Improve personal relationships\", x: 14.251640319824219, y: -25.738792419433594},\n",
      "{goal: \"Be more committed\", x: 9.685860633850098, y: -8.430973052978516},\n",
      "{goal: \"Do more challenging things\", x: -3.908954620361328, y: 0.030496148392558098},\n",
      "{goal: \"Develop a higher level of self-esteem and positivity\", x: 21.571943283081055, y: -7.502200603485107},\n",
      "{goal: \"Be more confident\", x: 22.33806610107422, y: -4.969237327575684},\n",
      "{goal: \"Stop eating unhealthy\", x: 18.644975662231445, y: 30.64505958557129},\n",
      "{goal: \"Ask more questions\", x: 5.147945880889893, y: 6.551079273223877},\n",
      "{goal: \"Be a good listener\", x: 17.08832550048828, y: -14.283350944519043},\n",
      "{goal: \"Get into a club\", x: -31.66521453857422, y: -1.1741572618484497},\n",
      "{goal: \"Learn more\", x: 0.6385384798049927, y: 3.0368213653564453},\n",
      "{goal: \"Keep a Daily Journal or Gratitude Log \", x: 6.500771522521973, y: -14.502102851867676},\n",
      "{goal: \"Quit drinking\", x: 25.69607925415039, y: 23.997514724731445},\n",
      "{goal: \"Code a video game\", x: -0.5553269982337952, y: 12.453304290771484},\n",
      "{goal: \"Be a better person\", x: 19.6376953125, y: -16.876001358032227},\n",
      "{goal: \"Have a trusted circle of friends\", x: 18.239837646484375, y: -21.19687271118164},\n",
      "{goal: \"Keep good ties with relatives\", x: 10.820903778076172, y: -24.77261734008789},\n",
      "{goal: \"Network\", x: 7.5665364265441895, y: -11.548129081726074},\n",
      "{goal: \"Be more social\", x: 21.712474822998047, y: -17.780839920043945},\n",
      "{goal: \"Learn how to cook\", x: 8.16248893737793, y: 20.522037506103516},\n",
      "{goal: \"stop playing video games\", x: 27.518587112426758, y: 18.402660369873047},\n",
      "{goal: \"Do community service\", x: 3.3091776371002197, y: -20.626577377319336},\n",
      "{goal: \"Do 30 push-ups every day\", x: 2.9146668910980225, y: 39.7034797668457},\n",
      "{goal: \"Do 20 sit-ups every day\", x: 4.344303607940674, y: 39.59794235229492},\n",
      "{goal: \"Go to the gym 3 times a week\", x: 1.3062546253204346, y: 34.063377380371094},\n",
      "{goal: \"Find a career that you love\", x: -18.10106086730957, y: -8.458466529846191},\n",
      "{goal: \"Find a life partner\", x: 15.05605697631836, y: -31.18012046813965},\n",
      "{goal: \"Become an expert or leader in my field\", x: -7.373788356781006, y: -5.983115196228027},\n",
      "{goal: \"Go for a walk every day\", x: -8.061263084411621, y: 32.010135650634766},\n",
      "{goal: \"Become a better listener\", x: 17.87114143371582, y: -14.077733993530273},\n",
      "{goal: \"Buy my first home\", x: -8.603888511657715, y: -31.668834686279297},\n",
      "{goal: \"save money for retirement\", x: -17.34479331970215, y: -33.80321502685547},\n",
      "{goal: \"Give back to my community in ways that matter to you\", x: 4.2324934005737305, y: -20.080495834350586},\n",
      "{goal: \"Save enough money to buy something you've always wanted like a boat cabin or another item\", x: -12.497249603271484, y: -33.770957946777344},\n",
      "{goal: \"Learn how to dance\", x: -1.3629179000854492, y: 17.5790958404541},\n",
      "{goal: \"Pay off my student loans\", x: -25.036426544189453, y: -37.37554168701172},\n",
      "{goal: \"Go on a trip with my best friends\", x: -20.62406349182129, y: 20.36650276184082},\n",
      "{goal: \"Lose 10 pounds\", x: 17.30497932434082, y: 35.5512809753418},\n",
      "{goal: \"Eat less sugar and junk food\", x: 19.768836975097656, y: 28.423152923583984},\n",
      "{goal: \"Get a degree in a subject that matters to me\", x: -20.27285385131836, y: -0.13501907885074615},\n",
      "{goal: \"Read 1 new book per week\", x: 2.4241769313812256, y: 6.532936096191406},\n",
      "{goal: \"Learn how to bake\", x: 5.855474948883057, y: 21.227754592895508},\n",
      "{goal: \"Get into graduate school\", x: -22.75844955444336, y: 2.8797571659088135},\n",
      "{goal: \"Help someone else reach one of their dreams\", x: 9.128830909729004, y: -34.92299270629883},\n",
      "{goal: \"Write a book\", x: 0.5071635246276855, y: -3.0318093299865723},\n",
      "{goal: \"Go to Switzerland\", x: -23.002012252807617, y: 13.684706687927246},\n",
      "{goal: \"Visit all of the American national parks\", x: -29.547006607055664, y: 21.335145950317383},\n",
      "{goal: \"Cut my consumption of plastic in half\", x: 24.000070571899414, y: 27.533618927001953},\n",
      "{goal: \"Practice gratitude daily\", x: 8.15605640411377, y: -15.596966743469238},\n",
      "{goal: \"Improve my public speaking skills\", x: 20.25713539123535, y: -10.205283164978027},\n",
      "{goal: \"Learn a foreign language\", x: -10.412473678588867, y: 13.088361740112305},\n",
      "{goal: \"Forgive someone who has hurt you\", x: 16.99155044555664, y: -23.501596450805664},\n",
      "{goal: \"Improve my growth mindset\", x: 12.782172203063965, y: -8.027287483215332},\n",
      "{goal: \"Be more proactive\", x: 14.143548965454102, y: 0.9880876541137695},\n",
      "{goal: \"Learn to understand myself\", x: 16.33832359313965, y: -7.8772125244140625},\n",
      "{goal: \"Be persistent despite obstacles\", x: 8.355268478393555, y: -6.174630641937256},\n",
      "{goal: \"Learn to accept my limits\", x: 21.80940818786621, y: 2.428802251815796},\n",
      "{goal: \"Learn how to make effective decisions\", x: 11.455146789550781, y: -3.7563161849975586},\n",
      "{goal: \"Practice gratitude\", x: 8.819304466247559, y: -15.872652053833008},\n",
      "{goal: \"Stay open-minded to new opportunities\", x: -14.019089698791504, y: -3.160137414932251},\n",
      "{goal: \"Learn something new\", x: -2.1402153968811035, y: 5.033217906951904},\n",
      "{goal: \"Live according to my values\", x: 2.273294687271118, y: -16.208091735839844},\n",
      "{goal: \"Learn healthy ways to cope with stress\", x: 25.666202545166016, y: -0.9844267964363098},\n",
      "{goal: \"Recreate my work-life balance\", x: -0.6629378795623779, y: -16.294662475585938},\n",
      "{goal: \"Start good habits\", x: 19.9886474609375, y: 6.5160298347473145},\n",
      "{goal: \"Consider leaving behind expectations\", x: 16.387432098388672, y: -0.1969660520553589},\n",
      "{goal: \"Learn from failure\", x: 14.446622848510742, y: -4.3627471923828125},\n",
      "{goal: \"Eliminate bad habits\", x: 20.07210350036621, y: 6.542611598968506},\n",
      "{goal: \"Improve my communication skills\", x: 20.66864013671875, y: -11.237255096435547},\n",
      "{goal: \"Avoid negativity in the workplace\", x: 11.769914627075195, y: -11.84538459777832},\n",
      "{goal: \"Improve my financial management skills\", x: -21.326021194458008, y: -31.500341415405273},\n",
      "{goal: \"Develop time management skills\", x: 13.23205852508545, y: 5.235007286071777},\n",
      "{goal: \"volunteer at a soup kitchen\", x: 2.485031843185425, y: -23.268001556396484},\n",
      "{goal: \"get fluent in chinese\", x: -8.99511432647705, y: 12.94628620147705},\n",
      "{goal: \"go on hikes regularly\", x: -8.260686874389648, y: 33.458919525146484},\n",
      "{goal: \"stop procrastinating\", x: 15.894170761108398, y: 2.5876941680908203},\n",
      "{goal: \"read more\", x: 3.2867541313171387, y: 1.6159186363220215},\n",
      "{goal: \"Improve Job Performance\", x: 10.282707214355469, y: 1.4007830619812012},\n",
      "{goal: \"Increase Savings\", x: -16.64861488342285, y: -32.0950813293457},\n",
      "{goal: \"Live Within A Budget\", x: -16.824298858642578, y: -27.90936851501465},\n",
      "{goal: \"Eat More Fruits and Vegetables\", x: 17.661001205444336, y: 28.02446746826172},\n",
      "{goal: \"Get Regular Exercise\", x: 4.981762886047363, y: 34.92718505859375},\n",
      "{goal: \"Express Love to your Spouse\", x: 15.428659439086914, y: -35.61498260498047},\n",
      "{goal: \"Strengthen Family Bonds\", x: 9.03270435333252, y: -24.657899856567383},\n",
      "{goal: \"Increase Outdoor Activity\", x: -12.79395580291748, y: 30.093473434448242},\n",
      "{goal: \"Increase Knowledge\", x: -1.422919750213623, y: 3.1654672622680664},\n",
      "{goal: \"Build a Robust Morning Routine\", x: 16.148666381835938, y: 15.474761009216309},\n",
      "{goal: \"Tap into the Power of Meditation\", x: 28.19178581237793, y: 6.303121566772461},\n",
      "{goal: \"Develop a vision for your life\", x: -4.1501688957214355, y: -12.146663665771484},\n",
      "{goal: \"Establish a positive mindset\", x: 12.677451133728027, y: -11.191383361816406},\n",
      "{goal: \"Accept what you can’t change\", x: 20.608482360839844, y: 0.12579433619976044},\n",
      "{goal: \"Never set limits on yourself\", x: 21.94495391845703, y: 2.623162269592285},\n",
      "{goal: \"Cut your path\", x: -9.295363426208496, y: 31.124488830566406},\n",
      "{goal: \"Embrace change\", x: 20.392169952392578, y: -0.25456172227859497},\n",
      "{goal: \"Manage stress\", x: 25.556987762451172, y: -0.6652722358703613},\n",
      "{goal: \"Live in the moment\", x: 4.036243438720703, y: -15.692130088806152},\n",
      "{goal: \"Improve your self-confidence\", x: 21.78537368774414, y: -6.198371887207031},\n",
      "{goal: \"Get up early\", x: 15.314729690551758, y: 13.011889457702637},\n",
      "{goal: \"Hustle every day\", x: -4.37946891784668, y: 35.79690933227539},\n",
      "{goal: \"Stop procrastinating\", x: 16.435626983642578, y: 2.381589412689209},\n",
      "{goal: \"Ask for what you want\", x: -22.874265670776367, y: -9.49911880493164},\n",
      "{goal: \"Get enough sleep\", x: 20.184982299804688, y: 11.93013858795166},\n",
      "{goal: \"Exercise regularly\", x: 5.0440473556518555, y: 33.8183708190918},\n",
      "{goal: \"Become a lifelong learner\", x: -3.414060354232788, y: 4.282618999481201},\n",
      "{goal: \"Keep a journal\", x: 2.267213821411133, y: -10.846404075622559},\n",
      "{goal: \"create a budget\", x: -17.951250076293945, y: -26.90582847595215},\n",
      "{goal: \"Practice self-care\", x: 18.552988052368164, y: -5.497923374176025},\n",
      "{goal: \"Improve your interpersonal skills\", x: 19.590402603149414, y: -11.810141563415527},\n",
      "{goal: \"Learn to be patient\", x: 16.723827362060547, y: -4.378043174743652},\n",
      "{goal: \"Work smart\", x: -11.695030212402344, y: -7.8778486251831055},\n",
      "{goal: \"Capitalize on change\", x: -14.190323829650879, y: -41.58898162841797},\n",
      "{goal: \"Capitalize on failure\", x: -14.21324348449707, y: -41.60403060913086},\n",
      "{goal: \"Become a better listener\", x: 17.718162536621094, y: -13.786678314208984},\n",
      "{goal: \"Plan and prepare your meals\", x: 12.415018081665039, y: 25.172693252563477},\n",
      "{goal: \"Have family meals 3 times a week\", x: 13.908239364624023, y: 25.95301628112793},\n",
      "{goal: \"Improve your time management skills\", x: 12.865063667297363, y: 5.087719440460205},\n",
      "{goal: \"Find work-life balance\", x: -0.20004764199256897, y: -16.104236602783203},\n",
      "{goal: \"Learn how to express yourself\", x: 16.92739486694336, y: -8.534955024719238},\n",
      "{goal: \"Master a new skill\", x: -5.6354498863220215, y: 3.6287012100219727},\n",
      "{goal: \"Control your temper\", x: 25.302209854125977, y: 0.5853621959686279},\n",
      "{goal: \"Learn to say no\", x: 15.093196868896484, y: -11.083958625793457},\n",
      "{goal: \"Become more decisive\", x: 10.666621208190918, y: -4.590193271636963},\n",
      "{goal: \"Improve your body language\", x: 21.9870662689209, y: -10.340073585510254},\n",
      "{goal: \"Improve one of your weaknesses\", x: 14.572535514831543, y: -3.3975777626037598},\n",
      "{goal: \"Become a better leader\", x: -6.417707443237305, y: -7.185807704925537},\n",
      "{goal: \"Volunteer for a cause you believe in\", x: -0.2668873965740204, y: -23.151836395263672},\n",
      "{goal: \"Discover your best place to live\", x: -25.575117111206055, y: 16.24399185180664},\n",
      "{goal: \"Make a “bucket list”\", x: 7.530847072601318, y: -2.37815523147583},\n",
      "{goal: \"Plan and take a special trip\", x: -22.011741638183594, y: 21.896894454956055},\n",
      "{goal: \"Read a new book\", x: 1.4986262321472168, y: 4.762936115264893},\n",
      "{goal: \"Take on a new challenge\", x: -4.95676851272583, y: -0.3160502016544342},\n",
      "{goal: \"Expand your network of friends\", x: 17.442461013793945, y: -18.73430061340332},\n",
      "{goal: \"Find your perfect life partner\", x: 14.115286827087402, y: -30.676401138305664},\n",
      "{goal: \"Become a better spouse\", x: 15.005361557006836, y: -28.027328491210938},\n",
      "{goal: \"Grow into a better parent\", x: 7.885501861572266, y: -27.763093948364258},\n",
      "{goal: \"Remove toxic people from your life\", x: 26.069103240966797, y: -7.446105003356934},\n",
      "{goal: \"Find a mentor\", x: -32.169307708740234, y: -5.9865403175354},\n",
      "{goal: \"Become a mentor\", x: -32.15959930419922, y: -5.922451496124268},\n",
      "{goal: \"lose 20 pounds\", x: 16.32120132446289, y: 36.12971115112305},\n",
      "{goal: \"wake up at 6am every day\", x: 17.8769588470459, y: 13.35161304473877},\n",
      "{goal: \"wake up early every day\", x: 16.490522384643555, y: 13.809479713439941},\n",
      "{goal: \"wake up at 7 am every day\", x: 18.196943283081055, y: 14.24984073638916},\n",
      "{goal: \"wake up at 4:30 am every day\", x: 17.31847381591797, y: 14.284431457519531},\n",
      "{goal: \"get better at communicating\", x: 21.4247989654541, y: -11.945999145507812},\n",
      "{goal: \"plan more\", x: 6.144474983215332, y: 1.3638464212417603},\n",
      "{goal: \"wake up earlier\", x: 16.211740493774414, y: 12.940051078796387},\n",
      "{goal: \"be more productive\", x: 12.219825744628906, y: 0.09474119544029236},\n",
      "{goal: \"get a degree  \", x: -21.022397994995117, y: 0.1803554743528366},\n",
      "{goal: \"go to college\", x: -20.26108741760254, y: 3.009690999984741},\n",
      "{goal: \"go to university\", x: -20.400724411010742, y: 3.0588297843933105},\n",
      "{goal: \"do push-ups every day\", x: 2.899545431137085, y: 38.685184478759766},\n",
      "{goal: \"stop drinking soda\", x: 24.315017700195312, y: 25.801380157470703},\n",
      "{goal: \"stop gossiping\", x: 21.23747444152832, y: -15.198577880859375},\n",
      "{goal: \"get a job\", x: -17.23310661315918, y: -5.450338363647461},\n",
      "{goal: \"find a job\", x: -17.143085479736328, y: -6.577723979949951},\n",
      "{goal: \"find a new job\", x: -14.99427318572998, y: -4.8562726974487305},\n",
      "{goal: \"find a better job\", x: -14.76740837097168, y: -6.851478099822998},\n",
      "{goal: \"get a better job\", x: -14.164236068725586, y: -6.73936128616333},\n",
      "{goal: \"meet more people\", x: 25.292015075683594, y: -15.240731239318848},\n",
      "{goal: \"meet one new person each week\", x: 28.519283294677734, y: -16.26827049255371},\n",
      "{goal: \"meet 3 new people each month\", x: 27.3485050201416, y: -16.20128059387207},\n",
      "{goal: \"earn a promotion\", x: -20.72809600830078, y: -13.172557830810547},\n",
      "{goal: \"ask a good question every day\", x: 4.81286096572876, y: 7.941161632537842},\n",
      "{goal: \"go to australia\", x: -22.52214241027832, y: 14.66597843170166},\n",
      "{goal: \"skydive\", x: -21.896045684814453, y: 29.290353775024414},\n",
      "{goal: \"lift\", x: 0.9857579469680786, y: 27.10009765625},\n",
      "{goal: \"workout\", x: 2.965740919113159, y: 31.684722900390625},\n",
      "{goal: \"lift more\", x: 1.2002149820327759, y: 27.39731788635254},\n",
      "{goal: \"do something fun\", x: -17.722558975219727, y: 17.968788146972656},\n",
      "{goal: \"do something challenging\", x: -4.056332111358643, y: 0.09943058341741562},\n",
      "{goal: \"go on a date night\", x: -18.61798667907715, y: 19.04612159729004},\n",
      "{goal: \"go on a cruise\", x: -19.703655242919922, y: 20.638595581054688},\n",
      "{goal: \"be a better friend\", x: 20.339305877685547, y: -20.8912353515625},\n",
      "{goal: \"be a better boyfriend\", x: 22.77027702331543, y: -26.48017692565918},\n",
      "{goal: \"be a better girlfriend\", x: 21.309667587280273, y: -27.890878677368164},\n",
      "{goal: \"be kind\", x: 26.34323501586914, y: -22.78420066833496},\n",
      "{goal: \"get a girlfriend\", x: 22.8231201171875, y: -28.683494567871094},\n",
      "{goal: \"get a boyfriend\", x: 23.631563186645508, y: -28.177003860473633},\n",
      "{goal: \"get a partner\", x: 16.116668701171875, y: -29.840543746948242},\n",
      "{goal: \"be a better partner\", x: 16.06641387939453, y: -28.305004119873047},\n",
      "{goal: \"give a compliment every day\", x: 28.948453903198242, y: -10.357444763183594},\n",
      "{goal: \"lose weight\", x: 16.470430374145508, y: 33.79623794555664},\n",
      "{goal: \"yoga\", x: 7.744251251220703, y: 29.6816349029541},\n",
      "{goal: \"Do yoga\", x: 8.394173622131348, y: 29.80670166015625},\n",
      "{goal: \"TRAVEL THE WORLD\", x: -24.670907974243164, y: 19.352725982666016},\n",
      "{goal: \"join a gym\", x: 0.9721043705940247, y: 32.10071563720703},\n",
      "{goal: \"hit the gym\", x: 1.8091673851013184, y: 32.84699249267578},\n",
      "{goal: \"get 8 hours of sleep each night\", x: 20.91325569152832, y: 13.587930679321289},\n",
      "{goal: \"get eight hours of sleep every night\", x: 20.8696231842041, y: 13.736166954040527},\n",
      "{goal: \"stop eating candy\", x: 21.054353713989258, y: 29.529151916503906},\n",
      "{goal: \"cut back on sugar\", x: 20.984710693359375, y: 27.88077163696289},\n",
      "{goal: \"Ask for a raise\", x: -19.264225006103516, y: -12.491692543029785},\n",
      "{goal: \"Pay back all my debt\", x: -23.81492805480957, y: -34.64429473876953},\n",
      "{goal: \"buy a home\", x: -7.637601852416992, y: -30.677623748779297},\n",
      "{goal: \"get better at tracking my finances\", x: -20.990888595581055, y: -29.537763595581055},\n",
      "{goal: \"manage my finances better\", x: -21.125890731811523, y: -30.57369041442871},\n",
      "{goal: \"start manging my money better\", x: -19.217363357543945, y: -30.2850284576416},\n",
      "{goal: \"start budgeting\", x: -18.699951171875, y: -27.682537078857422},\n",
      "{goal: \"budget\", x: -16.776824951171875, y: -26.637542724609375},\n",
      "{goal: \"Read more\", x: 2.4959027767181396, y: 1.7677706480026245},\n",
      "{goal: \"start reading more\", x: 3.4821770191192627, y: 2.9695370197296143},\n",
      "{goal: \"be more friendly\", x: 21.606740951538086, y: -19.38688087463379},\n",
      "{goal: \"meet a ton of people\", x: 25.62702178955078, y: -15.64258861541748},\n",
      "{goal: \"meditate\", x: 27.37397575378418, y: 7.35184907913208},\n",
      "{goal: \"start meditating\", x: 28.311071395874023, y: 7.626314163208008},\n",
      "{goal: \"journal\", x: 2.1385254859924316, y: -9.497031211853027},\n",
      "{goal: \"start a journal\", x: 1.2196325063705444, y: -10.523965835571289},\n",
      "{goal: \"zipline\", x: -23.698917388916016, y: 31.686731338500977},\n",
      "{goal: \"eat more healthily\", x: 16.418272018432617, y: 28.354686737060547},\n",
      "{goal: \"eat healthier\", x: 15.173352241516113, y: 29.82536506652832},\n",
      "{goal: \"eat more healthy foods\", x: 16.495203018188477, y: 29.182260513305664},\n",
      "{goal: \"cook more\", x: 8.58103084564209, y: 23.099193572998047},\n",
      "{goal: \"learn to cook\", x: 8.81665325164795, y: 20.209365844726562},\n",
      "{goal: \"be more positive\", x: 13.05412483215332, y: -11.982216835021973},\n",
      "{goal: \"give more compliments\", x: 28.981420516967773, y: -10.282605171203613},\n",
      "{goal: \"grind\", x: 2.303792953491211, y: 25.591707229614258},\n",
      "{goal: \"become a doctor\", x: -25.93808937072754, y: -0.8831285834312439},\n",
      "{goal: \"work harder\", x: -12.377537727355957, y: -6.4476423263549805},\n",
      "{goal: \"Be more efficient\", x: 11.889669418334961, y: 0.10649043321609497},\n",
      "{goal: \"Meditate for 30 minutes a day\", x: 27.677663803100586, y: 9.105852127075195},\n",
      "{goal: \"Meditate for 15 minutes each day\", x: 27.20308494567871, y: 9.742039680480957},\n",
      "{goal: \"meditate for 20 mins every day\", x: 26.629968643188477, y: 9.031048774719238},\n",
      "{goal: \"Go to the gym every day\", x: 1.5935691595077515, y: 33.735504150390625},\n",
      "{goal: \"start a charity\", x: -1.0545655488967896, y: -24.581035614013672},\n",
      "{goal: \"write an autobiography\", x: 1.3062433004379272, y: -4.663277626037598},\n",
      "{goal: \"become famous\", x: -10.229527473449707, y: -13.742799758911133},\n",
      "{goal: \"get into fashion\", x: 32.53265380859375, y: -4.76331090927124},\n",
      "{goal: \"go to Paris fashion week\", x: 32.89205551147461, y: -3.874553680419922},\n",
      "{goal: \"learn how to sew\", x: -1.1158368587493896, y: 22.44107437133789},\n",
      "{goal: \"run a marathon\", x: -8.80325984954834, y: 40.36714172363281},\n",
      "{goal: \"marathon\", x: -9.89096736907959, y: 40.39662551879883},\n",
      "{goal: \"donate more\", x: -2.389284372329712, y: -24.172550201416016},\n",
      "{goal: \"learn how to code\", x: -3.3098556995391846, y: 10.330682754516602},\n",
      "{goal: \"create an app\", x: -29.329710006713867, y: -19.723268508911133},\n",
      "{goal: \"create a brand\", x: -16.24789047241211, y: -20.97336196899414},\n",
      "{goal: \"create a fashion brand\", x: -16.14533805847168, y: -21.001388549804688},\n",
      "{goal: \"read\", x: 1.7961153984069824, y: 0.5858602523803711},\n",
      "{goal: \"read more\", x: 2.8320016860961914, y: 1.2140165567398071},\n",
      "{goal: \"Read more books\", x: 2.548661708831787, y: 4.043985843658447},\n",
      "{goal: \"leetcode every day\", x: 17.92662239074707, y: 19.407899856567383},\n",
      "{goal: \"do leetcode every day\", x: 17.925046920776367, y: 19.41733169555664},\n",
      "{goal: \"get into Google\", x: -23.50752830505371, y: -4.828547477722168},\n",
      "{goal: \"get into google\", x: -23.50752830505371, y: -4.828547477722168},\n",
      "{goal: \"find a good job\", x: -16.27427864074707, y: -7.359271049499512},\n",
      "{goal: \"get married\", x: 17.320722579956055, y: -34.32557678222656},\n",
      "{goal: \"See exotic places\", x: -26.730714797973633, y: 23.437320709228516},\n",
      "{goal: \"Have kids\", x: 3.1687889099121094, y: -28.346525192260742},\n",
      "{goal: \"Become a doctor\", x: -25.93808937072754, y: -0.8831285834312439},\n",
      "{goal: \"have a stable income\", x: -21.980541229248047, y: -26.593233108520508},\n",
      "{goal: \"propose\", x: 18.923131942749023, y: -35.39191818237305},\n",
      "{goal: \"get into med school\", x: -25.930953979492188, y: 0.22074612975120544},\n",
      "{goal: \"Be actually happy\", x: 12.973947525024414, y: -16.810400009155273},\n",
      "{goal: \"get engaged\", x: 18.712800979614258, y: -34.31083297729492},\n",
      "{goal: \"see exotic places\", x: -26.730714797973633, y: 23.437320709228516},\n",
      "{goal: \"have children\", x: 3.1450910568237305, y: -28.30328369140625},\n",
      "{goal: \"get a hot girlfriend\", x: 24.02847671508789, y: -29.77618980407715},\n",
      "{goal: \"get a hot boyfriend\", x: 24.531517028808594, y: -29.38010025024414},\n",
      "{goal: \"get a well-paid job\", x: -16.160560607910156, y: -8.657065391540527},\n",
      "{goal: \"become a millionare\", x: -16.56520652770996, y: -16.582523345947266},\n",
      "{goal: \"buy a pool\", x: -14.548389434814453, y: 27.047649383544922},\n",
      "{goal: \"get an apartment\", x: -7.407253742218018, y: -28.878612518310547},\n",
      "{goal: \"move to NYC\", x: -25.92784881591797, y: 13.51600170135498},\n",
      "{goal: \"retire\", x: -17.453584671020508, y: -36.12299346923828},\n",
      "{goal: \"become an actor\", x: -12.739181518554688, y: -13.9968900680542},\n",
      "{goal: \"become a famous actor\", x: -12.135355949401855, y: -14.010826110839844},\n",
      "{goal: \"become a celebrity\", x: -10.934991836547852, y: -14.488137245178223},\n",
      "{goal: \"become a famous singer\", x: -9.456717491149902, y: -12.662156105041504},\n",
      "{goal: \"actually get fit\", x: 9.729469299316406, y: 35.828102111816406},\n",
      "{goal: \"get fit\", x: 9.638962745666504, y: 35.395389556884766},\n",
      "{goal: \"buy a luxury car\", x: -12.04072093963623, y: -27.49282455444336},\n",
      "{goal: \"get a Bugatti\", x: -12.31081771850586, y: -25.168529510498047},\n",
      "{goal: \"learn karate\", x: -5.82391357421875, y: 15.085505485534668},\n",
      "{goal: \"get abs\", x: 8.07275104522705, y: 39.449039459228516},\n",
      "{goal: \"learn taekwondo\", x: -6.0453782081604, y: 15.321507453918457},\n",
      "{goal: \"build a treehouse\", x: -7.853590965270996, y: -35.73625183105469},\n",
      "{goal: \"stop eating unhealthy\", x: 18.653888702392578, y: 30.6400203704834},\n",
      "{goal: \"stop eating chips\", x: 21.02400779724121, y: 30.669084548950195},\n",
      "{goal: \"run every day\", x: -4.073002338409424, y: 37.07389450073242},\n",
      "{goal: \"run 3 times a week\", x: -3.4738025665283203, y: 38.056697845458984},\n",
      "{goal: \"Jog 4 times a week\", x: -2.6376659870147705, y: 38.985382080078125},\n",
      "{goal: \"Run 50 miles this month\", x: -6.028034687042236, y: 40.76276397705078},\n",
      "{goal: \"become a ceo\", x: -21.590669631958008, y: -14.96634578704834},\n",
      "{goal: \"IPO my company at 1 billion\", x: -21.109188079833984, y: -18.135684967041016},\n",
      "{goal: \"learn how to bake\", x: 5.855474472045898, y: 21.227760314941406},\n",
      "{goal: \"open a restaurant\", x: -24.228084564208984, y: -22.4403018951416},\n",
      "{goal: \"be popular\", x: -10.063068389892578, y: -16.76495361328125},\n",
      "{goal: \"read a paper every day\", x: 2.8650920391082764, y: 8.107244491577148},\n",
      "{goal: \"write a research paper\", x: -2.1754395961761475, y: -7.411305904388428},\n",
      "{goal: \"publish a research paper\", x: -1.9183828830718994, y: -7.53990364074707},\n",
      "{goal: \"publish a magazine\", x: -0.14996805787086487, y: -8.405449867248535},\n",
      "{goal: \"write more\", x: 3.8835136890411377, y: 0.08260717242956161},\n",
      "{goal: \"exercise more\", x: 4.85630464553833, y: 31.65896224975586},\n",
      "{goal: \"Run at least 4 miles a day\", x: -4.7934136390686035, y: 40.18024444580078},\n",
      "{goal: \"get straight As\", x: 34.64807891845703, y: -7.604774475097656},\n",
      "{goal: \"win an award\", x: -13.424017906188965, y: -10.933334350585938},\n",
      "{goal: \"make more friends\", x: 19.796791076660156, y: -19.77411460876465},\n",
      "{goal: \"start talking to more people\", x: 22.503372192382812, y: -14.908193588256836},\n",
      "{goal: \"pay more attention to the news\", x: 6.373507022857666, y: 3.9768126010894775},\n",
      "{goal: \"start following politics\", x: -26.497013092041016, y: -12.835363388061523},\n",
      "{goal: \"improve the way I dress\", x: 32.09646224975586, y: -5.802311420440674},\n",
      "{goal: \"do 50 pushups a day\", x: 1.9878613948822021, y: 40.58498001098633},\n",
      "{goal: \"Run a half marathon\", x: -7.7082977294921875, y: 40.812713623046875},\n",
      "{goal: \"become popular\", x: -10.195205688476562, y: -16.582542419433594},\n",
      "{goal: \"be more sociable\", x: 22.286283493041992, y: -17.88213348388672},\n",
      "{goal: \"meet a new person every week\", x: 28.75094223022461, y: -16.26799201965332},\n",
      "{goal: \"diet\", x: 15.994057655334473, y: 31.94962501525879},\n",
      "{goal: \"go vegan\", x: 22.082897186279297, y: 35.01808547973633},\n",
      "{goal: \"start a business\", x: -24.37160873413086, y: -20.070819854736328},\n",
      "{goal: \"create a startup\", x: -28.672527313232422, y: -18.238033294677734},\n",
      "{goal: \"create a start-up\", x: -28.430578231811523, y: -18.294315338134766},\n",
      "{goal: \"create a label\", x: -12.307567596435547, y: -20.52927017211914},\n",
      "{goal: \"start a record label\", x: -12.286521911621094, y: -20.46354103088379},\n",
      "{goal: \"release an album\", x: -1.3957281112670898, y: -10.045066833496094},\n",
      "{goal: \"find my soulmate\", x: 12.82101821899414, y: -33.473731994628906},\n",
      "{goal: \"clean my room\", x: -4.562402725219727, y: -29.700279235839844},\n",
      "{goal: \"Do 70 push-ups every day\", x: 2.0756282806396484, y: 39.06527328491211},\n",
      "{goal: \"do 40 pushups every day\", x: 1.7332948446273804, y: 39.88396072387695},\n",
      "{goal: \"Do 10 pull-ups a day\", x: 3.504915714263916, y: 40.88740158081055},\n",
      "{goal: \"learn something new every day\", x: -1.961260437965393, y: 5.524205207824707},\n",
      "{goal: \"stop masturbating\", x: 27.389583587646484, y: 19.941570281982422},\n",
      "{goal: \"stop doing drugs\", x: 25.49613380432129, y: 20.929058074951172},\n",
      "{goal: \"stop vaping\", x: 28.55772590637207, y: 22.48188591003418},\n",
      "{goal: \"stop doing heroin\", x: 25.30235481262207, y: 21.192869186401367},\n",
      "{goal: \"stop smoking\", x: 27.408605575561523, y: 22.376855850219727},\n",
      "{goal: \"stop gambling\", x: 31.0324649810791, y: 17.876306533813477},\n",
      "{goal: \"stop betting\", x: 31.158300399780273, y: 17.84757423400879},\n",
      "{goal: \"get my finances in order\", x: -22.295726776123047, y: -29.721452713012695},\n",
      "{goal: \"create a budget\", x: -17.80598258972168, y: -27.272581100463867},\n",
      "{goal: \"do my homework on time\", x: 12.06459903717041, y: 7.508188247680664},\n",
      "{goal: \"get an A+ on my physics exam\", x: -27.98396110534668, y: 7.596818923950195},\n",
      "{goal: \"become the German embassy\", x: -23.504241943359375, y: 11.618685722351074},\n",
      "{goal: \"become a rapper\", x: -10.55566692352295, y: -11.888432502746582},\n",
      "{goal: \"turn in my homework on time\", x: 12.69382381439209, y: 7.936437129974365},\n",
      "{goal: \"turn in my assignments on time\", x: 13.176206588745117, y: 8.385865211486816},\n",
      "{goal: \"get my work done\", x: -11.130023002624512, y: -6.155622482299805},\n",
      "{goal: \"become a bartender\", x: -31.813413619995117, y: -3.2074873447418213},\n",
      "{goal: \"learn mixology\", x: -4.270294189453125, y: 6.871932506561279},\n",
      "{goal: \"start a youtube channel\", x: -6.283469200134277, y: -19.25594139099121},\n",
      "{goal: \"get 10k followers on instagram\", x: 35.169490814208984, y: -15.3408784866333},\n",
      "{goal: \"get 1000 followers\", x: 35.122093200683594, y: -15.35429859161377},\n",
      "{goal: \"find my purpose\", x: -3.071450710296631, y: -13.32221508026123},\n",
      "{goal: \"get good grades this year\", x: -26.00656509399414, y: 4.4154887199401855},\n",
      "{goal: \"have better time management\", x: 12.46206283569336, y: 4.511618614196777},\n",
      "{goal: \"get my driver's license\", x: -27.041006088256836, y: -6.490508556365967},\n",
      "{goal: \"take the SAT\", x: -26.00811004638672, y: 6.573764801025391},\n",
      "{goal: \"be a good friend\", x: 20.83390998840332, y: -21.44808578491211},\n",
      "{goal: \"hug mom\", x: 6.602763652801514, y: -30.300153732299805},\n",
      "{goal: \"bake more\", x: 6.755685329437256, y: 22.63551139831543},\n",
      "{goal: \"be a better dog mom\", x: 5.530604839324951, y: -31.509109497070312},\n",
      "{goal: \"reduce body fat\", x: 14.062527656555176, y: 33.56645584106445},\n",
      "{goal: \"get elected president\", x: -27.88599967956543, y: -11.275638580322266},\n",
      "{goal: \"become president\", x: -28.371089935302734, y: -11.458718299865723},\n",
      "{goal: \"get elected to a government position\", x: -26.849082946777344, y: -11.436121940612793},\n",
      "{goal: \"get elected to the senate\", x: -27.19822883605957, y: -10.346362113952637},\n",
      "{goal: \"be a good boyfriend\", x: 22.18353843688965, y: -26.328102111816406},\n",
      "{goal: \"be a good girlfriend\", x: 21.201433181762695, y: -27.252450942993164},\n",
      "{goal: \"be a good partner\", x: 16.540660858154297, y: -28.631420135498047},\n",
      "{goal: \"turn things in on time\", x: 14.052608489990234, y: 7.694101810455322},\n",
      "{goal: \"be better at communicating\", x: 21.35179328918457, y: -12.241893768310547},\n",
      "{goal: \"respond to texts regularly\", x: 22.989194869995117, y: -12.242321968078613},\n",
      "{goal: \"check my email every day\", x: 4.508679389953613, y: 9.585199356079102},\n",
      "{goal: \"find something I'm interested in\", x: -21.915876388549805, y: -8.591436386108398},\n",
      "{goal: \"find something I actually enjoy\", x: -21.486961364746094, y: -8.318081855773926},\n",
      "{goal: \"find a friend\", x: 19.379594802856445, y: -22.32513427734375},\n",
      "{goal: \"get an A on my exam\", x: -27.661073684692383, y: 7.383748531341553},\n",
      "{goal: \"get a 40\", x: -28.743419647216797, y: 3.952435255050659},\n",
      "{goal: \"get a 40 this semester\", x: -28.40443992614746, y: 3.997023344039917},\n",
      "{goal: \"volunteer at a kitchen\", x: 2.694364309310913, y: -23.195350646972656},\n",
      "{goal: \"do more volunteer work\", x: 0.5296549797058105, y: -21.76566505432129},\n",
      "{goal: \"save the environment\", x: -16.221851348876953, y: 13.998967170715332},\n",
      "{goal: \"become a starter\", x: -27.90717124938965, y: -17.185501098632812},\n",
      "{goal: \"get good at basketball\", x: -9.045415878295898, y: 21.357160568237305},\n",
      "{goal: \"get good at baseball\", x: -10.763684272766113, y: 20.07345962524414},\n",
      "{goal: \"get good at football\", x: -10.297026634216309, y: 21.86800765991211},\n",
      "{goal: \"score a touchdown\", x: -11.803964614868164, y: 22.745304107666016},\n",
      "{goal: \"hit a homerun\", x: -12.200345039367676, y: 20.461153030395508},\n",
      "{goal: \"get good at running\", x: -6.939956188201904, y: 38.49784469604492},\n",
      "{goal: \"beat my mile time\", x: -8.923653602600098, y: 42.51347732543945},\n",
      "{goal: \"run a sub-6 mile\", x: -5.376636505126953, y: 42.75341033935547},\n",
      "{goal: \"run a sub-5 mile\", x: -4.983926296234131, y: 42.41539764404297},\n",
      "{goal: \"be attractive\", x: 27.853940963745117, y: -20.604251861572266},\n",
      "{goal: \"do my taxes\", x: -24.677078247070312, y: -28.483844757080078},\n",
      "{goal: \"save more money\", x: -16.448923110961914, y: -30.899744033813477},\n",
      "{goal: \"stop spending extra money\", x: -17.362812042236328, y: -30.08662223815918},\n",
      "{goal: \"join the NBA\", x: -8.681857109069824, y: 22.38194465637207},\n",
      "{goal: \"join the NFL\", x: -9.796433448791504, y: 23.11991310119629},\n",
      "{goal: \"get recruited\", x: -19.001794815063477, y: 6.131536960601807},\n",
      "{goal: \"start a firm\", x: -22.79741859436035, y: -17.999650955200195},\n",
      "{goal: \"get a job at goldman\", x: -19.125944137573242, y: -3.946410655975342},\n",
      "{goal: \"get a job at mckinsey\", x: -19.17970085144043, y: -3.254368782043457},\n",
      "{goal: \"get a job at google\", x: -22.240440368652344, y: -4.769637107849121},\n",
      "{goal: \"get into Harvard\", x: -23.79796600341797, y: 5.241187572479248},\n",
      "{goal: \"get into MIT\", x: -22.66891860961914, y: 4.92730712890625},\n",
      "{goal: \"get into Yale\", x: -24.040821075439453, y: 6.055281162261963},\n",
      "{goal: \"get into Princeton\", x: -22.907800674438477, y: 6.030787944793701},\n",
      "{goal: \"get into an elite college\", x: -24.210969924926758, y: 4.411659240722656},\n",
      "{goal: \"become first chair\", x: -29.15917205810547, y: -13.027459144592285},\n",
      "{goal: \"have a live performance\", x: -5.920574188232422, y: -16.796672821044922},\n",
      "{goal: \"study regularly\", x: -13.29318904876709, y: 7.187597751617432},\n",
      "{goal: \"be committed\", x: 9.59638500213623, y: -8.505215644836426},\n",
      "{goal: \"learn how to wrestle\", x: -5.678703784942627, y: 18.850444793701172},\n",
      "{goal: \"win my wrestling tournament\", x: -5.652589797973633, y: 18.910573959350586},\n",
      "{goal: \"join a frat\", x: -18.4114990234375, y: 9.285813331604004},\n",
      "{goal: \"join a school club\", x: -31.27442169189453, y: -0.18303334712982178},\n",
      "{goal: \"get into a nightclub\", x: -31.816720962524414, y: -1.6195660829544067},\n",
      "{goal: \"practice coding problems every day\", x: -2.139235496520996, y: 9.402920722961426},\n",
      "{goal: \"be more relaxed\", x: 23.871957778930664, y: -2.959545135498047},\n",
      "{goal: \"have a happy relationship\", x: 19.315330505371094, y: -30.47663688659668},\n",
      "{goal: \"make a ton of money\", x: -16.520404815673828, y: -12.140128135681152},\n",
      "{goal: \"retire early\", x: -17.441570281982422, y: -36.434932708740234},\n",
      "{goal: \"make a garden\", x: 4.011486053466797, y: 15.877546310424805},\n",
      "{goal: \"get a pizza oven\", x: 4.750421047210693, y: 22.54323387145996},\n",
      "{goal: \"stop being depressed\", x: 13.979957580566406, y: -15.809977531433105},\n",
      "{goal: \"exercise without being out of breath\", x: 5.970553398132324, y: 35.85693359375},\n",
      "{goal: \"stay healhy\", x: 17.66899299621582, y: -2.998894214630127},\n",
      "{goal: \"hike once a week\", x: -8.20200252532959, y: 33.839290618896484},\n",
      "{goal: \"recover from surgery\", x: 22.710996627807617, y: 19.306535720825195},\n",
      "{goal: \"get a group of friends\", x: 17.569791793823242, y: -19.942161560058594},\n",
      "{goal: \"get a best friend\", x: 19.987112045288086, y: -23.182466506958008},\n",
      "{goal: \"get stronger\", x: 2.361043691635132, y: 28.73069190979004},\n",
      "{goal: \"explore the outdoors more\", x: -12.947772979736328, y: 29.862886428833008},\n",
      "{goal: \"build a cabin\", x: -11.340742111206055, y: -34.71953201293945},\n",
      "{goal: \"build a birdhouse\", x: -8.23388957977295, y: -35.51752471923828},\n",
      "{goal: \"learn about carpentry\", x: -8.074117660522461, y: 0.11245348304510117},\n",
      "{goal: \"go sub-7 on the erg\", x: 8.935091018676758, y: 13.444535255432129},\n",
      "{goal: \"get a sub 7 minute time rowing\", x: 10.144292831420898, y: 15.376106262207031},\n",
      "{goal: \"sub 7\", x: 9.333507537841797, y: 13.489962577819824},\n",
      "{goal: \"sub 6:30\", x: 11.553988456726074, y: 13.7409029006958},\n",
      "{goal: \"get a sub 6:30\", x: 11.513800621032715, y: 13.995484352111816},\n",
      "{goal: \"climb mount everest\", x: -14.287687301635742, y: 35.7526741027832},\n",
      "{goal: \"join an esports team\", x: -8.07646656036377, y: 24.84889030456543},\n",
      "{goal: \"go scuba diving\", x: -17.7878475189209, y: 26.31100845336914},\n",
      "{goal: \"graduate summa cum laude\", x: -24.17584228515625, y: 2.3448381423950195},\n",
      "{goal: \"do a backflip\", x: -18.40453338623047, y: 30.01228904724121},\n",
      "{goal: \"swim every day\", x: -1.784044623374939, y: 34.9793815612793},\n",
      "{goal: \"workout every day\", x: 2.137671709060669, y: 35.760799407958984},\n",
      "{goal: \"swim 5 times a week\", x: -1.5993307828903198, y: 35.3560791015625},\n",
      "{goal: \"jog 3 times a week\", x: -2.6174428462982178, y: 38.581581115722656},\n",
      "{goal: \"cycle every day\", x: -3.9824047088623047, y: 32.85398483276367},\n",
      "{goal: \"go cycling every day\", x: -4.492910861968994, y: 32.717262268066406},\n",
      "{goal: \"earn more money\", x: -17.162370681762695, y: -13.105460166931152},\n",
      "{goal: \"study  \", x: -13.44267749786377, y: 6.982035160064697},\n",
      "{goal: \"get better at makeup\", x: 30.603252410888672, y: -6.266852855682373},\n",
      "{goal: \"be pretty\", x: 27.90325927734375, y: -21.05193519592285},\n",
      "{goal: \"start investing\", x: -20.81932830810547, y: -22.067501068115234},\n",
      "{goal: \"be gentle\", x: 28.313020706176758, y: -23.278181076049805},\n",
      "{goal: \"be kind\", x: 26.34267807006836, y: -22.784143447875977},\n",
      "{goal: \"be easygoing\", x: 25.14626693725586, y: -19.68657875061035},\n",
      "{goal: \"have good character\", x: 22.392183303833008, y: -22.83148193359375},\n",
      "{goal: \"speak and write with concision and meaning\", x: 4.0173139572143555, y: -2.083608627319336},\n",
      "{goal: \"self-study math geometry and architecture\", x: -14.706311225891113, y: 5.9578046798706055},\n",
      "{goal: \"exercise early morning\", x: 15.194934844970703, y: 15.031357765197754},\n",
      "{goal: \"do health practices frequently like sauna\", x: 7.107988357543945, y: 33.28794479370117},\n",
      "{goal: \"be present in all things I do\", x: 11.263120651245117, y: -15.073516845703125},\n",
      "{goal: \"find a wife\", x: 15.398075103759766, y: -32.96697235107422},\n",
      "{goal: \"feed people\", x: 13.74125862121582, y: 22.85249900817871},\n",
      "{goal: \"start working out regularly\", x: 3.4341695308685303, y: 34.54514694213867},\n",
      "{goal: \"learn to play Clair de Lune on the piano\", x: -9.438285827636719, y: 9.666787147521973},\n",
      "{goal: \"get more people to rush\", x: 25.761547088623047, y: -13.642757415771484},\n",
      "{goal: \"Write some music when the time feels right\", x: 5.1086530685424805, y: -5.138985633850098},\n",
      "{goal: \"Continue self-improvement\", x: 19.183334350585938, y: -5.694213390350342},\n",
      "{goal: \"Do some more self identity stuff meaning like figure out gender and things\", x: 17.951562881469727, y: -8.596436500549316},\n",
      "{goal: \"Stop being afraid of shit and be true to self\", x: 23.721506118774414, y: -6.305572986602783},\n",
      "{goal: \"Make my frat room dope as fuck\", x: -18.100440979003906, y: 9.517916679382324},\n",
      "{goal: \"try to find a job/internship that I think i'd actually enjoy\", x: -19.593555450439453, y: -7.5953240394592285},\n",
      "{goal: \"lose weight\", x: 15.459098815917969, y: 34.52885055541992},\n",
      "{goal: \"move out of the country\", x: -27.293718338012695, y: 15.365132331848145},\n",
      "{goal: \"don't eat out as often\", x: 15.200743675231934, y: 26.941612243652344},\n",
      "{goal: \"get a second degree\", x: -21.710052490234375, y: -0.079753078520298},\n",
      "{goal: \"make something creative every day\", x: -1.4720172882080078, y: 7.472233295440674},\n",
      "{goal: \"go to yoga every week\", x: 7.971057415008545, y: 31.029449462890625},\n",
      "{goal: \"go to flamenco every week\", x: -7.253086566925049, y: 26.590761184692383},\n",
      "{goal: \"get a new job\", x: -14.74649715423584, y: -5.42218542098999},\n",
      "{goal: \"dance more\", x: -1.167441964149475, y: 17.768360137939453},\n",
      "{goal: \"get a job in my field\", x: -18.6779842376709, y: -5.863104820251465},\n",
      "{goal: \"don't have anxiety\", x: 25.945863723754883, y: -2.5562477111816406},\n",
      "{goal: \"throw a knuckleball\", x: -13.542753219604492, y: 21.225276947021484},\n",
      "{goal: \"get better at pitching\", x: -10.599739074707031, y: 19.53859519958496},\n",
      "{goal: \"get back into a routine of taking medication\", x: 23.97776985168457, y: 19.98120880126953},\n",
      "{goal: \"get a six pack\", x: 8.419652938842773, y: 40.73333740234375},\n",
      "{goal: \"get a 5 figure portfolio\", x: -28.67613983154297, y: -25.119691848754883},\n",
      "{goal: \"look the way I want to\", x: 33.60084533691406, y: -6.899800777435303},\n",
      "{goal: \"Spend more time with family\", x: 9.391678810119629, y: -21.54633903503418},\n",
      "{goal: \"Home renovations\", x: -5.191915988922119, y: -33.691280364990234},\n",
      "{goal: \"Attempt to get our family as close to self-sufficiency as possible\", x: 7.585278511047363, y: -24.33375358581543},\n",
      "{goal: \"Hobbies like wood working\", x: -9.768765449523926, y: -1.14231276512146},\n",
      "{goal: \"More exercise and playing pickleball more\", x: 4.684937000274658, y: 30.181442260742188},\n",
      "{goal: \"Trying to cook exotic dishes for the family to try\", x: 10.674155235290527, y: 21.11163902282715},\n",
      "{goal: \"Making healthy meals in bulk\", x: 12.091262817382812, y: 26.763826370239258},\n",
      "{goal: \"Improving our family's social connections\", x: 10.614490509033203, y: -25.062726974487305},\n",
      "{goal: \"Creating some kind of art like sculptures and writing\", x: -10.832785606384277, y: 1.9590154886245728},\n",
      "{goal: \"Getting more sleep\", x: 20.480743408203125, y: 11.888070106506348},\n",
      "{goal: \"Taking some classes\", x: -13.492700576782227, y: 4.256135940551758},\n",
      "{goal: \"Learning to play an instrument\", x: -7.378714084625244, y: 8.090494155883789},\n",
      "{goal: \"Make a video game\", x: -0.29783958196640015, y: 12.603582382202148},\n",
      "{goal: \"Write a novel\", x: -0.6169148683547974, y: -4.1375041007995605},\n",
      "{goal: \"cook and share high quality nutritious meals\", x: 11.747761726379395, y: 24.328638076782227},\n",
      "{goal: \"putting more time and energy into holidays and other important events\", x: 10.29617977142334, y: 4.234522819519043},\n",
      "{goal: \"gardening and other local food production\", x: 5.253664493560791, y: 16.875682830810547},\n",
      "{goal: \"running errands helping with housework for vulnerable members of the family/community\", x: 5.763427257537842, y: -24.03058433532715},\n",
      "{goal: \"Growing a big garden\", x: 3.4796245098114014, y: 15.71688461303711},\n",
      "{goal: \"Taking more art classes\", x: -12.860708236694336, y: 3.8318679332733154},\n",
      "{goal: \"Building and running an Airbnb cabin\", x: -10.970141410827637, y: -34.938228607177734},\n",
      "{goal: \"Furniture making\", x: -10.602519035339355, y: -0.45162031054496765},\n",
      "{goal: \"Cooking more\", x: 8.355323791503906, y: 22.793943405151367},\n",
      "{goal: \"Mastering bread making\", x: 5.612067222595215, y: 19.709997177124023},\n",
      "{goal: \"Volunteer as a costumed interpreter at a living history museum\", x: 0.3096420466899872, y: -20.130489349365234},\n",
      "{goal: \"Do more arts and crafts and nature activities with my kids if they're still young enough\", x: -9.338411331176758, y: -2.1410701274871826},\n",
      "{goal: \"Traveling and visiting friends more\", x: -22.020334243774414, y: 18.529743194580078},\n"
     ]
    }
   ],
   "source": [
    "for _, x, y, goal in goal_2d_embeddings.itertuples(name=None):\n",
    "  print(f\"{{goal: \\\"{goal}\\\", x: {x}, y: {y}}},\")"
   ]
  },
  {
   "cell_type": "code",
   "execution_count": 9,
   "metadata": {},
   "outputs": [
    {
     "data": {
      "text/html": [
       "<div>\n",
       "<style scoped>\n",
       "    .dataframe tbody tr th:only-of-type {\n",
       "        vertical-align: middle;\n",
       "    }\n",
       "\n",
       "    .dataframe tbody tr th {\n",
       "        vertical-align: top;\n",
       "    }\n",
       "\n",
       "    .dataframe thead th {\n",
       "        text-align: right;\n",
       "    }\n",
       "</style>\n",
       "<table border=\"1\" class=\"dataframe\">\n",
       "  <thead>\n",
       "    <tr style=\"text-align: right;\">\n",
       "      <th></th>\n",
       "      <th>x</th>\n",
       "      <th>y</th>\n",
       "      <th>z</th>\n",
       "      <th>goal</th>\n",
       "    </tr>\n",
       "  </thead>\n",
       "  <tbody>\n",
       "    <tr>\n",
       "      <th>0</th>\n",
       "      <td>0.623445</td>\n",
       "      <td>-30.428440</td>\n",
       "      <td>-26.715790</td>\n",
       "      <td>Blog</td>\n",
       "    </tr>\n",
       "    <tr>\n",
       "      <th>1</th>\n",
       "      <td>12.531246</td>\n",
       "      <td>23.364470</td>\n",
       "      <td>30.647419</td>\n",
       "      <td>Lose weight</td>\n",
       "    </tr>\n",
       "    <tr>\n",
       "      <th>2</th>\n",
       "      <td>-16.691208</td>\n",
       "      <td>-24.179703</td>\n",
       "      <td>-24.791403</td>\n",
       "      <td>Write a book</td>\n",
       "    </tr>\n",
       "    <tr>\n",
       "      <th>3</th>\n",
       "      <td>0.163784</td>\n",
       "      <td>-8.824674</td>\n",
       "      <td>26.049032</td>\n",
       "      <td>Stop procrastinating</td>\n",
       "    </tr>\n",
       "    <tr>\n",
       "      <th>4</th>\n",
       "      <td>35.414791</td>\n",
       "      <td>-37.218540</td>\n",
       "      <td>-5.225401</td>\n",
       "      <td>Fall in love</td>\n",
       "    </tr>\n",
       "    <tr>\n",
       "      <th>...</th>\n",
       "      <td>...</td>\n",
       "      <td>...</td>\n",
       "      <td>...</td>\n",
       "      <td>...</td>\n",
       "    </tr>\n",
       "    <tr>\n",
       "      <th>663</th>\n",
       "      <td>-12.101492</td>\n",
       "      <td>6.650691</td>\n",
       "      <td>18.665855</td>\n",
       "      <td>Cooking more</td>\n",
       "    </tr>\n",
       "    <tr>\n",
       "      <th>664</th>\n",
       "      <td>-24.019661</td>\n",
       "      <td>12.735850</td>\n",
       "      <td>15.024239</td>\n",
       "      <td>Mastering bread making</td>\n",
       "    </tr>\n",
       "    <tr>\n",
       "      <th>665</th>\n",
       "      <td>10.278896</td>\n",
       "      <td>-12.864866</td>\n",
       "      <td>3.797512</td>\n",
       "      <td>Volunteer as a costumed interpreter at a livin...</td>\n",
       "    </tr>\n",
       "    <tr>\n",
       "      <th>666</th>\n",
       "      <td>28.563454</td>\n",
       "      <td>-4.916693</td>\n",
       "      <td>11.320958</td>\n",
       "      <td>Do more arts and crafts and nature activities ...</td>\n",
       "    </tr>\n",
       "    <tr>\n",
       "      <th>667</th>\n",
       "      <td>11.181767</td>\n",
       "      <td>21.505110</td>\n",
       "      <td>-4.580151</td>\n",
       "      <td>Traveling and visiting friends more</td>\n",
       "    </tr>\n",
       "  </tbody>\n",
       "</table>\n",
       "<p>668 rows × 4 columns</p>\n",
       "</div>"
      ],
      "text/plain": [
       "             x          y          z  \\\n",
       "0     0.623445 -30.428440 -26.715790   \n",
       "1    12.531246  23.364470  30.647419   \n",
       "2   -16.691208 -24.179703 -24.791403   \n",
       "3     0.163784  -8.824674  26.049032   \n",
       "4    35.414791 -37.218540  -5.225401   \n",
       "..         ...        ...        ...   \n",
       "663 -12.101492   6.650691  18.665855   \n",
       "664 -24.019661  12.735850  15.024239   \n",
       "665  10.278896 -12.864866   3.797512   \n",
       "666  28.563454  -4.916693  11.320958   \n",
       "667  11.181767  21.505110  -4.580151   \n",
       "\n",
       "                                                  goal  \n",
       "0                                                 Blog  \n",
       "1                                          Lose weight  \n",
       "2                                         Write a book  \n",
       "3                                 Stop procrastinating  \n",
       "4                                         Fall in love  \n",
       "..                                                 ...  \n",
       "663                                       Cooking more  \n",
       "664                             Mastering bread making  \n",
       "665  Volunteer as a costumed interpreter at a livin...  \n",
       "666  Do more arts and crafts and nature activities ...  \n",
       "667                Traveling and visiting friends more  \n",
       "\n",
       "[668 rows x 4 columns]"
      ]
     },
     "execution_count": 9,
     "metadata": {},
     "output_type": "execute_result"
    }
   ],
   "source": [
    "from sklearn.manifold import TSNE\n",
    "\n",
    "goal_3d_embeddings = TSNE(n_components=3, learning_rate='auto', init='random', perplexity=30).fit_transform(goal_embeddings)\n",
    "goal_3d_embeddings = pd.DataFrame(goal_3d_embeddings, columns=[\"x\", \"y\", \"z\"])\n",
    "goal_3d_embeddings[\"goal\"] = goals.copy()\n",
    "goal_3d_embeddings"
   ]
  },
  {
   "cell_type": "code",
   "execution_count": 42,
   "metadata": {},
   "outputs": [
    {
     "data": {
      "text/html": [
       "<div>\n",
       "<style scoped>\n",
       "    .dataframe tbody tr th:only-of-type {\n",
       "        vertical-align: middle;\n",
       "    }\n",
       "\n",
       "    .dataframe tbody tr th {\n",
       "        vertical-align: top;\n",
       "    }\n",
       "\n",
       "    .dataframe thead th {\n",
       "        text-align: right;\n",
       "    }\n",
       "</style>\n",
       "<table border=\"1\" class=\"dataframe\">\n",
       "  <thead>\n",
       "    <tr style=\"text-align: right;\">\n",
       "      <th></th>\n",
       "      <th>x</th>\n",
       "      <th>y</th>\n",
       "      <th>goal</th>\n",
       "      <th>source</th>\n",
       "    </tr>\n",
       "  </thead>\n",
       "  <tbody>\n",
       "    <tr>\n",
       "      <th>0</th>\n",
       "      <td>-32.421833</td>\n",
       "      <td>-18.524136</td>\n",
       "      <td>Blog</td>\n",
       "      <td>web</td>\n",
       "    </tr>\n",
       "    <tr>\n",
       "      <th>1</th>\n",
       "      <td>36.612808</td>\n",
       "      <td>1.947893</td>\n",
       "      <td>Lose weight</td>\n",
       "      <td>web</td>\n",
       "    </tr>\n",
       "    <tr>\n",
       "      <th>2</th>\n",
       "      <td>9.791948</td>\n",
       "      <td>-8.938395</td>\n",
       "      <td>Write a book</td>\n",
       "      <td>web</td>\n",
       "    </tr>\n",
       "    <tr>\n",
       "      <th>3</th>\n",
       "      <td>9.168240</td>\n",
       "      <td>-15.032077</td>\n",
       "      <td>Stop procrastinating</td>\n",
       "      <td>web</td>\n",
       "    </tr>\n",
       "    <tr>\n",
       "      <th>4</th>\n",
       "      <td>-17.399164</td>\n",
       "      <td>-28.054218</td>\n",
       "      <td>Fall in love</td>\n",
       "      <td>web</td>\n",
       "    </tr>\n",
       "    <tr>\n",
       "      <th>...</th>\n",
       "      <td>...</td>\n",
       "      <td>...</td>\n",
       "      <td>...</td>\n",
       "      <td>...</td>\n",
       "    </tr>\n",
       "    <tr>\n",
       "      <th>663</th>\n",
       "      <td>21.181271</td>\n",
       "      <td>-0.282225</td>\n",
       "      <td>Cooking more</td>\n",
       "      <td>reddit</td>\n",
       "    </tr>\n",
       "    <tr>\n",
       "      <th>664</th>\n",
       "      <td>17.815353</td>\n",
       "      <td>0.759695</td>\n",
       "      <td>Mastering bread making</td>\n",
       "      <td>reddit</td>\n",
       "    </tr>\n",
       "    <tr>\n",
       "      <th>665</th>\n",
       "      <td>-17.865107</td>\n",
       "      <td>-6.374341</td>\n",
       "      <td>Volunteer as a costumed interpreter at a livin...</td>\n",
       "      <td>reddit</td>\n",
       "    </tr>\n",
       "    <tr>\n",
       "      <th>666</th>\n",
       "      <td>-5.035253</td>\n",
       "      <td>4.645041</td>\n",
       "      <td>Do more arts and crafts and nature activities ...</td>\n",
       "      <td>reddit</td>\n",
       "    </tr>\n",
       "    <tr>\n",
       "      <th>667</th>\n",
       "      <td>2.093453</td>\n",
       "      <td>26.247829</td>\n",
       "      <td>Traveling and visiting friends more</td>\n",
       "      <td>reddit</td>\n",
       "    </tr>\n",
       "  </tbody>\n",
       "</table>\n",
       "<p>668 rows × 4 columns</p>\n",
       "</div>"
      ],
      "text/plain": [
       "             x          y                                               goal  \\\n",
       "0   -32.421833 -18.524136                                               Blog   \n",
       "1    36.612808   1.947893                                        Lose weight   \n",
       "2     9.791948  -8.938395                                       Write a book   \n",
       "3     9.168240 -15.032077                               Stop procrastinating   \n",
       "4   -17.399164 -28.054218                                       Fall in love   \n",
       "..         ...        ...                                                ...   \n",
       "663  21.181271  -0.282225                                       Cooking more   \n",
       "664  17.815353   0.759695                             Mastering bread making   \n",
       "665 -17.865107  -6.374341  Volunteer as a costumed interpreter at a livin...   \n",
       "666  -5.035253   4.645041  Do more arts and crafts and nature activities ...   \n",
       "667   2.093453  26.247829                Traveling and visiting friends more   \n",
       "\n",
       "     source  \n",
       "0       web  \n",
       "1       web  \n",
       "2       web  \n",
       "3       web  \n",
       "4       web  \n",
       "..      ...  \n",
       "663  reddit  \n",
       "664  reddit  \n",
       "665  reddit  \n",
       "666  reddit  \n",
       "667  reddit  \n",
       "\n",
       "[668 rows x 4 columns]"
      ]
     },
     "execution_count": 42,
     "metadata": {},
     "output_type": "execute_result"
    }
   ],
   "source": [
    "goal_2d_embeddings[\"source\"] = goals_df[\"Source\"].copy().fillna(\"unknown\")\n",
    "# goal_2d_embeddings[\"source\"] = goal_2d_embeddings[\"source\"].replace({\"safa\": \"hidden\"})\n",
    "goal_2d_embeddings"
   ]
  },
  {
   "cell_type": "code",
   "execution_count": 61,
   "metadata": {},
   "outputs": [
    {
     "data": {
      "text/html": [
       "<div>\n",
       "<style scoped>\n",
       "    .dataframe tbody tr th:only-of-type {\n",
       "        vertical-align: middle;\n",
       "    }\n",
       "\n",
       "    .dataframe tbody tr th {\n",
       "        vertical-align: top;\n",
       "    }\n",
       "\n",
       "    .dataframe thead th {\n",
       "        text-align: right;\n",
       "    }\n",
       "</style>\n",
       "<table border=\"1\" class=\"dataframe\">\n",
       "  <thead>\n",
       "    <tr style=\"text-align: right;\">\n",
       "      <th></th>\n",
       "      <th>x</th>\n",
       "      <th>y</th>\n",
       "      <th>goal</th>\n",
       "      <th>source</th>\n",
       "      <th>label</th>\n",
       "    </tr>\n",
       "  </thead>\n",
       "  <tbody>\n",
       "    <tr>\n",
       "      <th>0</th>\n",
       "      <td>-32.421833</td>\n",
       "      <td>-18.524136</td>\n",
       "      <td>Blog</td>\n",
       "      <td>web</td>\n",
       "      <td>21</td>\n",
       "    </tr>\n",
       "    <tr>\n",
       "      <th>1</th>\n",
       "      <td>36.612808</td>\n",
       "      <td>1.947893</td>\n",
       "      <td>Lose weight</td>\n",
       "      <td>web</td>\n",
       "      <td>43</td>\n",
       "    </tr>\n",
       "    <tr>\n",
       "      <th>2</th>\n",
       "      <td>9.791948</td>\n",
       "      <td>-8.938395</td>\n",
       "      <td>Write a book</td>\n",
       "      <td>web</td>\n",
       "      <td>71</td>\n",
       "    </tr>\n",
       "    <tr>\n",
       "      <th>3</th>\n",
       "      <td>9.168240</td>\n",
       "      <td>-15.032077</td>\n",
       "      <td>Stop procrastinating</td>\n",
       "      <td>web</td>\n",
       "      <td>73</td>\n",
       "    </tr>\n",
       "    <tr>\n",
       "      <th>4</th>\n",
       "      <td>-17.399164</td>\n",
       "      <td>-28.054218</td>\n",
       "      <td>Fall in love</td>\n",
       "      <td>web</td>\n",
       "      <td>34</td>\n",
       "    </tr>\n",
       "    <tr>\n",
       "      <th>...</th>\n",
       "      <td>...</td>\n",
       "      <td>...</td>\n",
       "      <td>...</td>\n",
       "      <td>...</td>\n",
       "      <td>...</td>\n",
       "    </tr>\n",
       "    <tr>\n",
       "      <th>663</th>\n",
       "      <td>21.181271</td>\n",
       "      <td>-0.282225</td>\n",
       "      <td>Cooking more</td>\n",
       "      <td>reddit</td>\n",
       "      <td>46</td>\n",
       "    </tr>\n",
       "    <tr>\n",
       "      <th>664</th>\n",
       "      <td>17.815353</td>\n",
       "      <td>0.759695</td>\n",
       "      <td>Mastering bread making</td>\n",
       "      <td>reddit</td>\n",
       "      <td>46</td>\n",
       "    </tr>\n",
       "    <tr>\n",
       "      <th>665</th>\n",
       "      <td>-17.865107</td>\n",
       "      <td>-6.374341</td>\n",
       "      <td>Volunteer as a costumed interpreter at a livin...</td>\n",
       "      <td>reddit</td>\n",
       "      <td>13</td>\n",
       "    </tr>\n",
       "    <tr>\n",
       "      <th>666</th>\n",
       "      <td>-5.035253</td>\n",
       "      <td>4.645041</td>\n",
       "      <td>Do more arts and crafts and nature activities ...</td>\n",
       "      <td>reddit</td>\n",
       "      <td>94</td>\n",
       "    </tr>\n",
       "    <tr>\n",
       "      <th>667</th>\n",
       "      <td>2.093453</td>\n",
       "      <td>26.247829</td>\n",
       "      <td>Traveling and visiting friends more</td>\n",
       "      <td>reddit</td>\n",
       "      <td>4</td>\n",
       "    </tr>\n",
       "  </tbody>\n",
       "</table>\n",
       "<p>668 rows × 5 columns</p>\n",
       "</div>"
      ],
      "text/plain": [
       "             x          y                                               goal  \\\n",
       "0   -32.421833 -18.524136                                               Blog   \n",
       "1    36.612808   1.947893                                        Lose weight   \n",
       "2     9.791948  -8.938395                                       Write a book   \n",
       "3     9.168240 -15.032077                               Stop procrastinating   \n",
       "4   -17.399164 -28.054218                                       Fall in love   \n",
       "..         ...        ...                                                ...   \n",
       "663  21.181271  -0.282225                                       Cooking more   \n",
       "664  17.815353   0.759695                             Mastering bread making   \n",
       "665 -17.865107  -6.374341  Volunteer as a costumed interpreter at a livin...   \n",
       "666  -5.035253   4.645041  Do more arts and crafts and nature activities ...   \n",
       "667   2.093453  26.247829                Traveling and visiting friends more   \n",
       "\n",
       "     source label  \n",
       "0       web    21  \n",
       "1       web    43  \n",
       "2       web    71  \n",
       "3       web    73  \n",
       "4       web    34  \n",
       "..      ...   ...  \n",
       "663  reddit    46  \n",
       "664  reddit    46  \n",
       "665  reddit    13  \n",
       "666  reddit    94  \n",
       "667  reddit     4  \n",
       "\n",
       "[668 rows x 5 columns]"
      ]
     },
     "execution_count": 61,
     "metadata": {},
     "output_type": "execute_result"
    }
   ],
   "source": [
    "from sklearn.cluster import KMeans, AgglomerativeClustering\n",
    "\n",
    "X = goal_2d_embeddings[[\"x\", \"y\"]].to_numpy()\n",
    "clusters = AgglomerativeClustering(n_clusters=None, distance_threshold=10).fit(X)\n",
    "\n",
    "goal_2d_embeddings[\"label\"] = list(clusters.labels_)\n",
    "goal_2d_embeddings[\"label\"] = goal_2d_embeddings[\"label\"].astype(str)\n",
    "goal_2d_embeddings"
   ]
  },
  {
   "cell_type": "code",
   "execution_count": 62,
   "metadata": {},
   "outputs": [
    {
     "data": {
      "application/vnd.plotly.v1+json": {
       "config": {
        "plotlyServerURL": "https://plot.ly"
       },
       "data": [
        {
         "hovertemplate": "label=21<br>x=%{x}<br>y=%{y}<br>goal=%{text}<extra></extra>",
         "legendgroup": "21",
         "marker": {
          "color": "#636efa",
          "opacity": 0.2,
          "symbol": "circle"
         },
         "mode": "markers+text",
         "name": "21",
         "orientation": "v",
         "showlegend": true,
         "text": [
          "Blog",
          "Journal",
          "Keep a life journal",
          "Keep a journal",
          "journal",
          "start a journal",
          "write a research paper",
          "publish a research paper",
          "publish a magazine",
          "release an album"
         ],
         "textfont": {
          "color": "#636efa"
         },
         "type": "scatter",
         "x": [
          -32.42183303833008,
          -31.32918357849121,
          -29.52811050415039,
          -29.96774673461914,
          -31.28501319885254,
          -30.085391998291016,
          -27.564176559448242,
          -27.828205108642578,
          -30.248668670654297,
          -32.03202438354492
         ],
         "xaxis": "x",
         "y": [
          -18.52413558959961,
          -17.793306350708008,
          -18.84912872314453,
          -18.243406295776367,
          -17.963335037231445,
          -17.217374801635742,
          -15.062508583068848,
          -15.088520050048828,
          -15.262765884399414,
          -13.79296875
         ],
         "yaxis": "y"
        },
        {
         "hovertemplate": "label=43<br>x=%{x}<br>y=%{y}<br>goal=%{text}<extra></extra>",
         "legendgroup": "43",
         "marker": {
          "color": "#EF553B",
          "opacity": 0.2,
          "symbol": "circle"
         },
         "mode": "markers+text",
         "name": "43",
         "orientation": "v",
         "showlegend": true,
         "text": [
          "Lose weight",
          "Lose weight",
          "Maintain my ideal body weight",
          "Lose 10 pounds",
          "lose 20 pounds",
          "lose weight",
          "diet",
          "reduce body fat",
          "lose weight"
         ],
         "textfont": {
          "color": "#EF553B"
         },
         "type": "scatter",
         "x": [
          36.61280822753906,
          36.079620361328125,
          35.43181610107422,
          38.4878044128418,
          38.38546371459961,
          36.98826599121094,
          34.88064193725586,
          35.04470443725586,
          36.618221282958984
         ],
         "xaxis": "x",
         "y": [
          1.947892665863037,
          2.5522189140319824,
          5.381445407867432,
          2.281536340713501,
          3.391901731491089,
          2.5378901958465576,
          1.2501239776611328,
          3.7220771312713623,
          3.165226459503174
         ],
         "yaxis": "y"
        },
        {
         "hovertemplate": "label=71<br>x=%{x}<br>y=%{y}<br>goal=%{text}<extra></extra>",
         "legendgroup": "71",
         "marker": {
          "color": "#00cc96",
          "opacity": 0.2,
          "symbol": "circle"
         },
         "mode": "markers+text",
         "name": "71",
         "orientation": "v",
         "showlegend": true,
         "text": [
          "Write a book",
          "Write a novel",
          "Publish a novel",
          "Write a movie script or TV episode",
          "Write a book",
          "write an autobiography",
          "Write a novel"
         ],
         "textfont": {
          "color": "#00cc96"
         },
         "type": "scatter",
         "x": [
          9.791948318481445,
          8.260843276977539,
          8.024225234985352,
          6.709218978881836,
          9.712743759155273,
          10.217360496520996,
          8.260843276977539
         ],
         "xaxis": "x",
         "y": [
          -8.938394546508789,
          -9.136919975280762,
          -10.276851654052734,
          -8.267091751098633,
          -8.752575874328613,
          -10.403936386108398,
          -9.136919975280762
         ],
         "yaxis": "y"
        },
        {
         "hovertemplate": "label=73<br>x=%{x}<br>y=%{y}<br>goal=%{text}<extra></extra>",
         "legendgroup": "73",
         "marker": {
          "color": "#ab63fa",
          "opacity": 0.2,
          "symbol": "circle"
         },
         "mode": "markers+text",
         "name": "73",
         "orientation": "v",
         "showlegend": true,
         "text": [
          "Stop procrastinating",
          "Be more proactive",
          "Consider leaving behind expectations",
          "stop procrastinating",
          "Stop procrastinating"
         ],
         "textfont": {
          "color": "#ab63fa"
         },
         "type": "scatter",
         "x": [
          9.16823959350586,
          7.690069198608398,
          6.231163501739502,
          8.7197847366333,
          9.266849517822266
         ],
         "xaxis": "x",
         "y": [
          -15.032076835632324,
          -16.37286376953125,
          -14.092426300048828,
          -14.631206512451172,
          -14.507729530334473
         ],
         "yaxis": "y"
        },
        {
         "hovertemplate": "label=34<br>x=%{x}<br>y=%{y}<br>goal=%{text}<extra></extra>",
         "legendgroup": "34",
         "marker": {
          "color": "#FFA15A",
          "opacity": 0.2,
          "symbol": "circle"
         },
         "mode": "markers+text",
         "name": "34",
         "orientation": "v",
         "showlegend": true,
         "text": [
          "Fall in love",
          "Kiss in the rain",
          "Find my life partner",
          "Find my soulmate",
          "Find a life partner",
          "Express Love to your Spouse",
          "Find your perfect life partner",
          "Become a better spouse",
          "find my soulmate",
          "find a wife"
         ],
         "textfont": {
          "color": "#FFA15A"
         },
         "type": "scatter",
         "x": [
          -17.3991641998291,
          -18.382844924926758,
          -15.542010307312012,
          -18.901649475097656,
          -15.263991355895996,
          -15.835558891296387,
          -14.722501754760742,
          -14.00451946258545,
          -18.901649475097656,
          -16.892324447631836
         ],
         "xaxis": "x",
         "y": [
          -28.054218292236328,
          -27.61655616760254,
          -31.334348678588867,
          -31.203968048095703,
          -31.061508178710938,
          -28.449914932250977,
          -31.923179626464844,
          -28.582199096679688,
          -31.203968048095703,
          -32.19099426269531
         ],
         "yaxis": "y"
        },
        {
         "hovertemplate": "label=49<br>x=%{x}<br>y=%{y}<br>goal=%{text}<extra></extra>",
         "legendgroup": "49",
         "marker": {
          "color": "#19d3f3",
          "opacity": 0.2,
          "symbol": "circle"
         },
         "mode": "markers+text",
         "name": "49",
         "orientation": "v",
         "showlegend": true,
         "text": [
          "Be happy",
          "Practice gratitude everyday",
          "Keep a Daily Journal or Gratitude Log ",
          "Practice gratitude daily",
          "Practice gratitude",
          "Be actually happy",
          "stop being depressed"
         ],
         "textfont": {
          "color": "#19d3f3"
         },
         "type": "scatter",
         "x": [
          -1.6048762798309326,
          2.0691816806793213,
          0.8132643103599548,
          1.616745948791504,
          1.9401599168777466,
          -1.6123590469360352,
          -0.3939233720302582
         ],
         "xaxis": "x",
         "y": [
          -32.0326042175293,
          -35.025901794433594,
          -36.51514434814453,
          -34.9549674987793,
          -34.323387145996094,
          -32.171417236328125,
          -31.479766845703125
         ],
         "yaxis": "y"
        },
        {
         "hovertemplate": "label=20<br>x=%{x}<br>y=%{y}<br>goal=%{text}<extra></extra>",
         "legendgroup": "20",
         "marker": {
          "color": "#FF6692",
          "opacity": 0.2,
          "symbol": "circle"
         },
         "mode": "markers+text",
         "name": "20",
         "orientation": "v",
         "showlegend": true,
         "text": [
          "Get a tattoo",
          "Ask for what you want",
          "get into Google",
          "get into google",
          "win an award",
          "find something I'm interested in",
          "find something I actually enjoy",
          "get a job at google"
         ],
         "textfont": {
          "color": "#FF6692"
         },
         "type": "scatter",
         "x": [
          -11.540785789489746,
          -6.713688373565674,
          -10.02237606048584,
          -10.02237606048584,
          -11.201664924621582,
          -7.355158805847168,
          -7.54580020904541,
          -11.290839195251465
         ],
         "xaxis": "x",
         "y": [
          6.912648677825928,
          8.83272933959961,
          10.662936210632324,
          10.662936210632324,
          4.686166763305664,
          7.708636283874512,
          7.328683376312256,
          10.413033485412598
         ],
         "yaxis": "y"
        },
        {
         "hovertemplate": "label=4<br>x=%{x}<br>y=%{y}<br>goal=%{text}<extra></extra>",
         "legendgroup": "4",
         "marker": {
          "color": "#B6E880",
          "opacity": 0.2,
          "symbol": "circle"
         },
         "mode": "markers+text",
         "name": "4",
         "orientation": "v",
         "showlegend": true,
         "text": [
          "Go on a road trip with no predetermined destination",
          "Travel the world",
          "Travel",
          "Travel more",
          "Go on a trip around the world",
          "Take a motorcycle trip",
          "Go on a electronics-free camping trip",
          "Go on a cross-country road trip",
          "Go on a solo vacation",
          "Go on a trip with my best friends",
          "Plan and take a special trip",
          "go on a cruise",
          "TRAVEL THE WORLD",
          "Traveling and visiting friends more"
         ],
         "textfont": {
          "color": "#B6E880"
         },
         "type": "scatter",
         "x": [
          4.524280071258545,
          1.6155816316604614,
          2.076827049255371,
          1.5296639204025269,
          3.8666393756866455,
          6.031097412109375,
          6.957294464111328,
          4.032637596130371,
          5.598759174346924,
          4.3599371910095215,
          4.957123279571533,
          5.124053001403809,
          1.42228364944458,
          2.0934534072875977
         ],
         "xaxis": "x",
         "y": [
          29.366369247436523,
          28.9227294921875,
          27.922550201416016,
          27.242206573486328,
          26.696638107299805,
          29.08470916748047,
          26.699344635009766,
          28.445688247680664,
          26.432144165039062,
          25.798084259033203,
          27.805639266967773,
          25.243492126464844,
          28.854833602905273,
          26.24782943725586
         ],
         "yaxis": "y"
        },
        {
         "hovertemplate": "label=88<br>x=%{x}<br>y=%{y}<br>goal=%{text}<extra></extra>",
         "legendgroup": "88",
         "marker": {
          "color": "#FF97FF",
          "opacity": 0.2,
          "symbol": "circle"
         },
         "mode": "markers+text",
         "name": "88",
         "orientation": "v",
         "showlegend": true,
         "text": [
          "Get married",
          "get married",
          "propose",
          "get engaged"
         ],
         "textfont": {
          "color": "#FF97FF"
         },
         "type": "scatter",
         "x": [
          -16.660329818725586,
          -16.660619735717773,
          -16.09783363342285,
          -15.536592483520508
         ],
         "xaxis": "x",
         "y": [
          -34.26361083984375,
          -34.26421356201172,
          -36.03861999511719,
          -35.170997619628906
         ],
         "yaxis": "y"
        },
        {
         "hovertemplate": "label=7<br>x=%{x}<br>y=%{y}<br>goal=%{text}<extra></extra>",
         "legendgroup": "7",
         "marker": {
          "color": "#FECB52",
          "opacity": 0.2,
          "symbol": "circle"
         },
         "mode": "markers+text",
         "name": "7",
         "orientation": "v",
         "showlegend": true,
         "text": [
          "Drink more water",
          "Drink enough water everyday",
          "Give up drinking soda",
          "See my doctor and dentist regularly",
          "Cut my consumption of plastic in half",
          "stop drinking soda"
         ],
         "textfont": {
          "color": "#FECB52"
         },
         "type": "scatter",
         "x": [
          31.23055076599121,
          30.886756896972656,
          34.99033737182617,
          32.065181732177734,
          36.096031188964844,
          34.921661376953125
         ],
         "xaxis": "x",
         "y": [
          -4.863513469696045,
          -4.550769805908203,
          -8.774284362792969,
          -6.126669883728027,
          -7.633926868438721,
          -8.907920837402344
         ],
         "yaxis": "y"
        },
        {
         "hovertemplate": "label=1<br>x=%{x}<br>y=%{y}<br>goal=%{text}<extra></extra>",
         "legendgroup": "1",
         "marker": {
          "color": "#636efa",
          "opacity": 0.2,
          "symbol": "circle"
         },
         "mode": "markers+text",
         "name": "1",
         "orientation": "v",
         "showlegend": true,
         "text": [
          "See the Northern Lights",
          "Visit all 50 states",
          "See one of the Seven Wonders of the World",
          "Witness the Northern Lights",
          "Watch a volcano erupt (from a safe distance!)",
          "Visit all of the American national parks",
          "See exotic places",
          "see exotic places"
         ],
         "textfont": {
          "color": "#636efa"
         },
         "type": "scatter",
         "x": [
          6.361174583435059,
          0.22457577288150787,
          2.5392799377441406,
          6.402411460876465,
          5.767603874206543,
          0.5123104453086853,
          3.908294916152954,
          3.908292531967163
         ],
         "xaxis": "x",
         "y": [
          36.343223571777344,
          33.23847961425781,
          31.600914001464844,
          36.44622802734375,
          34.600372314453125,
          33.6627197265625,
          32.56875228881836,
          32.56877899169922
         ],
         "yaxis": "y"
        },
        {
         "hovertemplate": "label=69<br>x=%{x}<br>y=%{y}<br>goal=%{text}<extra></extra>",
         "legendgroup": "69",
         "marker": {
          "color": "#EF553B",
          "opacity": 0.2,
          "symbol": "circle"
         },
         "mode": "markers+text",
         "name": "69",
         "orientation": "v",
         "showlegend": true,
         "text": [
          "Learn Spanish",
          "Learn French",
          "Learn Japanese",
          "Learn to fluently speak French",
          "Learn a foreign language",
          "get fluent in chinese",
          "learn to play Clair de Lune on the piano"
         ],
         "textfont": {
          "color": "#EF553B"
         },
         "type": "scatter",
         "x": [
          7.0410614013671875,
          7.457129001617432,
          8.683186531066895,
          7.5453782081604,
          7.680149078369141,
          9.082624435424805,
          7.847376823425293
         ],
         "xaxis": "x",
         "y": [
          9.873411178588867,
          7.645406723022461,
          10.240090370178223,
          7.816193103790283,
          9.670049667358398,
          9.30199146270752,
          6.017852783203125
         ],
         "yaxis": "y"
        },
        {
         "hovertemplate": "label=87<br>x=%{x}<br>y=%{y}<br>goal=%{text}<extra></extra>",
         "legendgroup": "87",
         "marker": {
          "color": "#00cc96",
          "opacity": 0.2,
          "symbol": "circle"
         },
         "mode": "markers+text",
         "name": "87",
         "orientation": "v",
         "showlegend": true,
         "text": [
          "Save money",
          "Increase Savings",
          "start manging my money better",
          "save more money",
          "stop spending extra money"
         ],
         "textfont": {
          "color": "#00cc96"
         },
         "type": "scatter",
         "x": [
          -28.101821899414062,
          -26.901323318481445,
          -29.27305030822754,
          -27.95090103149414,
          -29.443275451660156
         ],
         "xaxis": "x",
         "y": [
          0.47397950291633606,
          0.5603441596031189,
          2.951998710632324,
          0.81345534324646,
          0.5708224773406982
         ],
         "yaxis": "y"
        },
        {
         "hovertemplate": "label=45<br>x=%{x}<br>y=%{y}<br>goal=%{text}<extra></extra>",
         "legendgroup": "45",
         "marker": {
          "color": "#ab63fa",
          "opacity": 0.2,
          "symbol": "circle"
         },
         "mode": "markers+text",
         "name": "45",
         "orientation": "v",
         "showlegend": true,
         "text": [
          "Take more pictures",
          "Read more books",
          "read more",
          "Read a new book",
          "plan more",
          "Read more",
          "start reading more",
          "read",
          "read more",
          "Read more books",
          "write more",
          "pay more attention to the news"
         ],
         "textfont": {
          "color": "#ab63fa"
         },
         "type": "scatter",
         "x": [
          12.876791000366211,
          11.734829902648926,
          9.881277084350586,
          11.320880889892578,
          10.773235321044922,
          9.567251205444336,
          11.233101844787598,
          8.870930671691895,
          9.567251205444336,
          11.608824729919434,
          10.197760581970215,
          12.773760795593262
         ],
         "xaxis": "x",
         "y": [
          -2.0480005741119385,
          -5.681602954864502,
          -4.554262161254883,
          -7.033526420593262,
          -0.7282335162162781,
          -3.9815521240234375,
          -4.367304801940918,
          -5.260190486907959,
          -3.9815521240234375,
          -5.72550630569458,
          -2.688835620880127,
          -3.1009461879730225
         ],
         "yaxis": "y"
        },
        {
         "hovertemplate": "label=31<br>x=%{x}<br>y=%{y}<br>goal=%{text}<extra></extra>",
         "legendgroup": "31",
         "marker": {
          "color": "#FFA15A",
          "opacity": 0.2,
          "symbol": "circle"
         },
         "mode": "markers+text",
         "name": "31",
         "orientation": "v",
         "showlegend": true,
         "text": [
          "Buy a house",
          "Buy a new home",
          "Remodel my home",
          "Redecorate my home",
          "Buy my first house",
          "Declutter my home",
          "Buy my first home",
          "buy a home",
          "get an apartment",
          "clean my room",
          "Home renovations"
         ],
         "textfont": {
          "color": "#FFA15A"
         },
         "type": "scatter",
         "x": [
          -25.39564323425293,
          -25.40994644165039,
          -25.08350372314453,
          -24.20960807800293,
          -26.662519454956055,
          -23.478504180908203,
          -26.66440200805664,
          -25.279415130615234,
          -23.445995330810547,
          -22.119400024414062,
          -25.534812927246094
         ],
         "xaxis": "x",
         "y": [
          20.97132682800293,
          22.467153549194336,
          24.423385620117188,
          24.51746368408203,
          20.81794548034668,
          24.256959915161133,
          21.26709747314453,
          21.50130844116211,
          20.89432144165039,
          23.022727966308594,
          25.16674041748047
         ],
         "yaxis": "y"
        },
        {
         "hovertemplate": "label=60<br>x=%{x}<br>y=%{y}<br>goal=%{text}<extra></extra>",
         "legendgroup": "60",
         "marker": {
          "color": "#19d3f3",
          "opacity": 0.2,
          "symbol": "circle"
         },
         "mode": "markers+text",
         "name": "60",
         "orientation": "v",
         "showlegend": true,
         "text": [
          "Make new friends",
          "Throw friends a surprise party",
          "Have a trusted circle of friends",
          "be a better friend",
          "make more friends",
          "be a good friend",
          "find a friend",
          "get a group of friends",
          "get a best friend",
          "have good character"
         ],
         "textfont": {
          "color": "#19d3f3"
         },
         "type": "scatter",
         "x": [
          -5.92218542098999,
          -6.857219219207764,
          -7.460195064544678,
          -4.563565731048584,
          -5.275519371032715,
          -5.151002407073975,
          -6.7550458908081055,
          -7.264163494110107,
          -6.876502990722656,
          -5.373952865600586
         ],
         "xaxis": "x",
         "y": [
          -25.098188400268555,
          -23.172414779663086,
          -25.6646671295166,
          -26.972352981567383,
          -25.414302825927734,
          -27.455608367919922,
          -27.023448944091797,
          -24.08346176147461,
          -28.073373794555664,
          -29.834442138671875
         ],
         "yaxis": "y"
        },
        {
         "hovertemplate": "label=90<br>x=%{x}<br>y=%{y}<br>goal=%{text}<extra></extra>",
         "legendgroup": "90",
         "marker": {
          "color": "#FF6692",
          "opacity": 0.2,
          "symbol": "circle"
         },
         "mode": "markers+text",
         "name": "90",
         "orientation": "v",
         "showlegend": true,
         "text": [
          "Learn how to play the guitar",
          "Learn to play the flute",
          "Master a musical instrument",
          "Learning to play an instrument"
         ],
         "textfont": {
          "color": "#FF6692"
         },
         "type": "scatter",
         "x": [
          9.934924125671387,
          9.64767074584961,
          8.568778991699219,
          9.199278831481934
         ],
         "xaxis": "x",
         "y": [
          3.3579232692718506,
          4.802850723266602,
          3.5448741912841797,
          3.914724826812744
         ],
         "yaxis": "y"
        },
        {
         "hovertemplate": "label=40<br>x=%{x}<br>y=%{y}<br>goal=%{text}<extra></extra>",
         "legendgroup": "40",
         "marker": {
          "color": "#B6E880",
          "opacity": 0.2,
          "symbol": "circle"
         },
         "mode": "markers+text",
         "name": "40",
         "orientation": "v",
         "showlegend": true,
         "text": [
          "Run a marathon",
          "Run in a marathon",
          "Run a six-minute mile",
          "run a marathon",
          "marathon",
          "Run 50 miles this month",
          "Run at least 4 miles a day",
          "Run a half marathon",
          "get good at running",
          "beat my mile time",
          "run a sub-6 mile",
          "run a sub-5 mile"
         ],
         "textfont": {
          "color": "#B6E880"
         },
         "type": "scatter",
         "x": [
          32.032920837402344,
          32.655330657958984,
          29.452302932739258,
          31.977113723754883,
          32.87397766113281,
          29.110919952392578,
          29.483806610107422,
          30.91073226928711,
          31.736007690429688,
          31.490991592407227,
          28.548484802246094,
          28.164936065673828
         ],
         "xaxis": "x",
         "y": [
          24.72395896911621,
          24.12294578552246,
          25.888103485107422,
          24.176301956176758,
          25.386934280395508,
          24.067899703979492,
          22.7153377532959,
          24.436532974243164,
          22.270797729492188,
          26.723501205444336,
          26.282331466674805,
          26.043567657470703
         ],
         "yaxis": "y"
        },
        {
         "hovertemplate": "label=30<br>x=%{x}<br>y=%{y}<br>goal=%{text}<extra></extra>",
         "legendgroup": "30",
         "marker": {
          "color": "#FF97FF",
          "opacity": 0.2,
          "symbol": "circle"
         },
         "mode": "markers+text",
         "name": "30",
         "orientation": "v",
         "showlegend": true,
         "text": [
          "Get a job",
          "Get paid doing what I'm passionate about",
          "Find a career that you love",
          "get a job",
          "find a job",
          "find a good job",
          "get a well-paid job",
          "get a job at goldman",
          "get a job at mckinsey",
          "try to find a job/internship that I think i'd actually enjoy",
          "get a job in my field"
         ],
         "textfont": {
          "color": "#FF97FF"
         },
         "type": "scatter",
         "x": [
          -14.71570110321045,
          -18.13187599182129,
          -16.975690841674805,
          -14.719756126403809,
          -15.66555404663086,
          -16.50049591064453,
          -17.80584716796875,
          -15.611104011535645,
          -15.45554256439209,
          -13.43689250946045,
          -15.425868034362793
         ],
         "xaxis": "x",
         "y": [
          6.932062149047852,
          7.571397304534912,
          7.938808441162109,
          6.9350714683532715,
          6.3290629386901855,
          5.72944450378418,
          6.006202220916748,
          10.353531837463379,
          10.999250411987305,
          8.741338729858398,
          8.310229301452637
         ],
         "yaxis": "y"
        },
        {
         "hovertemplate": "label=52<br>x=%{x}<br>y=%{y}<br>goal=%{text}<extra></extra>",
         "legendgroup": "52",
         "marker": {
          "color": "#FECB52",
          "opacity": 0.2,
          "symbol": "circle"
         },
         "mode": "markers+text",
         "name": "52",
         "orientation": "v",
         "showlegend": true,
         "text": [
          "Get out of debt",
          "Achieve zero debt",
          "Leave a financial inheritance",
          "Develop a good credit score",
          "Pay off my student loans sooner than later",
          "Pay off my student loans",
          "Pay back all my debt"
         ],
         "textfont": {
          "color": "#FECB52"
         },
         "type": "scatter",
         "x": [
          -37.61813735961914,
          -37.84954833984375,
          -35.259952545166016,
          -37.099639892578125,
          -40.7895393371582,
          -40.782875061035156,
          -37.87653732299805
         ],
         "xaxis": "x",
         "y": [
          1.0350463390350342,
          1.8824732303619385,
          0.4476519227027893,
          3.316295623779297,
          -0.18427328765392303,
          -0.16981738805770874,
          0.6802683472633362
         ],
         "yaxis": "y"
        },
        {
         "hovertemplate": "label=76<br>x=%{x}<br>y=%{y}<br>goal=%{text}<extra></extra>",
         "legendgroup": "76",
         "marker": {
          "color": "#636efa",
          "opacity": 0.2,
          "symbol": "circle"
         },
         "mode": "markers+text",
         "name": "76",
         "orientation": "v",
         "showlegend": true,
         "text": [
          "Be more confident",
          "Develop a higher level of self-esteem and positivity",
          "Be more confident",
          "Improve your self-confidence",
          "Stop being afraid of shit and be true to self"
         ],
         "textfont": {
          "color": "#636efa"
         },
         "type": "scatter",
         "x": [
          7.552275657653809,
          5.430410385131836,
          7.5511884689331055,
          6.497988700866699,
          7.811555862426758
         ],
         "xaxis": "x",
         "y": [
          -24.398096084594727,
          -26.30303192138672,
          -24.39788818359375,
          -25.113487243652344,
          -26.431419372558594
         ],
         "yaxis": "y"
        },
        {
         "hovertemplate": "label=36<br>x=%{x}<br>y=%{y}<br>goal=%{text}<extra></extra>",
         "legendgroup": "36",
         "marker": {
          "color": "#EF553B",
          "opacity": 0.2,
          "symbol": "circle"
         },
         "mode": "markers+text",
         "name": "36",
         "orientation": "v",
         "showlegend": true,
         "text": [
          "Be successful",
          "Become a thought leader",
          "Acquire more skills for success",
          "Become an expert or leader in my field",
          "Learn how to make effective decisions",
          "Become more decisive",
          "Become a better leader"
         ],
         "textfont": {
          "color": "#EF553B"
         },
         "type": "scatter",
         "x": [
          0.2809746265411377,
          -2.9371774196624756,
          0.012918162159621716,
          -2.7376551628112793,
          0.41420280933380127,
          -0.6767339706420898,
          -2.5054290294647217
         ],
         "xaxis": "x",
         "y": [
          -12.98432445526123,
          -11.028961181640625,
          -12.4329195022583,
          -9.393241882324219,
          -10.885254859924316,
          -10.861014366149902,
          -10.875041007995605
         ],
         "yaxis": "y"
        },
        {
         "hovertemplate": "label=47<br>x=%{x}<br>y=%{y}<br>goal=%{text}<extra></extra>",
         "legendgroup": "47",
         "marker": {
          "color": "#00cc96",
          "opacity": 0.2,
          "symbol": "circle"
         },
         "mode": "markers+text",
         "name": "47",
         "orientation": "v",
         "showlegend": true,
         "text": [
          "Skydive",
          "Go skydiving",
          "Go hang gliding",
          "Ride in a hot air balloon",
          "skydive",
          "zipline",
          "do a backflip"
         ],
         "textfont": {
          "color": "#00cc96"
         },
         "type": "scatter",
         "x": [
          11.212372779846191,
          11.902772903442383,
          12.368021965026855,
          13.378670692443848,
          11.212372779846191,
          11.983967781066895,
          13.563998222351074
         ],
         "xaxis": "x",
         "y": [
          31.03730010986328,
          29.809175491333008,
          28.652992248535156,
          30.213228225708008,
          31.03730010986328,
          33.79730224609375,
          28.474769592285156
         ],
         "yaxis": "y"
        },
        {
         "hovertemplate": "label=41<br>x=%{x}<br>y=%{y}<br>goal=%{text}<extra></extra>",
         "legendgroup": "41",
         "marker": {
          "color": "#ab63fa",
          "opacity": 0.2,
          "symbol": "circle"
         },
         "mode": "markers+text",
         "name": "41",
         "orientation": "v",
         "showlegend": true,
         "text": [
          "Eat healthier",
          "Actually eat healthy meals",
          "Eat More Fruits and Vegetables",
          "eat more healthily",
          "eat healthier",
          "eat more healthy foods"
         ],
         "textfont": {
          "color": "#ab63fa"
         },
         "type": "scatter",
         "x": [
          32.902488708496094,
          30.928905487060547,
          32.774906158447266,
          32.31238555908203,
          32.700653076171875,
          32.97821044921875
         ],
         "xaxis": "x",
         "y": [
          0.6815825700759888,
          0.8587561845779419,
          -2.318544864654541,
          -1.130486249923706,
          0.7273632287979126,
          -0.6792616248130798
         ],
         "yaxis": "y"
        },
        {
         "hovertemplate": "label=3<br>x=%{x}<br>y=%{y}<br>goal=%{text}<extra></extra>",
         "legendgroup": "3",
         "marker": {
          "color": "#FFA15A",
          "opacity": 0.2,
          "symbol": "circle"
         },
         "mode": "markers+text",
         "name": "3",
         "orientation": "v",
         "showlegend": true,
         "text": [
          "Exercise regularly",
          "Exercise more ",
          "Learn yoga",
          "Get Regular Exercise",
          "Exercise regularly",
          "yoga",
          "Do yoga",
          "exercise more",
          "exercise without being out of breath",
          "do health practices frequently like sauna",
          "go to yoga every week",
          "More exercise and playing pickleball more"
         ],
         "textfont": {
          "color": "#FFA15A"
         },
         "type": "scatter",
         "x": [
          30.114055633544922,
          28.280105590820312,
          27.77874183654785,
          31.147216796875,
          30.113813400268555,
          26.957902908325195,
          27.539823532104492,
          28.279861450195312,
          30.548891067504883,
          30.88703155517578,
          28.501754760742188,
          26.895854949951172
         ],
         "xaxis": "x",
         "y": [
          10.516167640686035,
          9.646780014038086,
          5.446713447570801,
          10.459481239318848,
          10.519024848937988,
          5.838257312774658,
          6.037953853607178,
          9.647177696228027,
          8.921313285827637,
          6.8183817863464355,
          6.243504524230957,
          9.35972785949707
         ],
         "yaxis": "y"
        },
        {
         "hovertemplate": "label=25<br>x=%{x}<br>y=%{y}<br>goal=%{text}<extra></extra>",
         "legendgroup": "25",
         "marker": {
          "color": "#19d3f3",
          "opacity": 0.2,
          "symbol": "circle"
         },
         "mode": "markers+text",
         "name": "25",
         "orientation": "v",
         "showlegend": true,
         "text": [
          "Get in shape",
          "Get six-pack abs",
          "Become more fit and healthy",
          "actually get fit",
          "get fit",
          "get abs",
          "get a six pack"
         ],
         "textfont": {
          "color": "#19d3f3"
         },
         "type": "scatter",
         "x": [
          33.1624641418457,
          37.51335144042969,
          33.60988235473633,
          34.31232452392578,
          33.96174621582031,
          36.86173629760742,
          38.1094856262207
         ],
         "xaxis": "x",
         "y": [
          9.634581565856934,
          11.323718070983887,
          6.962216377258301,
          8.758859634399414,
          8.601505279541016,
          11.116106033325195,
          11.459632873535156
         ],
         "yaxis": "y"
        },
        {
         "hovertemplate": "label=46<br>x=%{x}<br>y=%{y}<br>goal=%{text}<extra></extra>",
         "legendgroup": "46",
         "marker": {
          "color": "#FF6692",
          "opacity": 0.2,
          "symbol": "circle"
         },
         "mode": "markers+text",
         "name": "46",
         "orientation": "v",
         "showlegend": true,
         "text": [
          "Learn to cook",
          "Cook more frequently",
          "Learn how to cook",
          "Learn how to bake",
          "cook more",
          "learn to cook",
          "learn how to bake",
          "bake more",
          "get a pizza oven",
          "Trying to cook exotic dishes for the family to try",
          "Cooking more",
          "Mastering bread making"
         ],
         "textfont": {
          "color": "#FF6692"
         },
         "type": "scatter",
         "x": [
          22.229183197021484,
          22.42197608947754,
          21.895479202270508,
          19.060747146606445,
          21.430343627929688,
          21.646114349365234,
          19.060815811157227,
          19.606502532958984,
          19.88482666015625,
          24.008464813232422,
          21.181270599365234,
          17.815353393554688
         ],
         "xaxis": "x",
         "y": [
          1.7459347248077393,
          -0.1517365574836731,
          2.3521511554718018,
          1.746909737586975,
          -0.5029420256614685,
          1.7220691442489624,
          1.7468289136886597,
          0.1393640786409378,
          3.3932621479034424,
          1.2841191291809082,
          -0.28222477436065674,
          0.7596950531005859
         ],
         "yaxis": "y"
        },
        {
         "hovertemplate": "label=32<br>x=%{x}<br>y=%{y}<br>goal=%{text}<extra></extra>",
         "legendgroup": "32",
         "marker": {
          "color": "#B6E880",
          "opacity": 0.2,
          "symbol": "circle"
         },
         "mode": "markers+text",
         "name": "32",
         "orientation": "v",
         "showlegend": true,
         "text": [
          "Start my own business",
          "Start a business",
          "Start an online business",
          "Start a small business",
          "Make my own website",
          "create an app",
          "open a restaurant",
          "start a business",
          "create a startup",
          "create a start-up",
          "become a starter"
         ],
         "textfont": {
          "color": "#B6E880"
         },
         "type": "scatter",
         "x": [
          -28.388212203979492,
          -27.543445587158203,
          -29.410966873168945,
          -28.201194763183594,
          -31.39896011352539,
          -31.782222747802734,
          -25.88112449645996,
          -27.661062240600586,
          -30.549592971801758,
          -30.370296478271484,
          -29.382171630859375
         ],
         "xaxis": "x",
         "y": [
          10.311044692993164,
          11.091103553771973,
          11.197561264038086,
          11.972915649414062,
          11.168658256530762,
          12.973730087280273,
          12.844402313232422,
          11.039706230163574,
          14.051260948181152,
          13.897554397583008,
          14.601341247558594
         ],
         "yaxis": "y"
        },
        {
         "hovertemplate": "label=50<br>x=%{x}<br>y=%{y}<br>goal=%{text}<extra></extra>",
         "legendgroup": "50",
         "marker": {
          "color": "#FF97FF",
          "opacity": 0.2,
          "symbol": "circle"
         },
         "mode": "markers+text",
         "name": "50",
         "orientation": "v",
         "showlegend": true,
         "text": [
          "Quit smoking",
          "Quit my vices",
          "Quit drinking",
          "stop masturbating",
          "stop doing drugs",
          "stop vaping",
          "stop doing heroin",
          "stop smoking",
          "recover from surgery",
          "get back into a routine of taking medication"
         ],
         "textfont": {
          "color": "#FF97FF"
         },
         "type": "scatter",
         "x": [
          32.867557525634766,
          34.10789108276367,
          34.2601318359375,
          31.857769012451172,
          35.440345764160156,
          33.40167999267578,
          35.54151153564453,
          32.78376007080078,
          38.906341552734375,
          37.2872200012207
         ],
         "xaxis": "x",
         "y": [
          -12.982980728149414,
          -16.098590850830078,
          -11.098556518554688,
          -15.41545581817627,
          -13.621801376342773,
          -14.088723182678223,
          -13.414770126342773,
          -13.119500160217285,
          -13.312549591064453,
          -13.498485565185547
         ],
         "yaxis": "y"
        },
        {
         "hovertemplate": "label=28<br>x=%{x}<br>y=%{y}<br>goal=%{text}<extra></extra>",
         "legendgroup": "28",
         "marker": {
          "color": "#FECB52",
          "opacity": 0.2,
          "symbol": "circle"
         },
         "mode": "markers+text",
         "name": "28",
         "orientation": "v",
         "showlegend": true,
         "text": [
          "Get my finances in order",
          "Double my personal income",
          "Create multiple income sources",
          "Improve my financial management skills",
          "get better at tracking my finances",
          "manage my finances better",
          "have a stable income",
          "get my finances in order",
          "do my taxes"
         ],
         "textfont": {
          "color": "#FECB52"
         },
         "type": "scatter",
         "x": [
          -33.619747161865234,
          -33.640892028808594,
          -31.95851707458496,
          -31.449260711669922,
          -32.820003509521484,
          -32.217567443847656,
          -31.479450225830078,
          -33.619747161865234,
          -34.547672271728516
         ],
         "xaxis": "x",
         "y": [
          2.409391403198242,
          5.183331489562988,
          5.585755825042725,
          2.4755008220672607,
          1.291526198387146,
          1.9588830471038818,
          5.014208793640137,
          2.409391403198242,
          5.087562561035156
         ],
         "yaxis": "y"
        },
        {
         "hovertemplate": "label=75<br>x=%{x}<br>y=%{y}<br>goal=%{text}<extra></extra>",
         "legendgroup": "75",
         "marker": {
          "color": "#636efa",
          "opacity": 0.2,
          "symbol": "circle"
         },
         "mode": "markers+text",
         "name": "75",
         "orientation": "v",
         "showlegend": true,
         "text": [
          "Start a company",
          "Invest in the stock market",
          "Become a venture capitalist",
          "IPO my company at 1 billion",
          "start a firm",
          "start investing"
         ],
         "textfont": {
          "color": "#636efa"
         },
         "type": "scatter",
         "x": [
          -26.902271270751953,
          -28.012107849121094,
          -26.319679260253906,
          -27.903718948364258,
          -26.044111251831055,
          -27.85328483581543
         ],
         "xaxis": "x",
         "y": [
          9.51133918762207,
          5.484327793121338,
          7.303413391113281,
          8.204617500305176,
          9.09844970703125,
          5.640871047973633
         ],
         "yaxis": "y"
        },
        {
         "hovertemplate": "label=77<br>x=%{x}<br>y=%{y}<br>goal=%{text}<extra></extra>",
         "legendgroup": "77",
         "marker": {
          "color": "#EF553B",
          "opacity": 0.2,
          "symbol": "circle"
         },
         "mode": "markers+text",
         "name": "77",
         "orientation": "v",
         "showlegend": true,
         "text": [
          "Get more organized",
          "Organize closet",
          "Make a “bucket list”",
          "get into fashion",
          "go to Paris fashion week"
         ],
         "textfont": {
          "color": "#EF553B"
         },
         "type": "scatter",
         "x": [
          -1.2857155799865723,
          -1.0171892642974854,
          -2.619518995285034,
          1.6414741277694702,
          2.141214370727539
         ],
         "xaxis": "x",
         "y": [
          9.467780113220215,
          9.603673934936523,
          10.095414161682129,
          11.905284881591797,
          12.52054500579834
         ],
         "yaxis": "y"
        },
        {
         "hovertemplate": "label=10<br>x=%{x}<br>y=%{y}<br>goal=%{text}<extra></extra>",
         "legendgroup": "10",
         "marker": {
          "color": "#00cc96",
          "opacity": 0.2,
          "symbol": "circle"
         },
         "mode": "markers+text",
         "name": "10",
         "orientation": "v",
         "showlegend": true,
         "text": [
          "Spend more time with friends and family",
          "Regularly call my parents",
          "Create a new family tradition",
          "Keep good ties with relatives",
          "Strengthen Family Bonds",
          "Grow into a better parent",
          "Spend more time with family",
          "Attempt to get our family as close to self-sufficiency as possible",
          "Improving our family's social connections",
          "putting more time and energy into holidays and other important events",
          "running errands helping with housework for vulnerable members of the family/community"
         ],
         "textfont": {
          "color": "#00cc96"
         },
         "type": "scatter",
         "x": [
          -11.760977745056152,
          -12.875112533569336,
          -16.59984016418457,
          -15.246838569641113,
          -15.533269882202148,
          -12.529584884643555,
          -12.193016052246094,
          -15.778332710266113,
          -14.92409610748291,
          -11.149880409240723,
          -16.12049674987793
         ],
         "xaxis": "x",
         "y": [
          -15.292791366577148,
          -18.367361068725586,
          -17.349777221679688,
          -18.351015090942383,
          -16.72245979309082,
          -17.286623001098633,
          -15.586009979248047,
          -15.390893936157227,
          -18.069538116455078,
          -13.778565406799316,
          -13.757262229919434
         ],
         "yaxis": "y"
        },
        {
         "hovertemplate": "label=48<br>x=%{x}<br>y=%{y}<br>goal=%{text}<extra></extra>",
         "legendgroup": "48",
         "marker": {
          "color": "#ab63fa",
          "opacity": 0.2,
          "symbol": "circle"
         },
         "mode": "markers+text",
         "name": "48",
         "orientation": "v",
         "showlegend": true,
         "text": [
          "Buy a new car",
          "Buy a Ferrari",
          "buy a luxury car",
          "get a Bugatti"
         ],
         "textfont": {
          "color": "#ab63fa"
         },
         "type": "scatter",
         "x": [
          -35.12793731689453,
          -35.497310638427734,
          -34.4997444152832,
          -36.993446350097656
         ],
         "xaxis": "x",
         "y": [
          18.50912857055664,
          18.22501564025879,
          18.32196044921875,
          18.539066314697266
         ],
         "yaxis": "y"
        },
        {
         "hovertemplate": "label=13<br>x=%{x}<br>y=%{y}<br>goal=%{text}<extra></extra>",
         "legendgroup": "13",
         "marker": {
          "color": "#FFA15A",
          "opacity": 0.2,
          "symbol": "circle"
         },
         "mode": "markers+text",
         "name": "13",
         "orientation": "v",
         "showlegend": true,
         "text": [
          "Volunteer more often",
          "Volunteer at a hospital",
          "Donate to a charity annually",
          "Sponsor a child in need",
          "Do community service",
          "Give back to my community in ways that matter to you",
          "volunteer at a soup kitchen",
          "Volunteer for a cause you believe in",
          "start a charity",
          "donate more",
          "volunteer at a kitchen",
          "do more volunteer work",
          "Volunteer as a costumed interpreter at a living history museum"
         ],
         "textfont": {
          "color": "#FFA15A"
         },
         "type": "scatter",
         "x": [
          -17.90193748474121,
          -17.6243953704834,
          -21.55391502380371,
          -21.65165138244629,
          -17.98211097717285,
          -18.222761154174805,
          -15.85637092590332,
          -19.43868064880371,
          -20.961992263793945,
          -21.644535064697266,
          -15.855257987976074,
          -17.906707763671875,
          -17.8651065826416
         ],
         "xaxis": "x",
         "y": [
          -8.998353004455566,
          -7.711698055267334,
          -9.329864501953125,
          -12.228633880615234,
          -10.95833969116211,
          -11.899808883666992,
          -7.722639083862305,
          -8.785573959350586,
          -9.389443397521973,
          -8.266311645507812,
          -7.749083995819092,
          -9.063593864440918,
          -6.374340534210205
         ],
         "yaxis": "y"
        },
        {
         "hovertemplate": "label=0<br>x=%{x}<br>y=%{y}<br>goal=%{text}<extra></extra>",
         "legendgroup": "0",
         "marker": {
          "color": "#19d3f3",
          "opacity": 0.2,
          "symbol": "circle"
         },
         "mode": "markers+text",
         "name": "0",
         "orientation": "v",
         "showlegend": true,
         "text": [
          "Disconnect from technology",
          "Network",
          "Expand your network of friends",
          "meet more people",
          "meet one new person each week",
          "meet 3 new people each month",
          "meet a ton of people",
          "meet a new person every week",
          "get more people to rush"
         ],
         "textfont": {
          "color": "#19d3f3"
         },
         "type": "scatter",
         "x": [
          -11.591534614562988,
          -10.417390823364258,
          -9.13199520111084,
          -5.9948506355285645,
          -9.181841850280762,
          -8.064714431762695,
          -6.502655029296875,
          -9.379176139831543,
          -4.880770206451416
         ],
         "xaxis": "x",
         "y": [
          -23.70008659362793,
          -23.930891036987305,
          -24.12954330444336,
          -20.40021514892578,
          -20.031837463378906,
          -19.761398315429688,
          -20.38846778869629,
          -20.039339065551758,
          -19.33171272277832
         ],
         "yaxis": "y"
        },
        {
         "hovertemplate": "label=29<br>x=%{x}<br>y=%{y}<br>goal=%{text}<extra></extra>",
         "legendgroup": "29",
         "marker": {
          "color": "#FF6692",
          "opacity": 0.2,
          "symbol": "circle"
         },
         "mode": "markers+text",
         "name": "29",
         "orientation": "v",
         "showlegend": true,
         "text": [
          "Get a dog",
          "Adopt and care for my dream pet",
          "Have kids",
          "have children",
          "hug mom",
          "be a better dog mom"
         ],
         "textfont": {
          "color": "#FF6692"
         },
         "type": "scatter",
         "x": [
          -22.615421295166016,
          -22.575103759765625,
          -20.56850814819336,
          -20.561248779296875,
          -20.41339683532715,
          -21.969192504882812
         ],
         "xaxis": "x",
         "y": [
          -21.004850387573242,
          -19.8658447265625,
          -15.758331298828125,
          -15.714536666870117,
          -20.73586082458496,
          -20.53764533996582
         ],
         "yaxis": "y"
        },
        {
         "hovertemplate": "label=23<br>x=%{x}<br>y=%{y}<br>goal=%{text}<extra></extra>",
         "legendgroup": "23",
         "marker": {
          "color": "#B6E880",
          "opacity": 0.2,
          "symbol": "circle"
         },
         "mode": "markers+text",
         "name": "23",
         "orientation": "v",
         "showlegend": true,
         "text": [
          "Be famous",
          "Learn how to sing",
          "become famous",
          "become an actor",
          "become a famous actor",
          "become a celebrity",
          "become a famous singer",
          "be popular",
          "become popular",
          "become a rapper"
         ],
         "textfont": {
          "color": "#B6E880"
         },
         "type": "scatter",
         "x": [
          -8.927727699279785,
          -5.65315055847168,
          -8.722478866577148,
          -9.506185531616211,
          -9.36928653717041,
          -9.61241626739502,
          -7.387587547302246,
          -11.108955383300781,
          -11.02271842956543,
          -7.196855068206787
         ],
         "xaxis": "x",
         "y": [
          -0.6721569299697876,
          -0.10849852859973907,
          -0.048544831573963165,
          2.255049228668213,
          1.6744376420974731,
          0.38881099224090576,
          -0.006997133605182171,
          -1.4828386306762695,
          -1.3124983310699463,
          1.3034987449645996
         ],
         "yaxis": "y"
        },
        {
         "hovertemplate": "label=55<br>x=%{x}<br>y=%{y}<br>goal=%{text}<extra></extra>",
         "legendgroup": "55",
         "marker": {
          "color": "#FF97FF",
          "opacity": 0.2,
          "symbol": "circle"
         },
         "mode": "markers+text",
         "name": "55",
         "orientation": "v",
         "showlegend": true,
         "text": [
          "Master a difficult skill",
          "Do more challenging things",
          "Be persistent despite obstacles",
          "Master a new skill",
          "Take on a new challenge",
          "do something challenging"
         ],
         "textfont": {
          "color": "#FF97FF"
         },
         "type": "scatter",
         "x": [
          2.1458897590637207,
          1.7270828485488892,
          0.537661612033844,
          2.4855098724365234,
          2.676311492919922,
          1.6930595636367798
         ],
         "xaxis": "x",
         "y": [
          -3.375596284866333,
          -6.8295369148254395,
          -8.27027702331543,
          -3.1800906658172607,
          -6.25880241394043,
          -6.652591705322266
         ],
         "yaxis": "y"
        },
        {
         "hovertemplate": "label=12<br>x=%{x}<br>y=%{y}<br>goal=%{text}<extra></extra>",
         "legendgroup": "12",
         "marker": {
          "color": "#FECB52",
          "opacity": 0.2,
          "symbol": "circle"
         },
         "mode": "markers+text",
         "name": "12",
         "orientation": "v",
         "showlegend": true,
         "text": [
          "Get promoted to an executive role",
          "Become a millionaire",
          "Become rich",
          "earn a promotion",
          "Ask for a raise",
          "become a millionare",
          "become a ceo",
          "make a ton of money",
          "earn more money"
         ],
         "textfont": {
          "color": "#FECB52"
         },
         "type": "scatter",
         "x": [
          -21.432369232177734,
          -24.13500213623047,
          -23.788978576660156,
          -20.883607864379883,
          -20.708818435668945,
          -23.821256637573242,
          -22.590312957763672,
          -21.345760345458984,
          -22.017873764038086
         ],
         "xaxis": "x",
         "y": [
          9.222908020019531,
          5.09933614730835,
          4.446511745452881,
          8.606141090393066,
          6.7806077003479,
          5.623831272125244,
          9.463342666625977,
          4.453266143798828,
          3.4296183586120605
         ],
         "yaxis": "y"
        },
        {
         "hovertemplate": "label=78<br>x=%{x}<br>y=%{y}<br>goal=%{text}<extra></extra>",
         "legendgroup": "78",
         "marker": {
          "color": "#636efa",
          "opacity": 0.2,
          "symbol": "circle"
         },
         "mode": "markers+text",
         "name": "78",
         "orientation": "v",
         "showlegend": true,
         "text": [
          "Travel to my dream country",
          "Live in a foreign country",
          "Trace my ancestry and visit their country of origin",
          "Help someone else reach one of their dreams",
          "Discover your best place to live",
          "move to NYC",
          "move out of the country"
         ],
         "textfont": {
          "color": "#636efa"
         },
         "type": "scatter",
         "x": [
          -1.5630884170532227,
          -3.09025502204895,
          -2.312931537628174,
          -5.706476211547852,
          -2.6176047325134277,
          -5.752553939819336,
          -3.4692087173461914
         ],
         "xaxis": "x",
         "y": [
          28.943443298339844,
          27.961896896362305,
          26.842714309692383,
          32.1373291015625,
          30.284038543701172,
          27.802175521850586,
          28.18804931640625
         ],
         "yaxis": "y"
        },
        {
         "hovertemplate": "label=26<br>x=%{x}<br>y=%{y}<br>goal=%{text}<extra></extra>",
         "legendgroup": "26",
         "marker": {
          "color": "#EF553B",
          "opacity": 0.2,
          "symbol": "circle"
         },
         "mode": "markers+text",
         "name": "26",
         "orientation": "v",
         "showlegend": true,
         "text": [
          "Plan for my retirement",
          "save money for retirement",
          "create a brand",
          "create a fashion brand",
          "retire",
          "retire early"
         ],
         "textfont": {
          "color": "#EF553B"
         },
         "type": "scatter",
         "x": [
          -26.61608123779297,
          -27.008371353149414,
          -21.207590103149414,
          -21.06932830810547,
          -25.38362693786621,
          -25.16484260559082
         ],
         "xaxis": "x",
         "y": [
          -2.069542646408081,
          -1.4031604528427124,
          -0.9590409398078918,
          -0.9710431098937988,
          -2.943830966949463,
          -3.097144365310669
         ],
         "yaxis": "y"
        },
        {
         "hovertemplate": "label=66<br>x=%{x}<br>y=%{y}<br>goal=%{text}<extra></extra>",
         "legendgroup": "66",
         "marker": {
          "color": "#00cc96",
          "opacity": 0.2,
          "symbol": "circle"
         },
         "mode": "markers+text",
         "name": "66",
         "orientation": "v",
         "showlegend": true,
         "text": [
          "Graduate from college",
          "Get into graduate school",
          "go to college",
          "go to university",
          "get into Harvard",
          "get into MIT",
          "get into Yale",
          "get into Princeton",
          "get into an elite college",
          "graduate summa cum laude"
         ],
         "textfont": {
          "color": "#00cc96"
         },
         "type": "scatter",
         "x": [
          -10.83039665222168,
          -10.371898651123047,
          -9.133628845214844,
          -9.110451698303223,
          -8.486551284790039,
          -8.379731178283691,
          -7.747069358825684,
          -7.458070278167725,
          -9.391363143920898,
          -11.44135856628418
         ],
         "xaxis": "x",
         "y": [
          17.29106330871582,
          17.425704956054688,
          15.519330024719238,
          15.564559936523438,
          19.283754348754883,
          18.12649917602539,
          19.732851028442383,
          18.700775146484375,
          19.255773544311523,
          18.465944290161133
         ],
         "yaxis": "y"
        },
        {
         "hovertemplate": "label=74<br>x=%{x}<br>y=%{y}<br>goal=%{text}<extra></extra>",
         "legendgroup": "74",
         "marker": {
          "color": "#ab63fa",
          "opacity": 0.2,
          "symbol": "circle"
         },
         "mode": "markers+text",
         "name": "74",
         "orientation": "v",
         "showlegend": true,
         "text": [
          "Meditate daily",
          "Tap into the Power of Meditation",
          "meditate",
          "start meditating",
          "Meditate for 30 minutes a day",
          "Meditate for 15 minutes each day",
          "meditate for 20 mins every day"
         ],
         "textfont": {
          "color": "#ab63fa"
         },
         "type": "scatter",
         "x": [
          22.085357666015625,
          21.698959350585938,
          21.895259857177734,
          22.718074798583984,
          23.33588218688965,
          23.458703994750977,
          22.579986572265625
         ],
         "xaxis": "x",
         "y": [
          -20.18604278564453,
          -22.371980667114258,
          -21.083152770996094,
          -21.57103729248047,
          -20.129150390625,
          -19.369237899780273,
          -19.435697555541992
         ],
         "yaxis": "y"
        },
        {
         "hovertemplate": "label=9<br>x=%{x}<br>y=%{y}<br>goal=%{text}<extra></extra>",
         "legendgroup": "9",
         "marker": {
          "color": "#FFA15A",
          "opacity": 0.2,
          "symbol": "circle"
         },
         "mode": "markers+text",
         "name": "9",
         "orientation": "v",
         "showlegend": true,
         "text": [
          "Have a long-term relationship",
          "Celebrate my relationship anniversaries",
          "Improve personal relationships",
          "get a partner",
          "be a better partner",
          "be a good partner",
          "have a happy relationship"
         ],
         "textfont": {
          "color": "#FFA15A"
         },
         "type": "scatter",
         "x": [
          -11.939453125,
          -13.185725212097168,
          -10.627890586853027,
          -13.514274597167969,
          -12.90787410736084,
          -12.651524543762207,
          -11.431828498840332
         ],
         "xaxis": "x",
         "y": [
          -32.8515510559082,
          -34.99663543701172,
          -28.685546875,
          -30.71159553527832,
          -29.459049224853516,
          -29.973270416259766,
          -33.639400482177734
         ],
         "yaxis": "y"
        },
        {
         "hovertemplate": "label=17<br>x=%{x}<br>y=%{y}<br>goal=%{text}<extra></extra>",
         "legendgroup": "17",
         "marker": {
          "color": "#19d3f3",
          "opacity": 0.2,
          "symbol": "circle"
         },
         "mode": "markers+text",
         "name": "17",
         "orientation": "v",
         "showlegend": true,
         "text": [
          "Climb a mountain",
          "Learn how to rock climb",
          "Climb on a glacier",
          "Increase Outdoor Activity",
          "explore the outdoors more",
          "climb mount everest"
         ],
         "textfont": {
          "color": "#19d3f3"
         },
         "type": "scatter",
         "x": [
          20.18784523010254,
          20.24777603149414,
          19.406309127807617,
          16.651840209960938,
          16.424213409423828,
          20.424793243408203
         ],
         "xaxis": "x",
         "y": [
          25.680753707885742,
          24.62956428527832,
          26.417104721069336,
          22.2244930267334,
          22.292030334472656,
          25.96291160583496
         ],
         "yaxis": "y"
        },
        {
         "hovertemplate": "label=86<br>x=%{x}<br>y=%{y}<br>goal=%{text}<extra></extra>",
         "legendgroup": "86",
         "marker": {
          "color": "#FF6692",
          "opacity": 0.2,
          "symbol": "circle"
         },
         "mode": "markers+text",
         "name": "86",
         "orientation": "v",
         "showlegend": true,
         "text": [
          "Learn how to surf",
          "Snorkel in the ocean",
          "buy a pool",
          "go scuba diving"
         ],
         "textfont": {
          "color": "#FF6692"
         },
         "type": "scatter",
         "x": [
          12.535470008850098,
          10.92946720123291,
          14.182881355285645,
          11.180466651916504
         ],
         "xaxis": "x",
         "y": [
          24.48736000061035,
          26.16973304748535,
          24.991695404052734,
          25.66708755493164
         ],
         "yaxis": "y"
        },
        {
         "hovertemplate": "label=6<br>x=%{x}<br>y=%{y}<br>goal=%{text}<extra></extra>",
         "legendgroup": "6",
         "marker": {
          "color": "#B6E880",
          "opacity": 0.2,
          "symbol": "circle"
         },
         "mode": "markers+text",
         "name": "6",
         "orientation": "v",
         "showlegend": true,
         "text": [
          "Give up junk food for a year",
          "Try a vegan diet for a month",
          "Stop eating unhealthy",
          "Eat less sugar and junk food",
          "stop eating candy",
          "cut back on sugar",
          "stop eating unhealthy",
          "stop eating chips",
          "go vegan"
         ],
         "textfont": {
          "color": "#B6E880"
         },
         "type": "scatter",
         "x": [
          36.90856170654297,
          40.83779525756836,
          35.430240631103516,
          34.39300537109375,
          36.03299331665039,
          34.729103088378906,
          35.43130111694336,
          36.93875503540039,
          40.98735809326172
         ],
         "xaxis": "x",
         "y": [
          -1.764819622039795,
          -1.613592505455017,
          -1.5863381624221802,
          -3.7775537967681885,
          -4.116218090057373,
          -5.054553031921387,
          -1.5922644138336182,
          -3.459294319152832,
          -1.6630939245224
         ],
         "yaxis": "y"
        },
        {
         "hovertemplate": "label=81<br>x=%{x}<br>y=%{y}<br>goal=%{text}<extra></extra>",
         "legendgroup": "81",
         "marker": {
          "color": "#FF97FF",
          "opacity": 0.2,
          "symbol": "circle"
         },
         "mode": "markers+text",
         "name": "81",
         "orientation": "v",
         "showlegend": true,
         "text": [
          "Paint a picture",
          "Craft something using pottery skills",
          "Improve my drawing skills",
          "make something creative every day",
          "Creating some kind of art like sculptures and writing"
         ],
         "textfont": {
          "color": "#FF97FF"
         },
         "type": "scatter",
         "x": [
          -0.17921552062034607,
          -1.8055906295776367,
          0.3184269666671753,
          2.190563440322876,
          -1.021755576133728
         ],
         "xaxis": "x",
         "y": [
          1.5153262615203857,
          3.3184237480163574,
          1.9618077278137207,
          0.5759637355804443,
          3.0093791484832764
         ],
         "yaxis": "y"
        },
        {
         "hovertemplate": "label=22<br>x=%{x}<br>y=%{y}<br>goal=%{text}<extra></extra>",
         "legendgroup": "22",
         "marker": {
          "color": "#FECB52",
          "opacity": 0.2,
          "symbol": "circle"
         },
         "mode": "markers+text",
         "name": "22",
         "orientation": "v",
         "showlegend": true,
         "text": [
          "Master ballroom dancing",
          "Learn how to knit or sew",
          "Learn how to dance",
          "learn how to sew",
          "dance more"
         ],
         "textfont": {
          "color": "#FECB52"
         },
         "type": "scatter",
         "x": [
          14.388084411621094,
          17.75248146057129,
          13.801823616027832,
          17.7293758392334,
          14.058016777038574
         ],
         "xaxis": "x",
         "y": [
          5.541304111480713,
          8.422520637512207,
          4.502223968505859,
          8.414220809936523,
          4.341579437255859
         ],
         "yaxis": "y"
        },
        {
         "hovertemplate": "label=51<br>x=%{x}<br>y=%{y}<br>goal=%{text}<extra></extra>",
         "legendgroup": "51",
         "marker": {
          "color": "#636efa",
          "opacity": 0.2,
          "symbol": "circle"
         },
         "mode": "markers+text",
         "name": "51",
         "orientation": "v",
         "showlegend": true,
         "text": [
          "Compose a song",
          "Develop time management skills",
          "Improve your time management skills",
          "do my homework on time",
          "turn in my homework on time",
          "turn in my assignments on time",
          "have better time management",
          "turn things in on time",
          "Write some music when the time feels right"
         ],
         "textfont": {
          "color": "#636efa"
         },
         "type": "scatter",
         "x": [
          -2.5885627269744873,
          -5.685312747955322,
          -5.546773433685303,
          -4.139799118041992,
          -3.5395984649658203,
          -3.1071488857269287,
          -5.711968421936035,
          -2.3989710807800293,
          -2.872870683670044
         ],
         "xaxis": "x",
         "y": [
          -1.697854995727539,
          -6.529119968414307,
          -6.857642650604248,
          -4.5891499519348145,
          -4.986066818237305,
          -5.540585041046143,
          -7.500898361206055,
          -4.747889518737793,
          -2.875478506088257
         ],
         "yaxis": "y"
        },
        {
         "hovertemplate": "label=58<br>x=%{x}<br>y=%{y}<br>goal=%{text}<extra></extra>",
         "legendgroup": "58",
         "marker": {
          "color": "#EF553B",
          "opacity": 0.2,
          "symbol": "circle"
         },
         "mode": "markers+text",
         "name": "58",
         "orientation": "v",
         "showlegend": true,
         "text": [
          "Bulk",
          "lift",
          "lift more",
          "grind",
          "get stronger"
         ],
         "textfont": {
          "color": "#EF553B"
         },
         "type": "scatter",
         "x": [
          23.53208351135254,
          22.49222183227539,
          22.839210510253906,
          22.099384307861328,
          24.62872314453125
         ],
         "xaxis": "x",
         "y": [
          7.940974712371826,
          11.218690872192383,
          11.202339172363281,
          9.162969589233398,
          11.135773658752441
         ],
         "yaxis": "y"
        },
        {
         "hovertemplate": "label=33<br>x=%{x}<br>y=%{y}<br>goal=%{text}<extra></extra>",
         "legendgroup": "33",
         "marker": {
          "color": "#00cc96",
          "opacity": 0.2,
          "symbol": "circle"
         },
         "mode": "markers+text",
         "name": "33",
         "orientation": "v",
         "showlegend": true,
         "text": [
          "Build muscle",
          "Go to the gym 3 times a week",
          "workout",
          "join a gym",
          "hit the gym",
          "Go to the gym every day",
          "workout every day",
          "start working out regularly"
         ],
         "textfont": {
          "color": "#00cc96"
         },
         "type": "scatter",
         "x": [
          26.11440086364746,
          29.14617919921875,
          27.50263023376465,
          27.345415115356445,
          28.338680267333984,
          29.054981231689453,
          30.92816734313965,
          30.762216567993164
         ],
         "xaxis": "x",
         "y": [
          12.144865989685059,
          13.866762161254883,
          11.498575210571289,
          13.43631649017334,
          12.895955085754395,
          13.450847625732422,
          13.955611228942871,
          12.167841911315918
         ],
         "yaxis": "y"
        },
        {
         "hovertemplate": "label=72<br>x=%{x}<br>y=%{y}<br>goal=%{text}<extra></extra>",
         "legendgroup": "72",
         "marker": {
          "color": "#ab63fa",
          "opacity": 0.2,
          "symbol": "circle"
         },
         "mode": "markers+text",
         "name": "72",
         "orientation": "v",
         "showlegend": true,
         "text": [
          "Build my dream house",
          "Save enough money to buy something you've always wanted like a boat cabin or another item",
          "build a treehouse",
          "build a cabin",
          "build a birdhouse",
          "Building and running an Airbnb cabin"
         ],
         "textfont": {
          "color": "#ab63fa"
         },
         "type": "scatter",
         "x": [
          -26.964975357055664,
          -31.963912963867188,
          -28.4814395904541,
          -31.100784301757812,
          -28.64965057373047,
          -30.800539016723633
         ],
         "xaxis": "x",
         "y": [
          23.435871124267578,
          22.287601470947266,
          25.261621475219727,
          23.26096534729004,
          24.90900993347168,
          23.517332077026367
         ],
         "yaxis": "y"
        },
        {
         "hovertemplate": "label=80<br>x=%{x}<br>y=%{y}<br>goal=%{text}<extra></extra>",
         "legendgroup": "80",
         "marker": {
          "color": "#FFA15A",
          "opacity": 0.2,
          "symbol": "circle"
         },
         "mode": "markers+text",
         "name": "80",
         "orientation": "v",
         "showlegend": true,
         "text": [
          "Go to the Olympics",
          "Go to Switzerland",
          "go to australia",
          "become the German embassy"
         ],
         "textfont": {
          "color": "#FFA15A"
         },
         "type": "scatter",
         "x": [
          0.12435854226350784,
          -1.8348321914672852,
          -0.7741014957427979,
          -3.715780258178711
         ],
         "xaxis": "x",
         "y": [
          23.062711715698242,
          23.82038116455078,
          23.967897415161133,
          23.320833206176758
         ],
         "yaxis": "y"
        },
        {
         "hovertemplate": "label=64<br>x=%{x}<br>y=%{y}<br>goal=%{text}<extra></extra>",
         "legendgroup": "64",
         "marker": {
          "color": "#19d3f3",
          "opacity": 0.2,
          "symbol": "circle"
         },
         "mode": "markers+text",
         "name": "64",
         "orientation": "v",
         "showlegend": true,
         "text": [
          "Get a hole-in-one",
          "Golf 18 holes under par"
         ],
         "textfont": {
          "color": "#19d3f3"
         },
         "type": "scatter",
         "x": [
          -12.251852989196777,
          -12.205920219421387
         ],
         "xaxis": "x",
         "y": [
          30.25469398498535,
          30.378976821899414
         ],
         "yaxis": "y"
        },
        {
         "hovertemplate": "label=11<br>x=%{x}<br>y=%{y}<br>goal=%{text}<extra></extra>",
         "legendgroup": "11",
         "marker": {
          "color": "#FF6692",
          "opacity": 0.2,
          "symbol": "circle"
         },
         "mode": "markers+text",
         "name": "11",
         "orientation": "v",
         "showlegend": true,
         "text": [
          "Create a portfolio",
          "Live Within A Budget",
          "create a budget",
          "start budgeting",
          "budget",
          "create a budget",
          "get a 5 figure portfolio"
         ],
         "textfont": {
          "color": "#FF6692"
         },
         "type": "scatter",
         "x": [
          -35.88003158569336,
          -30.79345703125,
          -32.24135971069336,
          -31.600975036621094,
          -32.096073150634766,
          -31.880319595336914,
          -35.91925811767578
         ],
         "xaxis": "x",
         "y": [
          -4.975260257720947,
          -2.3545825481414795,
          -1.712078332901001,
          -0.8513779044151306,
          -2.8426356315612793,
          -1.7700406312942505,
          -5.051452159881592
         ],
         "yaxis": "y"
        },
        {
         "hovertemplate": "label=57<br>x=%{x}<br>y=%{y}<br>goal=%{text}<extra></extra>",
         "legendgroup": "57",
         "marker": {
          "color": "#B6E880",
          "opacity": 0.2,
          "symbol": "circle"
         },
         "mode": "markers+text",
         "name": "57",
         "orientation": "v",
         "showlegend": true,
         "text": [
          "Appear on a podcast",
          "See my favorite musician in concert as often as I can",
          "Meet an athlete or celebrity I admire",
          "start a youtube channel",
          "have a live performance"
         ],
         "textfont": {
          "color": "#B6E880"
         },
         "type": "scatter",
         "x": [
          -11.22127914428711,
          -8.846539497375488,
          -8.330626487731934,
          -12.109611511230469,
          -9.675847053527832
         ],
         "xaxis": "x",
         "y": [
          -5.367700099945068,
          -3.776007890701294,
          -2.3295960426330566,
          -5.226192951202393,
          -4.808992862701416
         ],
         "yaxis": "y"
        },
        {
         "hovertemplate": "label=38<br>x=%{x}<br>y=%{y}<br>goal=%{text}<extra></extra>",
         "legendgroup": "38",
         "marker": {
          "color": "#FF97FF",
          "opacity": 0.2,
          "symbol": "circle"
         },
         "mode": "markers+text",
         "name": "38",
         "orientation": "v",
         "showlegend": true,
         "text": [
          "Read two books every month",
          "Give up TV for a week",
          "Ask more questions",
          "Read 1 new book per week",
          "ask a good question every day",
          "read a paper every day",
          "check my email every day"
         ],
         "textfont": {
          "color": "#FF97FF"
         },
         "type": "scatter",
         "x": [
          13.246356010437012,
          14.471955299377441,
          14.82992935180664,
          13.5234375,
          15.771452903747559,
          15.018645286560059,
          17.012598037719727
         ],
         "xaxis": "x",
         "y": [
          -7.2929887771606445,
          -10.30059814453125,
          -3.509950637817383,
          -7.747360706329346,
          -4.321682453155518,
          -6.530878067016602,
          -5.477707386016846
         ],
         "yaxis": "y"
        },
        {
         "hovertemplate": "label=63<br>x=%{x}<br>y=%{y}<br>goal=%{text}<extra></extra>",
         "legendgroup": "63",
         "marker": {
          "color": "#FECB52",
          "opacity": 0.2,
          "symbol": "circle"
         },
         "mode": "markers+text",
         "name": "63",
         "orientation": "v",
         "showlegend": true,
         "text": [
          "Maintain a healthy work-life balance",
          "Live according to my values",
          "Recreate my work-life balance",
          "Find work-life balance"
         ],
         "textfont": {
          "color": "#FECB52"
         },
         "type": "scatter",
         "x": [
          -26.724088668823242,
          -29.44093132019043,
          -26.770660400390625,
          -27.131649017333984
         ],
         "xaxis": "x",
         "y": [
          -7.708774089813232,
          -5.330582618713379,
          -6.870314121246338,
          -7.171220779418945
         ],
         "yaxis": "y"
        },
        {
         "hovertemplate": "label=61<br>x=%{x}<br>y=%{y}<br>goal=%{text}<extra></extra>",
         "legendgroup": "61",
         "marker": {
          "color": "#636efa",
          "opacity": 0.2,
          "symbol": "circle"
         },
         "mode": "markers+text",
         "name": "61",
         "orientation": "v",
         "showlegend": true,
         "text": [
          "See the ball drop in person on New Year’s Eve when it’s safe to do so",
          "Go to Mardi Gras",
          "do something fun",
          "go on a date night",
          "throw a knuckleball"
         ],
         "textfont": {
          "color": "#636efa"
         },
         "type": "scatter",
         "x": [
          7.285216808319092,
          6.196517467498779,
          3.9374430179595947,
          4.280600070953369,
          7.907005310058594
         ],
         "xaxis": "x",
         "y": [
          21.42484474182129,
          24.05736541748047,
          22.058958053588867,
          23.40494728088379,
          19.962779998779297
         ],
         "yaxis": "y"
        },
        {
         "hovertemplate": "label=92<br>x=%{x}<br>y=%{y}<br>goal=%{text}<extra></extra>",
         "legendgroup": "92",
         "marker": {
          "color": "#EF553B",
          "opacity": 0.2,
          "symbol": "circle"
         },
         "mode": "markers+text",
         "name": "92",
         "orientation": "v",
         "showlegend": true,
         "text": [
          "Learn self-defense",
          "learn karate",
          "learn taekwondo",
          "learn how to wrestle",
          "win my wrestling tournament"
         ],
         "textfont": {
          "color": "#EF553B"
         },
         "type": "scatter",
         "x": [
          13.10262393951416,
          12.631507873535156,
          12.567805290222168,
          14.844632148742676,
          14.886089324951172
         ],
         "xaxis": "x",
         "y": [
          8.61214828491211,
          9.829925537109375,
          10.134576797485352,
          12.657110214233398,
          12.752248764038086
         ],
         "yaxis": "y"
        },
        {
         "hovertemplate": "label=85<br>x=%{x}<br>y=%{y}<br>goal=%{text}<extra></extra>",
         "legendgroup": "85",
         "marker": {
          "color": "#00cc96",
          "opacity": 0.2,
          "symbol": "circle"
         },
         "mode": "markers+text",
         "name": "85",
         "orientation": "v",
         "showlegend": true,
         "text": [
          "Always say “yes” to trying new positive things",
          "Avoid negativity in the workplace",
          "Establish a positive mindset",
          "Learn to say no",
          "be more positive"
         ],
         "textfont": {
          "color": "#00cc96"
         },
         "type": "scatter",
         "x": [
          3.9867191314697266,
          1.9092793464660645,
          2.856374502182007,
          5.276110649108887,
          3.0439836978912354
         ],
         "xaxis": "x",
         "y": [
          -30.275468826293945,
          -29.738142013549805,
          -29.70366096496582,
          -29.875804901123047,
          -30.413175582885742
         ],
         "yaxis": "y"
        },
        {
         "hovertemplate": "label=68<br>x=%{x}<br>y=%{y}<br>goal=%{text}<extra></extra>",
         "legendgroup": "68",
         "marker": {
          "color": "#ab63fa",
          "opacity": 0.2,
          "symbol": "circle"
         },
         "mode": "markers+text",
         "name": "68",
         "orientation": "v",
         "showlegend": true,
         "text": [
          "Expand vocabulary",
          "Learn more",
          "Learn something new",
          "Increase Knowledge",
          "Become a lifelong learner",
          "learn something new every day",
          "learn mixology"
         ],
         "textfont": {
          "color": "#ab63fa"
         },
         "type": "scatter",
         "x": [
          6.375576496124268,
          8.081561088562012,
          5.636663436889648,
          5.41148042678833,
          4.114583492279053,
          5.394179821014404,
          7.234405040740967
         ],
         "xaxis": "x",
         "y": [
          -3.852024793624878,
          -2.2351508140563965,
          -1.327968955039978,
          -3.2046639919281006,
          -1.2035293579101562,
          -1.046215534210205,
          0.6134633421897888
         ],
         "yaxis": "y"
        },
        {
         "hovertemplate": "label=14<br>x=%{x}<br>y=%{y}<br>goal=%{text}<extra></extra>",
         "legendgroup": "14",
         "marker": {
          "color": "#FFA15A",
          "opacity": 0.2,
          "symbol": "circle"
         },
         "mode": "markers+text",
         "name": "14",
         "orientation": "v",
         "showlegend": true,
         "text": [
          "Participate in a recreational sports league",
          "get good at basketball",
          "get good at baseball",
          "get good at football",
          "score a touchdown",
          "hit a homerun",
          "join the NBA",
          "join the NFL",
          "join an esports team",
          "go to flamenco every week",
          "get better at pitching"
         ],
         "textfont": {
          "color": "#FFA15A"
         },
         "type": "scatter",
         "x": [
          12.414344787597656,
          9.640498161315918,
          7.672351360321045,
          9.401477813720703,
          9.616864204406738,
          7.416945934295654,
          10.675640106201172,
          10.680773735046387,
          13.082308769226074,
          15.070631980895996,
          7.271326065063477
         ],
         "xaxis": "x",
         "y": [
          17.114665985107422,
          15.796427726745605,
          16.871315002441406,
          17.08075523376465,
          18.87079429626465,
          18.389636993408203,
          16.062850952148438,
          17.36382484436035,
          17.0435791015625,
          17.135658264160156,
          16.513219833374023
         ],
         "yaxis": "y"
        },
        {
         "hovertemplate": "label=67<br>x=%{x}<br>y=%{y}<br>goal=%{text}<extra></extra>",
         "legendgroup": "67",
         "marker": {
          "color": "#19d3f3",
          "opacity": 0.2,
          "symbol": "circle"
         },
         "mode": "markers+text",
         "name": "67",
         "orientation": "v",
         "showlegend": true,
         "text": [
          "Grow a thriving garden",
          "save the environment",
          "make a garden",
          "Growing a big garden"
         ],
         "textfont": {
          "color": "#19d3f3"
         },
         "type": "scatter",
         "x": [
          -21.613962173461914,
          -22.07138442993164,
          -21.037668228149414,
          -21.0196590423584
         ],
         "xaxis": "x",
         "y": [
          30.641977310180664,
          27.705257415771484,
          30.25980567932129,
          30.85668182373047
         ],
         "yaxis": "y"
        },
        {
         "hovertemplate": "label=15<br>x=%{x}<br>y=%{y}<br>goal=%{text}<extra></extra>",
         "legendgroup": "15",
         "marker": {
          "color": "#FF6692",
          "opacity": 0.2,
          "symbol": "circle"
         },
         "mode": "markers+text",
         "name": "15",
         "orientation": "v",
         "showlegend": true,
         "text": [
          "Learn how to code",
          "learn how to code",
          "study regularly",
          "practice coding problems every day",
          "study  ",
          "self-study math geometry and architecture",
          "Taking some classes",
          "Taking more art classes"
         ],
         "textfont": {
          "color": "#FF6692"
         },
         "type": "scatter",
         "x": [
          5.198302268981934,
          5.198307991027832,
          3.773535966873169,
          4.075617790222168,
          3.5533905029296875,
          2.153416872024536,
          1.2160817384719849,
          0.8664805293083191
         ],
         "xaxis": "x",
         "y": [
          2.716972827911377,
          2.7168052196502686,
          6.320612907409668,
          1.8065725564956665,
          6.331768989562988,
          6.948495864868164,
          5.160368919372559,
          4.541120529174805
         ],
         "yaxis": "y"
        },
        {
         "hovertemplate": "label=35<br>x=%{x}<br>y=%{y}<br>goal=%{text}<extra></extra>",
         "legendgroup": "35",
         "marker": {
          "color": "#B6E880",
          "opacity": 0.2,
          "symbol": "circle"
         },
         "mode": "markers+text",
         "name": "35",
         "orientation": "v",
         "showlegend": true,
         "text": [
          "Spend a full day at the spa",
          "Go for a walk every day",
          "go on hikes regularly",
          "Cut your path",
          "hike once a week"
         ],
         "textfont": {
          "color": "#B6E880"
         },
         "type": "scatter",
         "x": [
          21.11651039123535,
          22.1224365234375,
          23.22165298461914,
          20.63857650756836,
          23.56788444519043
         ],
         "xaxis": "x",
         "y": [
          15.290969848632812,
          19.956892013549805,
          20.900039672851562,
          20.349180221557617,
          21.068727493286133
         ],
         "yaxis": "y"
        },
        {
         "hovertemplate": "label=91<br>x=%{x}<br>y=%{y}<br>goal=%{text}<extra></extra>",
         "legendgroup": "91",
         "marker": {
          "color": "#FF97FF",
          "opacity": 0.2,
          "symbol": "circle"
         },
         "mode": "markers+text",
         "name": "91",
         "orientation": "v",
         "showlegend": true,
         "text": [
          "Find purpose in life",
          "Develop a vision for your life",
          "find my purpose"
         ],
         "textfont": {
          "color": "#FF97FF"
         },
         "type": "scatter",
         "x": [
          -11.590500831604004,
          -10.32729721069336,
          -11.894806861877441
         ],
         "xaxis": "x",
         "y": [
          -9.958053588867188,
          -9.956607818603516,
          -9.89448070526123
         ],
         "yaxis": "y"
        },
        {
         "hovertemplate": "label=42<br>x=%{x}<br>y=%{y}<br>goal=%{text}<extra></extra>",
         "legendgroup": "42",
         "marker": {
          "color": "#FECB52",
          "opacity": 0.2,
          "symbol": "circle"
         },
         "mode": "markers+text",
         "name": "42",
         "orientation": "v",
         "showlegend": true,
         "text": [
          "Be more committed",
          "Find a mentor",
          "Become a mentor",
          "be committed",
          "be present in all things I do"
         ],
         "textfont": {
          "color": "#FECB52"
         },
         "type": "scatter",
         "x": [
          -5.03243350982666,
          -6.600489139556885,
          -6.529757499694824,
          -5.121128082275391,
          -7.748308181762695
         ],
         "xaxis": "x",
         "y": [
          -16.051315307617188,
          -11.261460304260254,
          -11.216789245605469,
          -16.031009674072266,
          -14.357870101928711
         ],
         "yaxis": "y"
        },
        {
         "hovertemplate": "label=16<br>x=%{x}<br>y=%{y}<br>goal=%{text}<extra></extra>",
         "legendgroup": "16",
         "marker": {
          "color": "#636efa",
          "opacity": 0.2,
          "symbol": "circle"
         },
         "mode": "markers+text",
         "name": "16",
         "orientation": "v",
         "showlegend": true,
         "text": [
          "Be a good listener",
          "Be a better person",
          "Be more social",
          "Become a better listener",
          "Forgive someone who has hurt you",
          "Become a better listener",
          "stop gossiping",
          "be more friendly",
          "start talking to more people",
          "be more sociable"
         ],
         "textfont": {
          "color": "#636efa"
         },
         "type": "scatter",
         "x": [
          1.583021640777588,
          -1.887710690498352,
          -2.2295706272125244,
          1.3079546689987183,
          -3.054457664489746,
          1.569299578666687,
          -2.39284086227417,
          -3.5409207344055176,
          -3.464862823486328,
          -1.741881012916565
         ],
         "xaxis": "x",
         "y": [
          -25.97675323486328,
          -27.106821060180664,
          -24.825206756591797,
          -25.23794937133789,
          -28.542646408081055,
          -25.208709716796875,
          -22.548885345458984,
          -25.452877044677734,
          -22.097431182861328,
          -25.123924255371094
         ],
         "yaxis": "y"
        },
        {
         "hovertemplate": "label=24<br>x=%{x}<br>y=%{y}<br>goal=%{text}<extra></extra>",
         "legendgroup": "24",
         "marker": {
          "color": "#EF553B",
          "opacity": 0.2,
          "symbol": "circle"
         },
         "mode": "markers+text",
         "name": "24",
         "orientation": "v",
         "showlegend": true,
         "text": [
          "Get into a club",
          "become a bartender",
          "get recruited",
          "join a frat",
          "join a school club",
          "get into a nightclub",
          "Make my frat room dope as fuck"
         ],
         "textfont": {
          "color": "#EF553B"
         },
         "type": "scatter",
         "x": [
          -3.7786529064178467,
          -5.588005065917969,
          -2.9399259090423584,
          -0.2112949788570404,
          -2.912790298461914,
          -4.162065029144287,
          0.1238149106502533
         ],
         "xaxis": "x",
         "y": [
          14.314305305480957,
          13.581404685974121,
          18.003955841064453,
          17.010778427124023,
          14.778035163879395,
          14.07077693939209,
          17.00738525390625
         ],
         "yaxis": "y"
        },
        {
         "hovertemplate": "label=70<br>x=%{x}<br>y=%{y}<br>goal=%{text}<extra></extra>",
         "legendgroup": "70",
         "marker": {
          "color": "#00cc96",
          "opacity": 0.2,
          "symbol": "circle"
         },
         "mode": "markers+text",
         "name": "70",
         "orientation": "v",
         "showlegend": true,
         "text": [
          "Code a video game",
          "stop playing video games",
          "stop gambling",
          "stop betting",
          "Make a video game"
         ],
         "textfont": {
          "color": "#00cc96"
         },
         "type": "scatter",
         "x": [
          29.804765701293945,
          30.867464065551758,
          34.667518615722656,
          34.7626838684082,
          30.062763214111328
         ],
         "xaxis": "x",
         "y": [
          -18.766944885253906,
          -17.525848388671875,
          -18.9715518951416,
          -19.042463302612305,
          -18.474042892456055
         ],
         "yaxis": "y"
        },
        {
         "hovertemplate": "label=62<br>x=%{x}<br>y=%{y}<br>goal=%{text}<extra></extra>",
         "legendgroup": "62",
         "marker": {
          "color": "#ab63fa",
          "opacity": 0.2,
          "symbol": "circle"
         },
         "mode": "markers+text",
         "name": "62",
         "orientation": "v",
         "showlegend": true,
         "text": [
          "Do 30 push-ups every day",
          "Do 20 sit-ups every day",
          "do push-ups every day",
          "do 50 pushups a day",
          "Do 70 push-ups every day",
          "do 40 pushups every day",
          "Do 10 pull-ups a day"
         ],
         "textfont": {
          "color": "#ab63fa"
         },
         "type": "scatter",
         "x": [
          34.502071380615234,
          35.023685455322266,
          33.59640121459961,
          34.83897018432617,
          33.59585189819336,
          34.12632369995117,
          35.79441833496094
         ],
         "xaxis": "x",
         "y": [
          15.249351501464844,
          13.963698387145996,
          14.792012214660645,
          16.482099533081055,
          15.677355766296387,
          16.361061096191406,
          15.299323081970215
         ],
         "yaxis": "y"
        },
        {
         "hovertemplate": "label=27<br>x=%{x}<br>y=%{y}<br>goal=%{text}<extra></extra>",
         "legendgroup": "27",
         "marker": {
          "color": "#FFA15A",
          "opacity": 0.2,
          "symbol": "circle"
         },
         "mode": "markers+text",
         "name": "27",
         "orientation": "v",
         "showlegend": true,
         "text": [
          "Get a degree in a subject that matters to me",
          "get a degree  ",
          "become a doctor",
          "Become a doctor",
          "get into med school",
          "get my driver's license",
          "get a second degree"
         ],
         "textfont": {
          "color": "#FFA15A"
         },
         "type": "scatter",
         "x": [
          -12.29633617401123,
          -12.190848350524902,
          -15.224939346313477,
          -15.224939346313477,
          -14.202174186706543,
          -15.93150806427002,
          -12.672330856323242
         ],
         "xaxis": "x",
         "y": [
          13.947012901306152,
          14.748001098632812,
          18.840055465698242,
          18.840055465698242,
          19.189817428588867,
          14.784934043884277,
          15.29025936126709
         ],
         "yaxis": "y"
        },
        {
         "hovertemplate": "label=59<br>x=%{x}<br>y=%{y}<br>goal=%{text}<extra></extra>",
         "legendgroup": "59",
         "marker": {
          "color": "#19d3f3",
          "opacity": 0.2,
          "symbol": "circle"
         },
         "mode": "markers+text",
         "name": "59",
         "orientation": "v",
         "showlegend": true,
         "text": [
          "Improve my public speaking skills",
          "Improve my communication skills",
          "Improve your interpersonal skills",
          "Improve your body language",
          "get better at communicating",
          "be better at communicating",
          "respond to texts regularly",
          "speak and write with concision and meaning"
         ],
         "textfont": {
          "color": "#19d3f3"
         },
         "type": "scatter",
         "x": [
          3.3171465396881104,
          2.6823079586029053,
          1.303905963897705,
          4.367638111114502,
          2.7479395866394043,
          2.5142757892608643,
          3.2437424659729004,
          5.522619724273682
         ],
         "xaxis": "x",
         "y": [
          -23.169479370117188,
          -22.207094192504883,
          -22.480289459228516,
          -21.88801383972168,
          -21.266870498657227,
          -21.1661319732666,
          -19.90448760986328,
          -19.372573852539062
         ],
         "yaxis": "y"
        },
        {
         "hovertemplate": "label=19<br>x=%{x}<br>y=%{y}<br>goal=%{text}<extra></extra>",
         "legendgroup": "19",
         "marker": {
          "color": "#FF6692",
          "opacity": 0.2,
          "symbol": "circle"
         },
         "mode": "markers+text",
         "name": "19",
         "orientation": "v",
         "showlegend": true,
         "text": [
          "Improve my growth mindset",
          "Learn to understand myself",
          "Practice self-care",
          "Learn how to express yourself",
          "Continue self-improvement",
          "Do some more self identity stuff meaning like figure out gender and things"
         ],
         "textfont": {
          "color": "#FF6692"
         },
         "type": "scatter",
         "x": [
          -2.0489442348480225,
          1.0065792798995972,
          -0.7339752912521362,
          0.703265905380249,
          -0.7082701325416565,
          -0.33281099796295166
         ],
         "xaxis": "x",
         "y": [
          -13.63156795501709,
          -18.107088088989258,
          -16.40469741821289,
          -18.918811798095703,
          -15.738682746887207,
          -19.39450454711914
         ],
         "yaxis": "y"
        },
        {
         "hovertemplate": "label=93<br>x=%{x}<br>y=%{y}<br>goal=%{text}<extra></extra>",
         "legendgroup": "93",
         "marker": {
          "color": "#B6E880",
          "opacity": 0.2,
          "symbol": "circle"
         },
         "mode": "markers+text",
         "name": "93",
         "orientation": "v",
         "showlegend": true,
         "text": [
          "Learn to accept my limits",
          "Never set limits on yourself"
         ],
         "textfont": {
          "color": "#B6E880"
         },
         "type": "scatter",
         "x": [
          18.001596450805664,
          17.98537826538086
         ],
         "xaxis": "x",
         "y": [
          -27.023479461669922,
          -26.97154426574707
         ],
         "yaxis": "y"
        },
        {
         "hovertemplate": "label=56<br>x=%{x}<br>y=%{y}<br>goal=%{text}<extra></extra>",
         "legendgroup": "56",
         "marker": {
          "color": "#FF97FF",
          "opacity": 0.2,
          "symbol": "circle"
         },
         "mode": "markers+text",
         "name": "56",
         "orientation": "v",
         "showlegend": true,
         "text": [
          "Stay open-minded to new opportunities",
          "Improve Job Performance",
          "Work smart",
          "find a new job",
          "find a better job",
          "get a better job",
          "work harder",
          "get my work done",
          "get a new job"
         ],
         "textfont": {
          "color": "#FF97FF"
         },
         "type": "scatter",
         "x": [
          -18.668123245239258,
          -13.98317813873291,
          -16.766380310058594,
          -17.279319763183594,
          -15.487629890441895,
          -15.319803237915039,
          -15.401010513305664,
          -15.10161018371582,
          -16.70757293701172
         ],
         "xaxis": "x",
         "y": [
          2.5851659774780273,
          3.0016820430755615,
          0.1756252944469452,
          3.8340771198272705,
          4.134738922119141,
          3.526235818862915,
          1.3867387771606445,
          0.052131783217191696,
          3.7260162830352783
         ],
         "yaxis": "y"
        },
        {
         "hovertemplate": "label=82<br>x=%{x}<br>y=%{y}<br>goal=%{text}<extra></extra>",
         "legendgroup": "82",
         "marker": {
          "color": "#FECB52",
          "opacity": 0.2,
          "symbol": "circle"
         },
         "mode": "markers+text",
         "name": "82",
         "orientation": "v",
         "showlegend": true,
         "text": [
          "Learn healthy ways to cope with stress",
          "Manage stress",
          "Control your temper",
          "be more relaxed",
          "don't have anxiety"
         ],
         "textfont": {
          "color": "#FECB52"
         },
         "type": "scatter",
         "x": [
          12.588459014892578,
          12.870744705200195,
          14.18733024597168,
          10.03887939453125,
          11.310137748718262
         ],
         "xaxis": "x",
         "y": [
          -25.250822067260742,
          -25.13833236694336,
          -25.076814651489258,
          -24.587766647338867,
          -26.214738845825195
         ],
         "yaxis": "y"
        },
        {
         "hovertemplate": "label=2<br>x=%{x}<br>y=%{y}<br>goal=%{text}<extra></extra>",
         "legendgroup": "2",
         "marker": {
          "color": "#636efa",
          "opacity": 0.2,
          "symbol": "circle"
         },
         "mode": "markers+text",
         "name": "2",
         "orientation": "v",
         "showlegend": true,
         "text": [
          "Start good habits",
          "Eliminate bad habits",
          "Remove toxic people from your life",
          "get straight As",
          "improve the way I dress",
          "get better at makeup",
          "look the way I want to"
         ],
         "textfont": {
          "color": "#636efa"
         },
         "type": "scatter",
         "x": [
          16.649728775024414,
          16.697288513183594,
          15.492133140563965,
          12.664758682250977,
          10.358301162719727,
          9.316701889038086,
          11.728774070739746
         ],
         "xaxis": "x",
         "y": [
          -18.453466415405273,
          -18.589265823364258,
          -22.15987205505371,
          -18.81410026550293,
          -20.280288696289062,
          -21.045387268066406,
          -19.44546127319336
         ],
         "yaxis": "y"
        },
        {
         "hovertemplate": "label=44<br>x=%{x}<br>y=%{y}<br>goal=%{text}<extra></extra>",
         "legendgroup": "44",
         "marker": {
          "color": "#EF553B",
          "opacity": 0.2,
          "symbol": "circle"
         },
         "mode": "markers+text",
         "name": "44",
         "orientation": "v",
         "showlegend": true,
         "text": [
          "Learn from failure",
          "Learn to be patient",
          "Improve one of your weaknesses",
          "be more productive",
          "Be more efficient",
          "stay healhy"
         ],
         "textfont": {
          "color": "#EF553B"
         },
         "type": "scatter",
         "x": [
          2.0299856662750244,
          2.380155563354492,
          2.966829299926758,
          3.891038179397583,
          3.820783853530884,
          3.7763025760650635
         ],
         "xaxis": "x",
         "y": [
          -13.758026123046875,
          -15.850414276123047,
          -13.437816619873047,
          -10.621604919433594,
          -10.517970085144043,
          -16.55406951904297
         ],
         "yaxis": "y"
        },
        {
         "hovertemplate": "label=5<br>x=%{x}<br>y=%{y}<br>goal=%{text}<extra></extra>",
         "legendgroup": "5",
         "marker": {
          "color": "#00cc96",
          "opacity": 0.2,
          "symbol": "circle"
         },
         "mode": "markers+text",
         "name": "5",
         "orientation": "v",
         "showlegend": true,
         "text": [
          "Build a Robust Morning Routine",
          "Get up early",
          "Get enough sleep",
          "wake up at 6am every day",
          "wake up early every day",
          "wake up at 7 am every day",
          "wake up at 4:30 am every day",
          "wake up earlier",
          "get 8 hours of sleep each night",
          "get eight hours of sleep every night",
          "exercise early morning",
          "Getting more sleep"
         ],
         "textfont": {
          "color": "#00cc96"
         },
         "type": "scatter",
         "x": [
          25.980131149291992,
          23.717926025390625,
          22.90411376953125,
          25.07021141052246,
          24.909759521484375,
          25.932859420776367,
          25.728818893432617,
          24.044776916503906,
          24.452430725097656,
          24.581321716308594,
          25.15028953552246,
          22.817249298095703
         ],
         "xaxis": "x",
         "y": [
          -7.5187482833862305,
          -7.971032619476318,
          -11.993136405944824,
          -10.111745834350586,
          -8.679594993591309,
          -10.129305839538574,
          -9.234549522399902,
          -8.766657829284668,
          -12.810303688049316,
          -12.782145500183105,
          -6.8648362159729,
          -12.227460861206055
         ],
         "yaxis": "y"
        },
        {
         "hovertemplate": "label=84<br>x=%{x}<br>y=%{y}<br>goal=%{text}<extra></extra>",
         "legendgroup": "84",
         "marker": {
          "color": "#ab63fa",
          "opacity": 0.2,
          "symbol": "circle"
         },
         "mode": "markers+text",
         "name": "84",
         "orientation": "v",
         "showlegend": true,
         "text": [
          "Accept what you can’t change",
          "Embrace change",
          "Live in the moment"
         ],
         "textfont": {
          "color": "#ab63fa"
         },
         "type": "scatter",
         "x": [
          -17.721206665039062,
          -17.94518280029297,
          -15.312178611755371
         ],
         "xaxis": "x",
         "y": [
          -22.252328872680664,
          -22.31537437438965,
          -23.839370727539062
         ],
         "yaxis": "y"
        },
        {
         "hovertemplate": "label=8<br>x=%{x}<br>y=%{y}<br>goal=%{text}<extra></extra>",
         "legendgroup": "8",
         "marker": {
          "color": "#FFA15A",
          "opacity": 0.2,
          "symbol": "circle"
         },
         "mode": "markers+text",
         "name": "8",
         "orientation": "v",
         "showlegend": true,
         "text": [
          "Hustle every day",
          "run every day",
          "run 3 times a week",
          "Jog 4 times a week",
          "swim every day",
          "swim 5 times a week",
          "jog 3 times a week",
          "cycle every day",
          "go cycling every day"
         ],
         "textfont": {
          "color": "#FFA15A"
         },
         "type": "scatter",
         "x": [
          31.2169189453125,
          30.419662475585938,
          29.948522567749023,
          28.8206787109375,
          27.765430450439453,
          28.005205154418945,
          29.030851364135742,
          25.08951187133789,
          24.81550407409668
         ],
         "xaxis": "x",
         "y": [
          17.935762405395508,
          19.05759048461914,
          20.022066116333008,
          20.520282745361328,
          17.14562225341797,
          17.338979721069336,
          20.230438232421875,
          17.288105010986328,
          17.69971466064453
         ],
         "yaxis": "y"
        },
        {
         "hovertemplate": "label=65<br>x=%{x}<br>y=%{y}<br>goal=%{text}<extra></extra>",
         "legendgroup": "65",
         "marker": {
          "color": "#19d3f3",
          "opacity": 0.2,
          "symbol": "circle"
         },
         "mode": "markers+text",
         "name": "65",
         "orientation": "v",
         "showlegend": true,
         "text": [
          "Capitalize on change",
          "Capitalize on failure"
         ],
         "textfont": {
          "color": "#19d3f3"
         },
         "type": "scatter",
         "x": [
          -38.61122131347656,
          -38.587646484375
         ],
         "xaxis": "x",
         "y": [
          9.51943588256836,
          9.485737800598145
         ],
         "yaxis": "y"
        },
        {
         "hovertemplate": "label=39<br>x=%{x}<br>y=%{y}<br>goal=%{text}<extra></extra>",
         "legendgroup": "39",
         "marker": {
          "color": "#FF6692",
          "opacity": 0.2,
          "symbol": "circle"
         },
         "mode": "markers+text",
         "name": "39",
         "orientation": "v",
         "showlegend": true,
         "text": [
          "Plan and prepare your meals",
          "Have family meals 3 times a week",
          "feed people",
          "don't eat out as often",
          "Making healthy meals in bulk",
          "cook and share high quality nutritious meals",
          "gardening and other local food production"
         ],
         "textfont": {
          "color": "#FF6692"
         },
         "type": "scatter",
         "x": [
          27.556476593017578,
          28.95712661743164,
          26.431554794311523,
          30.503360748291016,
          28.708477020263672,
          26.550552368164062,
          24.794099807739258
         ],
         "xaxis": "x",
         "y": [
          0.5908743143081665,
          -0.433497816324234,
          -1.8940489292144775,
          -0.9613097906112671,
          1.2468141317367554,
          0.47533464431762695,
          -1.5022008419036865
         ],
         "yaxis": "y"
        },
        {
         "hovertemplate": "label=37<br>x=%{x}<br>y=%{y}<br>goal=%{text}<extra></extra>",
         "legendgroup": "37",
         "marker": {
          "color": "#B6E880",
          "opacity": 0.2,
          "symbol": "circle"
         },
         "mode": "markers+text",
         "name": "37",
         "orientation": "v",
         "showlegend": true,
         "text": [
          "be a better boyfriend",
          "be a better girlfriend",
          "get a girlfriend",
          "get a boyfriend",
          "get a hot girlfriend",
          "get a hot boyfriend",
          "be a good boyfriend",
          "be a good girlfriend"
         ],
         "textfont": {
          "color": "#B6E880"
         },
         "type": "scatter",
         "x": [
          -6.3631815910339355,
          -8.371370315551758,
          -8.04443073272705,
          -7.1377410888671875,
          -8.159507751464844,
          -7.558932304382324,
          -6.6407623291015625,
          -7.970348834991455
         ],
         "xaxis": "x",
         "y": [
          -33.268165588378906,
          -33.00139617919922,
          -34.66304016113281,
          -34.97404861450195,
          -36.271820068359375,
          -36.41956329345703,
          -32.75275802612305,
          -32.51978302001953
         ],
         "yaxis": "y"
        },
        {
         "hovertemplate": "label=53<br>x=%{x}<br>y=%{y}<br>goal=%{text}<extra></extra>",
         "legendgroup": "53",
         "marker": {
          "color": "#FF97FF",
          "opacity": 0.2,
          "symbol": "circle"
         },
         "mode": "markers+text",
         "name": "53",
         "orientation": "v",
         "showlegend": true,
         "text": [
          "be kind",
          "give a compliment every day",
          "give more compliments",
          "be attractive",
          "be pretty",
          "be gentle",
          "be kind",
          "be easygoing"
         ],
         "textfont": {
          "color": "#FF97FF"
         },
         "type": "scatter",
         "x": [
          6.447613716125488,
          9.052555084228516,
          9.054113388061523,
          7.595895767211914,
          7.730668544769287,
          8.5343017578125,
          6.447384834289551,
          5.346258640289307
         ],
         "xaxis": "x",
         "y": [
          -36.236427307128906,
          -30.62677764892578,
          -30.574342727661133,
          -33.591609954833984,
          -34.03595733642578,
          -36.0688362121582,
          -36.23611068725586,
          -33.400325775146484
         ],
         "yaxis": "y"
        },
        {
         "hovertemplate": "label=18<br>x=%{x}<br>y=%{y}<br>goal=%{text}<extra></extra>",
         "legendgroup": "18",
         "marker": {
          "color": "#FECB52",
          "opacity": 0.2,
          "symbol": "circle"
         },
         "mode": "markers+text",
         "name": "18",
         "orientation": "v",
         "showlegend": true,
         "text": [
          "leetcode every day",
          "do leetcode every day",
          "get 10k followers on instagram",
          "get 1000 followers"
         ],
         "textfont": {
          "color": "#FECB52"
         },
         "type": "scatter",
         "x": [
          19.32994842529297,
          19.359031677246094,
          16.54512596130371,
          16.511066436767578
         ],
         "xaxis": "x",
         "y": [
          -8.684263229370117,
          -8.689908981323242,
          -14.036163330078125,
          -14.03222942352295
         ],
         "yaxis": "y"
        },
        {
         "hovertemplate": "label=83<br>x=%{x}<br>y=%{y}<br>goal=%{text}<extra></extra>",
         "legendgroup": "83",
         "marker": {
          "color": "#636efa",
          "opacity": 0.2,
          "symbol": "circle"
         },
         "mode": "markers+text",
         "name": "83",
         "orientation": "v",
         "showlegend": true,
         "text": [
          "start following politics",
          "get elected president",
          "become president",
          "get elected to a government position",
          "get elected to the senate",
          "become first chair"
         ],
         "textfont": {
          "color": "#636efa"
         },
         "type": "scatter",
         "x": [
          -21.362768173217773,
          -19.982608795166016,
          -20.1903076171875,
          -20.060264587402344,
          -19.063196182250977,
          -21.898874282836914
         ],
         "xaxis": "x",
         "y": [
          13.257598876953125,
          14.740427017211914,
          15.199616432189941,
          13.691521644592285,
          14.106301307678223,
          15.712288856506348
         ],
         "yaxis": "y"
        },
        {
         "hovertemplate": "label=89<br>x=%{x}<br>y=%{y}<br>goal=%{text}<extra></extra>",
         "legendgroup": "89",
         "marker": {
          "color": "#EF553B",
          "opacity": 0.2,
          "symbol": "circle"
         },
         "mode": "markers+text",
         "name": "89",
         "orientation": "v",
         "showlegend": true,
         "text": [
          "create a label",
          "start a record label"
         ],
         "textfont": {
          "color": "#EF553B"
         },
         "type": "scatter",
         "x": [
          -33.815269470214844,
          -33.67970275878906
         ],
         "xaxis": "x",
         "y": [
          -11.631695747375488,
          -11.789396286010742
         ],
         "yaxis": "y"
        },
        {
         "hovertemplate": "label=79<br>x=%{x}<br>y=%{y}<br>goal=%{text}<extra></extra>",
         "legendgroup": "79",
         "marker": {
          "color": "#00cc96",
          "opacity": 0.2,
          "symbol": "circle"
         },
         "mode": "markers+text",
         "name": "79",
         "orientation": "v",
         "showlegend": true,
         "text": [
          "get an A+ on my physics exam",
          "get good grades this year",
          "take the SAT",
          "get an A on my exam",
          "get a 40",
          "get a 40 this semester"
         ],
         "textfont": {
          "color": "#00cc96"
         },
         "type": "scatter",
         "x": [
          -8.919673919677734,
          -10.3184175491333,
          -8.535430908203125,
          -8.87335205078125,
          -12.342763900756836,
          -12.131583213806152
         ],
         "xaxis": "x",
         "y": [
          23.91060447692871,
          20.772327423095703,
          21.75258445739746,
          23.550085067749023,
          22.870702743530273,
          22.62163734436035
         ],
         "yaxis": "y"
        },
        {
         "hovertemplate": "label=94<br>x=%{x}<br>y=%{y}<br>goal=%{text}<extra></extra>",
         "legendgroup": "94",
         "marker": {
          "color": "#ab63fa",
          "opacity": 0.2,
          "symbol": "circle"
         },
         "mode": "markers+text",
         "name": "94",
         "orientation": "v",
         "showlegend": true,
         "text": [
          "learn about carpentry",
          "Hobbies like wood working",
          "Furniture making",
          "Do more arts and crafts and nature activities with my kids if they're still young enough"
         ],
         "textfont": {
          "color": "#ab63fa"
         },
         "type": "scatter",
         "x": [
          -2.9023146629333496,
          -4.070064067840576,
          -3.176825523376465,
          -5.035252571105957
         ],
         "xaxis": "x",
         "y": [
          6.441214084625244,
          5.116532802581787,
          4.3770833015441895,
          4.645041465759277
         ],
         "yaxis": "y"
        },
        {
         "hovertemplate": "label=54<br>x=%{x}<br>y=%{y}<br>goal=%{text}<extra></extra>",
         "legendgroup": "54",
         "marker": {
          "color": "#FFA15A",
          "opacity": 0.2,
          "symbol": "circle"
         },
         "mode": "markers+text",
         "name": "54",
         "orientation": "v",
         "showlegend": true,
         "text": [
          "go sub-7 on the erg",
          "get a sub 7 minute time rowing",
          "sub 7",
          "sub 6:30",
          "get a sub 6:30"
         ],
         "textfont": {
          "color": "#FFA15A"
         },
         "type": "scatter",
         "x": [
          27.396276473999023,
          27.34766960144043,
          27.118757247924805,
          25.44464111328125,
          25.627779006958008
         ],
         "xaxis": "x",
         "y": [
          31.385007858276367,
          28.69386863708496,
          31.117605209350586,
          29.815401077270508,
          29.57680892944336
         ],
         "yaxis": "y"
        }
       ],
       "layout": {
        "font": {
         "size": 8
        },
        "height": 800,
        "legend": {
         "title": {
          "text": "label"
         },
         "tracegroupgap": 0
        },
        "margin": {
         "t": 60
        },
        "template": {
         "data": {
          "bar": [
           {
            "error_x": {
             "color": "#2a3f5f"
            },
            "error_y": {
             "color": "#2a3f5f"
            },
            "marker": {
             "line": {
              "color": "#E5ECF6",
              "width": 0.5
             },
             "pattern": {
              "fillmode": "overlay",
              "size": 10,
              "solidity": 0.2
             }
            },
            "type": "bar"
           }
          ],
          "barpolar": [
           {
            "marker": {
             "line": {
              "color": "#E5ECF6",
              "width": 0.5
             },
             "pattern": {
              "fillmode": "overlay",
              "size": 10,
              "solidity": 0.2
             }
            },
            "type": "barpolar"
           }
          ],
          "carpet": [
           {
            "aaxis": {
             "endlinecolor": "#2a3f5f",
             "gridcolor": "white",
             "linecolor": "white",
             "minorgridcolor": "white",
             "startlinecolor": "#2a3f5f"
            },
            "baxis": {
             "endlinecolor": "#2a3f5f",
             "gridcolor": "white",
             "linecolor": "white",
             "minorgridcolor": "white",
             "startlinecolor": "#2a3f5f"
            },
            "type": "carpet"
           }
          ],
          "choropleth": [
           {
            "colorbar": {
             "outlinewidth": 0,
             "ticks": ""
            },
            "type": "choropleth"
           }
          ],
          "contour": [
           {
            "colorbar": {
             "outlinewidth": 0,
             "ticks": ""
            },
            "colorscale": [
             [
              0,
              "#0d0887"
             ],
             [
              0.1111111111111111,
              "#46039f"
             ],
             [
              0.2222222222222222,
              "#7201a8"
             ],
             [
              0.3333333333333333,
              "#9c179e"
             ],
             [
              0.4444444444444444,
              "#bd3786"
             ],
             [
              0.5555555555555556,
              "#d8576b"
             ],
             [
              0.6666666666666666,
              "#ed7953"
             ],
             [
              0.7777777777777778,
              "#fb9f3a"
             ],
             [
              0.8888888888888888,
              "#fdca26"
             ],
             [
              1,
              "#f0f921"
             ]
            ],
            "type": "contour"
           }
          ],
          "contourcarpet": [
           {
            "colorbar": {
             "outlinewidth": 0,
             "ticks": ""
            },
            "type": "contourcarpet"
           }
          ],
          "heatmap": [
           {
            "colorbar": {
             "outlinewidth": 0,
             "ticks": ""
            },
            "colorscale": [
             [
              0,
              "#0d0887"
             ],
             [
              0.1111111111111111,
              "#46039f"
             ],
             [
              0.2222222222222222,
              "#7201a8"
             ],
             [
              0.3333333333333333,
              "#9c179e"
             ],
             [
              0.4444444444444444,
              "#bd3786"
             ],
             [
              0.5555555555555556,
              "#d8576b"
             ],
             [
              0.6666666666666666,
              "#ed7953"
             ],
             [
              0.7777777777777778,
              "#fb9f3a"
             ],
             [
              0.8888888888888888,
              "#fdca26"
             ],
             [
              1,
              "#f0f921"
             ]
            ],
            "type": "heatmap"
           }
          ],
          "heatmapgl": [
           {
            "colorbar": {
             "outlinewidth": 0,
             "ticks": ""
            },
            "colorscale": [
             [
              0,
              "#0d0887"
             ],
             [
              0.1111111111111111,
              "#46039f"
             ],
             [
              0.2222222222222222,
              "#7201a8"
             ],
             [
              0.3333333333333333,
              "#9c179e"
             ],
             [
              0.4444444444444444,
              "#bd3786"
             ],
             [
              0.5555555555555556,
              "#d8576b"
             ],
             [
              0.6666666666666666,
              "#ed7953"
             ],
             [
              0.7777777777777778,
              "#fb9f3a"
             ],
             [
              0.8888888888888888,
              "#fdca26"
             ],
             [
              1,
              "#f0f921"
             ]
            ],
            "type": "heatmapgl"
           }
          ],
          "histogram": [
           {
            "marker": {
             "pattern": {
              "fillmode": "overlay",
              "size": 10,
              "solidity": 0.2
             }
            },
            "type": "histogram"
           }
          ],
          "histogram2d": [
           {
            "colorbar": {
             "outlinewidth": 0,
             "ticks": ""
            },
            "colorscale": [
             [
              0,
              "#0d0887"
             ],
             [
              0.1111111111111111,
              "#46039f"
             ],
             [
              0.2222222222222222,
              "#7201a8"
             ],
             [
              0.3333333333333333,
              "#9c179e"
             ],
             [
              0.4444444444444444,
              "#bd3786"
             ],
             [
              0.5555555555555556,
              "#d8576b"
             ],
             [
              0.6666666666666666,
              "#ed7953"
             ],
             [
              0.7777777777777778,
              "#fb9f3a"
             ],
             [
              0.8888888888888888,
              "#fdca26"
             ],
             [
              1,
              "#f0f921"
             ]
            ],
            "type": "histogram2d"
           }
          ],
          "histogram2dcontour": [
           {
            "colorbar": {
             "outlinewidth": 0,
             "ticks": ""
            },
            "colorscale": [
             [
              0,
              "#0d0887"
             ],
             [
              0.1111111111111111,
              "#46039f"
             ],
             [
              0.2222222222222222,
              "#7201a8"
             ],
             [
              0.3333333333333333,
              "#9c179e"
             ],
             [
              0.4444444444444444,
              "#bd3786"
             ],
             [
              0.5555555555555556,
              "#d8576b"
             ],
             [
              0.6666666666666666,
              "#ed7953"
             ],
             [
              0.7777777777777778,
              "#fb9f3a"
             ],
             [
              0.8888888888888888,
              "#fdca26"
             ],
             [
              1,
              "#f0f921"
             ]
            ],
            "type": "histogram2dcontour"
           }
          ],
          "mesh3d": [
           {
            "colorbar": {
             "outlinewidth": 0,
             "ticks": ""
            },
            "type": "mesh3d"
           }
          ],
          "parcoords": [
           {
            "line": {
             "colorbar": {
              "outlinewidth": 0,
              "ticks": ""
             }
            },
            "type": "parcoords"
           }
          ],
          "pie": [
           {
            "automargin": true,
            "type": "pie"
           }
          ],
          "scatter": [
           {
            "fillpattern": {
             "fillmode": "overlay",
             "size": 10,
             "solidity": 0.2
            },
            "type": "scatter"
           }
          ],
          "scatter3d": [
           {
            "line": {
             "colorbar": {
              "outlinewidth": 0,
              "ticks": ""
             }
            },
            "marker": {
             "colorbar": {
              "outlinewidth": 0,
              "ticks": ""
             }
            },
            "type": "scatter3d"
           }
          ],
          "scattercarpet": [
           {
            "marker": {
             "colorbar": {
              "outlinewidth": 0,
              "ticks": ""
             }
            },
            "type": "scattercarpet"
           }
          ],
          "scattergeo": [
           {
            "marker": {
             "colorbar": {
              "outlinewidth": 0,
              "ticks": ""
             }
            },
            "type": "scattergeo"
           }
          ],
          "scattergl": [
           {
            "marker": {
             "colorbar": {
              "outlinewidth": 0,
              "ticks": ""
             }
            },
            "type": "scattergl"
           }
          ],
          "scattermapbox": [
           {
            "marker": {
             "colorbar": {
              "outlinewidth": 0,
              "ticks": ""
             }
            },
            "type": "scattermapbox"
           }
          ],
          "scatterpolar": [
           {
            "marker": {
             "colorbar": {
              "outlinewidth": 0,
              "ticks": ""
             }
            },
            "type": "scatterpolar"
           }
          ],
          "scatterpolargl": [
           {
            "marker": {
             "colorbar": {
              "outlinewidth": 0,
              "ticks": ""
             }
            },
            "type": "scatterpolargl"
           }
          ],
          "scatterternary": [
           {
            "marker": {
             "colorbar": {
              "outlinewidth": 0,
              "ticks": ""
             }
            },
            "type": "scatterternary"
           }
          ],
          "surface": [
           {
            "colorbar": {
             "outlinewidth": 0,
             "ticks": ""
            },
            "colorscale": [
             [
              0,
              "#0d0887"
             ],
             [
              0.1111111111111111,
              "#46039f"
             ],
             [
              0.2222222222222222,
              "#7201a8"
             ],
             [
              0.3333333333333333,
              "#9c179e"
             ],
             [
              0.4444444444444444,
              "#bd3786"
             ],
             [
              0.5555555555555556,
              "#d8576b"
             ],
             [
              0.6666666666666666,
              "#ed7953"
             ],
             [
              0.7777777777777778,
              "#fb9f3a"
             ],
             [
              0.8888888888888888,
              "#fdca26"
             ],
             [
              1,
              "#f0f921"
             ]
            ],
            "type": "surface"
           }
          ],
          "table": [
           {
            "cells": {
             "fill": {
              "color": "#EBF0F8"
             },
             "line": {
              "color": "white"
             }
            },
            "header": {
             "fill": {
              "color": "#C8D4E3"
             },
             "line": {
              "color": "white"
             }
            },
            "type": "table"
           }
          ]
         },
         "layout": {
          "annotationdefaults": {
           "arrowcolor": "#2a3f5f",
           "arrowhead": 0,
           "arrowwidth": 1
          },
          "autotypenumbers": "strict",
          "coloraxis": {
           "colorbar": {
            "outlinewidth": 0,
            "ticks": ""
           }
          },
          "colorscale": {
           "diverging": [
            [
             0,
             "#8e0152"
            ],
            [
             0.1,
             "#c51b7d"
            ],
            [
             0.2,
             "#de77ae"
            ],
            [
             0.3,
             "#f1b6da"
            ],
            [
             0.4,
             "#fde0ef"
            ],
            [
             0.5,
             "#f7f7f7"
            ],
            [
             0.6,
             "#e6f5d0"
            ],
            [
             0.7,
             "#b8e186"
            ],
            [
             0.8,
             "#7fbc41"
            ],
            [
             0.9,
             "#4d9221"
            ],
            [
             1,
             "#276419"
            ]
           ],
           "sequential": [
            [
             0,
             "#0d0887"
            ],
            [
             0.1111111111111111,
             "#46039f"
            ],
            [
             0.2222222222222222,
             "#7201a8"
            ],
            [
             0.3333333333333333,
             "#9c179e"
            ],
            [
             0.4444444444444444,
             "#bd3786"
            ],
            [
             0.5555555555555556,
             "#d8576b"
            ],
            [
             0.6666666666666666,
             "#ed7953"
            ],
            [
             0.7777777777777778,
             "#fb9f3a"
            ],
            [
             0.8888888888888888,
             "#fdca26"
            ],
            [
             1,
             "#f0f921"
            ]
           ],
           "sequentialminus": [
            [
             0,
             "#0d0887"
            ],
            [
             0.1111111111111111,
             "#46039f"
            ],
            [
             0.2222222222222222,
             "#7201a8"
            ],
            [
             0.3333333333333333,
             "#9c179e"
            ],
            [
             0.4444444444444444,
             "#bd3786"
            ],
            [
             0.5555555555555556,
             "#d8576b"
            ],
            [
             0.6666666666666666,
             "#ed7953"
            ],
            [
             0.7777777777777778,
             "#fb9f3a"
            ],
            [
             0.8888888888888888,
             "#fdca26"
            ],
            [
             1,
             "#f0f921"
            ]
           ]
          },
          "colorway": [
           "#636efa",
           "#EF553B",
           "#00cc96",
           "#ab63fa",
           "#FFA15A",
           "#19d3f3",
           "#FF6692",
           "#B6E880",
           "#FF97FF",
           "#FECB52"
          ],
          "font": {
           "color": "#2a3f5f"
          },
          "geo": {
           "bgcolor": "white",
           "lakecolor": "white",
           "landcolor": "#E5ECF6",
           "showlakes": true,
           "showland": true,
           "subunitcolor": "white"
          },
          "hoverlabel": {
           "align": "left"
          },
          "hovermode": "closest",
          "mapbox": {
           "style": "light"
          },
          "paper_bgcolor": "white",
          "plot_bgcolor": "#E5ECF6",
          "polar": {
           "angularaxis": {
            "gridcolor": "white",
            "linecolor": "white",
            "ticks": ""
           },
           "bgcolor": "#E5ECF6",
           "radialaxis": {
            "gridcolor": "white",
            "linecolor": "white",
            "ticks": ""
           }
          },
          "scene": {
           "xaxis": {
            "backgroundcolor": "#E5ECF6",
            "gridcolor": "white",
            "gridwidth": 2,
            "linecolor": "white",
            "showbackground": true,
            "ticks": "",
            "zerolinecolor": "white"
           },
           "yaxis": {
            "backgroundcolor": "#E5ECF6",
            "gridcolor": "white",
            "gridwidth": 2,
            "linecolor": "white",
            "showbackground": true,
            "ticks": "",
            "zerolinecolor": "white"
           },
           "zaxis": {
            "backgroundcolor": "#E5ECF6",
            "gridcolor": "white",
            "gridwidth": 2,
            "linecolor": "white",
            "showbackground": true,
            "ticks": "",
            "zerolinecolor": "white"
           }
          },
          "shapedefaults": {
           "line": {
            "color": "#2a3f5f"
           }
          },
          "ternary": {
           "aaxis": {
            "gridcolor": "white",
            "linecolor": "white",
            "ticks": ""
           },
           "baxis": {
            "gridcolor": "white",
            "linecolor": "white",
            "ticks": ""
           },
           "bgcolor": "#E5ECF6",
           "caxis": {
            "gridcolor": "white",
            "linecolor": "white",
            "ticks": ""
           }
          },
          "title": {
           "x": 0.05
          },
          "xaxis": {
           "automargin": true,
           "gridcolor": "white",
           "linecolor": "white",
           "ticks": "",
           "title": {
            "standoff": 15
           },
           "zerolinecolor": "white",
           "zerolinewidth": 2
          },
          "yaxis": {
           "automargin": true,
           "gridcolor": "white",
           "linecolor": "white",
           "ticks": "",
           "title": {
            "standoff": 15
           },
           "zerolinecolor": "white",
           "zerolinewidth": 2
          }
         }
        },
        "width": 800,
        "xaxis": {
         "anchor": "y",
         "domain": [
          0,
          1
         ],
         "title": {
          "text": "x"
         }
        },
        "yaxis": {
         "anchor": "x",
         "domain": [
          0,
          1
         ],
         "title": {
          "text": "y"
         }
        }
       }
      }
     },
     "metadata": {},
     "output_type": "display_data"
    }
   ],
   "source": [
    "import plotly.express as px\n",
    "\n",
    "fig = px.scatter(goal_2d_embeddings, x=\"x\", y=\"y\", color=\"label\", text=\"goal\", width=800, height=800)\n",
    "fig.for_each_trace(lambda t: t.update(\n",
    "  textfont_color=t.marker.color\n",
    "))\n",
    "fig.update_layout(\n",
    "  font={\n",
    "    \"size\": 8\n",
    "  },\n",
    ")\n",
    "fig.update_traces(\n",
    "  marker={\n",
    "    \"opacity\": 0.2\n",
    "  }\n",
    ")"
   ]
  },
  {
   "cell_type": "code",
   "execution_count": 65,
   "metadata": {},
   "outputs": [],
   "source": [
    "def get_2d_embedding(goal):\n",
    "  return pca.transform(sentence_model.encode(goal, convert_to_numpy=True).reshape(1, -1)).reshape(-1)"
   ]
  }
 ],
 "metadata": {
  "kernelspec": {
   "display_name": "Python 3.9.13 ('env': venv)",
   "language": "python",
   "name": "python3"
  },
  "language_info": {
   "codemirror_mode": {
    "name": "ipython",
    "version": 3
   },
   "file_extension": ".py",
   "mimetype": "text/x-python",
   "name": "python",
   "nbconvert_exporter": "python",
   "pygments_lexer": "ipython3",
   "version": "3.9.13"
  },
  "orig_nbformat": 4,
  "vscode": {
   "interpreter": {
    "hash": "9194b1e404efa8f52f8d47cddb42e2e89b9e28fc99a4d289e4358559e5f1eec2"
   }
  }
 },
 "nbformat": 4,
 "nbformat_minor": 2
}
